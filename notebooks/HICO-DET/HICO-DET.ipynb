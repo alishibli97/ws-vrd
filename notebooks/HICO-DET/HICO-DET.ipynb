{
 "cells": [
  {
   "cell_type": "markdown",
   "metadata": {},
   "source": [
    "# HICO-det\n",
    "\n",
    "[HICO & HICO-DET Benchmarks for Recognizing Human-Object Interactions in Images](http://www-personal.umich.edu/~ywchao/hico/)"
   ]
  },
  {
   "cell_type": "code",
   "execution_count": 1,
   "metadata": {},
   "outputs": [],
   "source": [
    "%matplotlib inline\n",
    "import scipy.io\n",
    "import pandas\n",
    "import cv2\n",
    "import matplotlib.pyplot as plt\n",
    "import numpy as np\n",
    "from pathlib import Path\n",
    "from IPython.display import display, Markdown\n",
    "\n",
    "from xib.datasets import HicoDet\n",
    "\n",
    "hico_dir = Path('../../data/hico_20160224_det_raw')"
   ]
  },
  {
   "cell_type": "markdown",
   "metadata": {},
   "source": [
    "## Data loading"
   ]
  },
  {
   "cell_type": "code",
   "execution_count": 2,
   "metadata": {},
   "outputs": [],
   "source": [
    "f = scipy.io.loadmat(hico_dir.joinpath('anno_bbox.mat').as_posix())"
   ]
  },
  {
   "cell_type": "code",
   "execution_count": 3,
   "metadata": {},
   "outputs": [],
   "source": [
    "actions = []\n",
    "interactions = []\n",
    "\n",
    "for interaction in f['list_action'].squeeze():\n",
    "    interactions.append({\n",
    "        'action': interaction['vname'].item(),\n",
    "        'object': interaction['nname'].item()\n",
    "    })\n",
    "    actions.append({\n",
    "        'action': interaction['vname'].item(),\n",
    "        'ing': interaction['vname_ing'].item(),\n",
    "        'add_def': interaction['add_def'].tolist(),\n",
    "        **({\n",
    "            'id': interaction['synset']['id'].item().item(),\n",
    "            'wid': interaction['synset']['wid'].item().item(),\n",
    "            'name': interaction['synset']['name'].item().item(),\n",
    "            'count': interaction['synset']['count'].item().item(),\n",
    "            'synonymes': interaction['synset']['syn'].item().item(), \n",
    "            'definition': interaction['synset']['def'].item().item(),\n",
    "            'examples': interaction['synset']['ex'].item().tolist()\n",
    "        } if interaction['vname'].item() != 'no_interaction' else {})\n",
    "    })\n",
    "\n",
    "del interaction\n",
    "\n",
    "actions = pd.DataFrame(actions).drop_duplicates('action')\n",
    "interactions = pd.DataFrame(interactions).rename_axis(index='id')"
   ]
  },
  {
   "cell_type": "markdown",
   "metadata": {},
   "source": [
    "Action types (verbs) and their descriptions."
   ]
  },
  {
   "cell_type": "code",
   "execution_count": 4,
   "metadata": {},
   "outputs": [
    {
     "data": {
      "text/html": [
       "<div>\n",
       "<style scoped>\n",
       "    .dataframe tbody tr th:only-of-type {\n",
       "        vertical-align: middle;\n",
       "    }\n",
       "\n",
       "    .dataframe tbody tr th {\n",
       "        vertical-align: top;\n",
       "    }\n",
       "\n",
       "    .dataframe thead th {\n",
       "        text-align: right;\n",
       "    }\n",
       "</style>\n",
       "<table border=\"1\" class=\"dataframe\">\n",
       "  <thead>\n",
       "    <tr style=\"text-align: right;\">\n",
       "      <th></th>\n",
       "      <th>action</th>\n",
       "      <th>ing</th>\n",
       "      <th>add_def</th>\n",
       "      <th>id</th>\n",
       "      <th>wid</th>\n",
       "      <th>name</th>\n",
       "      <th>count</th>\n",
       "      <th>synonymes</th>\n",
       "      <th>definition</th>\n",
       "      <th>examples</th>\n",
       "    </tr>\n",
       "  </thead>\n",
       "  <tbody>\n",
       "    <tr>\n",
       "      <th>0</th>\n",
       "      <td>board</td>\n",
       "      <td>boarding</td>\n",
       "      <td>[]</td>\n",
       "      <td>1.0</td>\n",
       "      <td>v02018049</td>\n",
       "      <td>board.v.01</td>\n",
       "      <td>6</td>\n",
       "      <td>board get_on</td>\n",
       "      <td>get on board of (trains, buses, ships, aircraf...</td>\n",
       "      <td>[]</td>\n",
       "    </tr>\n",
       "    <tr>\n",
       "      <th>1</th>\n",
       "      <td>direct</td>\n",
       "      <td>directing</td>\n",
       "      <td>[]</td>\n",
       "      <td>5.0</td>\n",
       "      <td>v01999798</td>\n",
       "      <td>lead.v.01</td>\n",
       "      <td>131</td>\n",
       "      <td>lead take direct conduct guide</td>\n",
       "      <td>take somebody somewhere</td>\n",
       "      <td>[We lead him to our chief]</td>\n",
       "    </tr>\n",
       "    <tr>\n",
       "      <th>2</th>\n",
       "      <td>exit</td>\n",
       "      <td>exiting</td>\n",
       "      <td>[]</td>\n",
       "      <td>1.0</td>\n",
       "      <td>v02015598</td>\n",
       "      <td>exit.v.01</td>\n",
       "      <td>72</td>\n",
       "      <td>exit go_out get_out leave</td>\n",
       "      <td>move out of or depart from</td>\n",
       "      <td>[leave the room]</td>\n",
       "    </tr>\n",
       "    <tr>\n",
       "      <th>3</th>\n",
       "      <td>fly</td>\n",
       "      <td>flying</td>\n",
       "      <td>[]</td>\n",
       "      <td>3.0</td>\n",
       "      <td>v01941093</td>\n",
       "      <td>fly.v.03</td>\n",
       "      <td>6</td>\n",
       "      <td>fly aviate pilot</td>\n",
       "      <td>operate an airplane</td>\n",
       "      <td>[The pilot flew to Cuba]</td>\n",
       "    </tr>\n",
       "    <tr>\n",
       "      <th>4</th>\n",
       "      <td>inspect</td>\n",
       "      <td>inspecting</td>\n",
       "      <td>[]</td>\n",
       "      <td>1.0</td>\n",
       "      <td>v02165543</td>\n",
       "      <td>inspect.v.01</td>\n",
       "      <td>13</td>\n",
       "      <td>inspect</td>\n",
       "      <td>look over carefully</td>\n",
       "      <td>[Please inspect your father's will carefully]</td>\n",
       "    </tr>\n",
       "    <tr>\n",
       "      <th>...</th>\n",
       "      <td>...</td>\n",
       "      <td>...</td>\n",
       "      <td>...</td>\n",
       "      <td>...</td>\n",
       "      <td>...</td>\n",
       "      <td>...</td>\n",
       "      <td>...</td>\n",
       "      <td>...</td>\n",
       "      <td>...</td>\n",
       "      <td>...</td>\n",
       "    </tr>\n",
       "    <tr>\n",
       "      <th>551</th>\n",
       "      <td>flush</td>\n",
       "      <td>flushing</td>\n",
       "      <td>[]</td>\n",
       "      <td>5.0</td>\n",
       "      <td>v00455529</td>\n",
       "      <td>flush.v.05</td>\n",
       "      <td>0</td>\n",
       "      <td>flush scour purge</td>\n",
       "      <td>rinse, clean, or empty with a liquid</td>\n",
       "      <td>[flush the wound with antibiotics]</td>\n",
       "    </tr>\n",
       "    <tr>\n",
       "      <th>558</th>\n",
       "      <td>brush_with</td>\n",
       "      <td>brushing_with</td>\n",
       "      <td>[]</td>\n",
       "      <td>1.0</td>\n",
       "      <td>v01243809</td>\n",
       "      <td>brush.v.01</td>\n",
       "      <td>11</td>\n",
       "      <td>brush</td>\n",
       "      <td>rub with a brush, or as if with a brush</td>\n",
       "      <td>[Johnson brushed the hairs from his jacket]</td>\n",
       "    </tr>\n",
       "    <tr>\n",
       "      <th>562</th>\n",
       "      <td>install</td>\n",
       "      <td>installing</td>\n",
       "      <td>[]</td>\n",
       "      <td>1.0</td>\n",
       "      <td>v01569566</td>\n",
       "      <td>install.v.01</td>\n",
       "      <td>37</td>\n",
       "      <td>install instal put_in set_up</td>\n",
       "      <td>set up for use</td>\n",
       "      <td>[install the washer and dryer]</td>\n",
       "    </tr>\n",
       "    <tr>\n",
       "      <th>578</th>\n",
       "      <td>lose</td>\n",
       "      <td>losing</td>\n",
       "      <td>[]</td>\n",
       "      <td>1.0</td>\n",
       "      <td>v02287789</td>\n",
       "      <td>lose.v.01</td>\n",
       "      <td>123</td>\n",
       "      <td>lose</td>\n",
       "      <td>fail to keep or to maintain; cease to have, ei...</td>\n",
       "      <td>[She lost her purse when she left it unattende...</td>\n",
       "    </tr>\n",
       "    <tr>\n",
       "      <th>591</th>\n",
       "      <td>toast</td>\n",
       "      <td>toasting</td>\n",
       "      <td>[]</td>\n",
       "      <td>2.0</td>\n",
       "      <td>v01175467</td>\n",
       "      <td>toast.v.02</td>\n",
       "      <td>3</td>\n",
       "      <td>toast drink pledge salute wassail</td>\n",
       "      <td>propose a toast to</td>\n",
       "      <td>[Let us toast the birthday girl!]</td>\n",
       "    </tr>\n",
       "  </tbody>\n",
       "</table>\n",
       "<p>117 rows × 10 columns</p>\n",
       "</div>"
      ],
      "text/plain": [
       "         action            ing add_def   id        wid          name count  \\\n",
       "0         board       boarding      []  1.0  v02018049    board.v.01     6   \n",
       "1        direct      directing      []  5.0  v01999798     lead.v.01   131   \n",
       "2          exit        exiting      []  1.0  v02015598     exit.v.01    72   \n",
       "3           fly         flying      []  3.0  v01941093      fly.v.03     6   \n",
       "4       inspect     inspecting      []  1.0  v02165543  inspect.v.01    13   \n",
       "..          ...            ...     ...  ...        ...           ...   ...   \n",
       "551       flush       flushing      []  5.0  v00455529    flush.v.05     0   \n",
       "558  brush_with  brushing_with      []  1.0  v01243809    brush.v.01    11   \n",
       "562     install     installing      []  1.0  v01569566  install.v.01    37   \n",
       "578        lose         losing      []  1.0  v02287789     lose.v.01   123   \n",
       "591       toast       toasting      []  2.0  v01175467    toast.v.02     3   \n",
       "\n",
       "                             synonymes  \\\n",
       "0                         board get_on   \n",
       "1       lead take direct conduct guide   \n",
       "2            exit go_out get_out leave   \n",
       "3                     fly aviate pilot   \n",
       "4                              inspect   \n",
       "..                                 ...   \n",
       "551                  flush scour purge   \n",
       "558                              brush   \n",
       "562       install instal put_in set_up   \n",
       "578                               lose   \n",
       "591  toast drink pledge salute wassail   \n",
       "\n",
       "                                            definition  \\\n",
       "0    get on board of (trains, buses, ships, aircraf...   \n",
       "1                              take somebody somewhere   \n",
       "2                           move out of or depart from   \n",
       "3                                  operate an airplane   \n",
       "4                                  look over carefully   \n",
       "..                                                 ...   \n",
       "551               rinse, clean, or empty with a liquid   \n",
       "558            rub with a brush, or as if with a brush   \n",
       "562                                     set up for use   \n",
       "578  fail to keep or to maintain; cease to have, ei...   \n",
       "591                                 propose a toast to   \n",
       "\n",
       "                                              examples  \n",
       "0                                                   []  \n",
       "1                           [We lead him to our chief]  \n",
       "2                                     [leave the room]  \n",
       "3                             [The pilot flew to Cuba]  \n",
       "4        [Please inspect your father's will carefully]  \n",
       "..                                                 ...  \n",
       "551                 [flush the wound with antibiotics]  \n",
       "558        [Johnson brushed the hairs from his jacket]  \n",
       "562                     [install the washer and dryer]  \n",
       "578  [She lost her purse when she left it unattende...  \n",
       "591                  [Let us toast the birthday girl!]  \n",
       "\n",
       "[117 rows x 10 columns]"
      ]
     },
     "execution_count": 4,
     "metadata": {},
     "output_type": "execute_result"
    }
   ],
   "source": [
    "actions"
   ]
  },
  {
   "cell_type": "markdown",
   "metadata": {},
   "source": [
    "Interaction types (verb + object), subject is always \"person\"."
   ]
  },
  {
   "cell_type": "code",
   "execution_count": 5,
   "metadata": {},
   "outputs": [
    {
     "data": {
      "text/html": [
       "<div>\n",
       "<style scoped>\n",
       "    .dataframe tbody tr th:only-of-type {\n",
       "        vertical-align: middle;\n",
       "    }\n",
       "\n",
       "    .dataframe tbody tr th {\n",
       "        vertical-align: top;\n",
       "    }\n",
       "\n",
       "    .dataframe thead th {\n",
       "        text-align: right;\n",
       "    }\n",
       "</style>\n",
       "<table border=\"1\" class=\"dataframe\">\n",
       "  <thead>\n",
       "    <tr style=\"text-align: right;\">\n",
       "      <th></th>\n",
       "      <th>action</th>\n",
       "      <th>object</th>\n",
       "    </tr>\n",
       "    <tr>\n",
       "      <th>id</th>\n",
       "      <th></th>\n",
       "      <th></th>\n",
       "    </tr>\n",
       "  </thead>\n",
       "  <tbody>\n",
       "    <tr>\n",
       "      <th>0</th>\n",
       "      <td>board</td>\n",
       "      <td>airplane</td>\n",
       "    </tr>\n",
       "    <tr>\n",
       "      <th>1</th>\n",
       "      <td>direct</td>\n",
       "      <td>airplane</td>\n",
       "    </tr>\n",
       "    <tr>\n",
       "      <th>2</th>\n",
       "      <td>exit</td>\n",
       "      <td>airplane</td>\n",
       "    </tr>\n",
       "    <tr>\n",
       "      <th>3</th>\n",
       "      <td>fly</td>\n",
       "      <td>airplane</td>\n",
       "    </tr>\n",
       "    <tr>\n",
       "      <th>4</th>\n",
       "      <td>inspect</td>\n",
       "      <td>airplane</td>\n",
       "    </tr>\n",
       "    <tr>\n",
       "      <th>...</th>\n",
       "      <td>...</td>\n",
       "      <td>...</td>\n",
       "    </tr>\n",
       "    <tr>\n",
       "      <th>595</th>\n",
       "      <td>feed</td>\n",
       "      <td>zebra</td>\n",
       "    </tr>\n",
       "    <tr>\n",
       "      <th>596</th>\n",
       "      <td>hold</td>\n",
       "      <td>zebra</td>\n",
       "    </tr>\n",
       "    <tr>\n",
       "      <th>597</th>\n",
       "      <td>pet</td>\n",
       "      <td>zebra</td>\n",
       "    </tr>\n",
       "    <tr>\n",
       "      <th>598</th>\n",
       "      <td>watch</td>\n",
       "      <td>zebra</td>\n",
       "    </tr>\n",
       "    <tr>\n",
       "      <th>599</th>\n",
       "      <td>no_interaction</td>\n",
       "      <td>zebra</td>\n",
       "    </tr>\n",
       "  </tbody>\n",
       "</table>\n",
       "<p>600 rows × 2 columns</p>\n",
       "</div>"
      ],
      "text/plain": [
       "             action    object\n",
       "id                           \n",
       "0             board  airplane\n",
       "1            direct  airplane\n",
       "2              exit  airplane\n",
       "3               fly  airplane\n",
       "4           inspect  airplane\n",
       "..              ...       ...\n",
       "595            feed     zebra\n",
       "596            hold     zebra\n",
       "597             pet     zebra\n",
       "598           watch     zebra\n",
       "599  no_interaction     zebra\n",
       "\n",
       "[600 rows x 2 columns]"
      ]
     },
     "execution_count": 5,
     "metadata": {},
     "output_type": "execute_result"
    }
   ],
   "source": [
    "interactions"
   ]
  },
  {
   "cell_type": "markdown",
   "metadata": {},
   "source": [
    "Objects"
   ]
  },
  {
   "cell_type": "code",
   "execution_count": 6,
   "metadata": {},
   "outputs": [
    {
     "name": "stdout",
     "output_type": "stream",
     "text": [
      " 0 airplane         1 bicycle          2 bird             3 boat           \n",
      " 4 bottle           5 bus              6 car              7 cat            \n",
      " 8 chair            9 couch           10 cow             11 dining_table   \n",
      "12 dog             13 horse           14 motorcycle      15 person         \n",
      "16 potted_plant    17 sheep           18 train           19 tv             \n",
      "20 apple           21 backpack        22 banana          23 baseball_bat   \n",
      "24 baseball_glove  25 bear            26 bed             27 bench          \n",
      "28 book            29 bowl            30 broccoli        31 cake           \n",
      "32 carrot          33 cell_phone      34 clock           35 cup            \n",
      "36 donut           37 elephant        38 fire_hydrant    39 fork           \n",
      "40 frisbee         41 giraffe         42 hair_drier      43 handbag        \n",
      "44 hot_dog         45 keyboard        46 kite            47 knife          \n",
      "48 laptop          49 microwave       50 mouse           51 orange         \n",
      "52 oven            53 parking_meter   54 pizza           55 refrigerator   \n",
      "56 remote          57 sandwich        58 scissors        59 sink           \n",
      "60 skateboard      61 skis            62 snowboard       63 spoon          \n",
      "64 sports_ball     65 stop_sign       66 suitcase        67 surfboard      \n",
      "68 teddy_bear      69 tennis_racket   70 tie             71 toaster        \n",
      "72 toilet          73 toothbrush      74 traffic_light   75 truck          \n",
      "76 umbrella        77 vase            78 wine_glass      79 zebra          \n"
     ]
    }
   ],
   "source": [
    "for class_idx, class_name in enumerate(interactions.object.drop_duplicates().tolist()):\n",
    "    print(f'{class_idx:2} {class_name:15}', end='\\n' if (class_idx + 1) % 4 == 0 else ' ')"
   ]
  },
  {
   "cell_type": "markdown",
   "metadata": {},
   "source": [
    "Actions"
   ]
  },
  {
   "cell_type": "code",
   "execution_count": 7,
   "metadata": {},
   "outputs": [
    {
     "name": "stdout",
     "output_type": "stream",
     "text": [
      " 0 board            1 direct           2 exit             3 fly            \n",
      " 4 inspect          5 load             6 ride             7 sit_on         \n",
      " 8 wash             9 no_interaction  10 carry           11 hold           \n",
      "12 jump            13 hop_on          14 park            15 push           \n",
      "16 repair          17 straddle        18 walk            19 chase          \n",
      "20 feed            21 pet             22 release         23 watch          \n",
      "24 drive           25 launch          26 row             27 sail           \n",
      "28 stand_on        29 tie             30 drink_with      31 lick           \n",
      "32 open            33 pour            34 wave            35 hose           \n",
      "36 dry             37 hug             38 kiss            39 scratch        \n",
      "40 lie_on          41 herd            42 lasso           43 milk           \n",
      "44 clean           45 eat_at          46 sit_at          47 groom          \n",
      "48 run             49 train           50 race            51 turn           \n",
      "52 greet           53 stab            54 tag             55 teach          \n",
      "56 shear           57 control         58 buy             59 cut            \n",
      "60 eat             61 peel            62 pick            63 smell          \n",
      "64 wear            65 break           66 sign            67 swing          \n",
      "68 throw           69 wield           70 hunt            71 read           \n",
      "72 stir            73 blow            74 light           75 make           \n",
      "76 pick_up         77 cook            78 talk_on         79 text_on        \n",
      "80 check           81 set             82 sip             83 fill           \n",
      "84 paint           85 lift            86 stick           87 block          \n",
      "88 catch           89 spin            90 operate         91 type_on        \n",
      "92 assemble        93 pull            94 cut_with        95 squeeze        \n",
      "96 pay             97 slide           98 move            99 point          \n",
      "100 flip            101 grind           102 adjust          103 dribble        \n",
      "104 hit             105 kick            106 serve           107 stand_under    \n",
      "108 stop_at         109 drag            110 pack            111 zip            \n",
      "112 flush           113 brush_with      114 install         115 lose           \n",
      "116 toast           "
     ]
    }
   ],
   "source": [
    "for class_idx, class_name in enumerate(interactions.action.drop_duplicates().tolist()):\n",
    "    print(f'{class_idx:2} {class_name:15}', end='\\n' if (class_idx + 1) % 4 == 0 else ' ')"
   ]
  },
  {
   "cell_type": "markdown",
   "metadata": {},
   "source": [
    "Image shapes"
   ]
  },
  {
   "cell_type": "code",
   "execution_count": 8,
   "metadata": {},
   "outputs": [
    {
     "data": {
      "image/png": "[encoded data removed]",
      "text/plain": [
       "<Figure size 720x216 with 3 Axes>"
      ]
     },
     "metadata": {
      "needs_background": "light"
     },
     "output_type": "display_data"
    }
   ],
   "source": [
    "img_info = []\n",
    "for img in f['bbox_train'].squeeze():\n",
    "    img_info.append({\n",
    "        'filename': img['filename'].item(),\n",
    "        'D': img['size']['depth'].item().item(),\n",
    "        'H': img['size']['height'].item().item(),\n",
    "        'W': img['size']['width'].item().item()\n",
    "    })\n",
    "del img\n",
    "img_info = pd.DataFrame(img_info)\n",
    "img_info.drop(columns='filename').hist(layout=(1,3), figsize=(10, 3), grid=False);"
   ]
  },
  {
   "cell_type": "code",
   "execution_count": 9,
   "metadata": {},
   "outputs": [
    {
     "data": {
      "image/png": "[encoded data removed]",
      "text/plain": [
       "<Figure size 432x288 with 1 Axes>"
      ]
     },
     "metadata": {
      "needs_background": "light"
     },
     "output_type": "display_data"
    }
   ],
   "source": [
    "fig, ax = plt.subplots(1, 1)\n",
    "ax.scatter(img_info.W, img_info.H, marker='.', alpha=.1)\n",
    "ax.set_xlabel('W')\n",
    "ax.set_ylabel('H   ', rotation=0)\n",
    "ax.set_aspect('equal');"
   ]
  },
  {
   "cell_type": "markdown",
   "metadata": {},
   "source": [
    "Each sample has this structure (from the attached documentation):\n",
    "```\n",
    "filename: file names\n",
    "        size:     image width, hieght, depth\n",
    "        hoi:      HOI annotations\n",
    "            id:          action index of list_action\n",
    "            bboxhuman:   human bounding boxes\n",
    "            bboxobject:  object bounding boxes\n",
    "            connection:  instances of HOI (human-object pairs); each row is\n",
    "                         one instance, represented by a pair of human bbox\n",
    "                         index and object bbox index\n",
    "            invis:       1: HOI invisible; bboxhuman/bboxobject/connection\n",
    "                            will be empty\n",
    "                         0: HOI visible; bboxhuman/bboxobject/connection\n",
    "                            will not be empty\n",
    "```"
   ]
  },
  {
   "cell_type": "code",
   "execution_count": 10,
   "metadata": {},
   "outputs": [],
   "source": [
    "samples = []\n",
    "\n",
    "for img in f['bbox_train'].squeeze():\n",
    "    filename = img['filename'].item()\n",
    "    \n",
    "    # All interaction types, e.g. (person, load, truck)\n",
    "    for interaction in img['hoi'].squeeze(0):\n",
    "        interaction_id = interaction['id'].item() - 1\n",
    "        \n",
    "        # Invisible interaction, no humans or objects visible\n",
    "        if interaction['invis'].item() == 1:\n",
    "            samples.append({\n",
    "                'filename': filename,\n",
    "                'interaction_id': interaction_id,\n",
    "                'instance_id': -1,\n",
    "                'bb_human': None,\n",
    "                'bb_object': None,\n",
    "                'visible': False,\n",
    "            })\n",
    "            continue\n",
    "        \n",
    "        # All humans involved in one or more instances of this interaction\n",
    "        humans = [\n",
    "            (human['x1'].item(), human['y1'].item(), human['x2'].item(), human['y2'].item())\n",
    "            for human in interaction['bboxhuman'].squeeze(0)\n",
    "        ]\n",
    "            \n",
    "        # All objects involved in one or more instances of this interaction\n",
    "        objects = [\n",
    "            (object['x1'].item(), object['y1'].item(), object['x2'].item(), object['y2'].item())\n",
    "            for object in interaction['bboxobject'].squeeze(0)\n",
    "        ]\n",
    "        \n",
    "        # All instances of this interaction type, e.g.\n",
    "        # (person1, loads, truck1)\n",
    "        # (person2, loads, truck1)\n",
    "        # (person3, loads, truck2)\n",
    "        action_instances = interaction['connection'].shape[0]\n",
    "        for instance_id, instance in enumerate(interaction['connection']):          \n",
    "            samples.append({\n",
    "                'filename': filename,\n",
    "                'interaction_id': interaction_id,\n",
    "                'instance_id': instance_id,\n",
    "                'bb_human': humans[instance[0] - 1],\n",
    "                'bb_object': objects[instance[1] - 1],\n",
    "                'visible': True,\n",
    "            })\n",
    "\n",
    "samples = pd.DataFrame(samples)"
   ]
  },
  {
   "cell_type": "code",
   "execution_count": 11,
   "metadata": {},
   "outputs": [
    {
     "data": {
      "text/html": [
       "<style  type=\"text/css\" >\n",
       "</style><table id=\"T_c56b8878_475e_11ea_a51b_a9c05f8366e5\" ><thead>    <tr>        <th class=\"col_heading level0 col0\" >filename</th>        <th class=\"col_heading level0 col1\" >interaction_id</th>        <th class=\"col_heading level0 col2\" >instance_id</th>        <th class=\"col_heading level0 col3\" >bb_human</th>        <th class=\"col_heading level0 col4\" >bb_object</th>        <th class=\"col_heading level0 col5\" >visible</th>        <th class=\"col_heading level0 col6\" >action</th>        <th class=\"col_heading level0 col7\" >object</th>    </tr></thead><tbody>\n",
       "                <tr>\n",
       "                                <td id=\"T_c56b8878_475e_11ea_a51b_a9c05f8366e5row0_col0\" class=\"data row0 col0\" >HICO_train2015_00000001.jpg</td>\n",
       "                        <td id=\"T_c56b8878_475e_11ea_a51b_a9c05f8366e5row0_col1\" class=\"data row0 col1\" >152</td>\n",
       "                        <td id=\"T_c56b8878_475e_11ea_a51b_a9c05f8366e5row0_col2\" class=\"data row0 col2\" >0</td>\n",
       "                        <td id=\"T_c56b8878_475e_11ea_a51b_a9c05f8366e5row0_col3\" class=\"data row0 col3\" >(208, 33, 427, 300)</td>\n",
       "                        <td id=\"T_c56b8878_475e_11ea_a51b_a9c05f8366e5row0_col4\" class=\"data row0 col4\" >(59, 98, 572, 405)</td>\n",
       "                        <td id=\"T_c56b8878_475e_11ea_a51b_a9c05f8366e5row0_col5\" class=\"data row0 col5\" >True</td>\n",
       "                        <td id=\"T_c56b8878_475e_11ea_a51b_a9c05f8366e5row0_col6\" class=\"data row0 col6\" >race</td>\n",
       "                        <td id=\"T_c56b8878_475e_11ea_a51b_a9c05f8366e5row0_col7\" class=\"data row0 col7\" >motorcycle</td>\n",
       "            </tr>\n",
       "            <tr>\n",
       "                                <td id=\"T_c56b8878_475e_11ea_a51b_a9c05f8366e5row1_col0\" class=\"data row1 col0\" >HICO_train2015_00000001.jpg</td>\n",
       "                        <td id=\"T_c56b8878_475e_11ea_a51b_a9c05f8366e5row1_col1\" class=\"data row1 col1\" >155</td>\n",
       "                        <td id=\"T_c56b8878_475e_11ea_a51b_a9c05f8366e5row1_col2\" class=\"data row1 col2\" >0</td>\n",
       "                        <td id=\"T_c56b8878_475e_11ea_a51b_a9c05f8366e5row1_col3\" class=\"data row1 col3\" >(209, 26, 444, 317)</td>\n",
       "                        <td id=\"T_c56b8878_475e_11ea_a51b_a9c05f8366e5row1_col4\" class=\"data row1 col4\" >(59, 99, 579, 395)</td>\n",
       "                        <td id=\"T_c56b8878_475e_11ea_a51b_a9c05f8366e5row1_col5\" class=\"data row1 col5\" >True</td>\n",
       "                        <td id=\"T_c56b8878_475e_11ea_a51b_a9c05f8366e5row1_col6\" class=\"data row1 col6\" >straddle</td>\n",
       "                        <td id=\"T_c56b8878_475e_11ea_a51b_a9c05f8366e5row1_col7\" class=\"data row1 col7\" >motorcycle</td>\n",
       "            </tr>\n",
       "            <tr>\n",
       "                                <td id=\"T_c56b8878_475e_11ea_a51b_a9c05f8366e5row2_col0\" class=\"data row2 col0\" >HICO_train2015_00000001.jpg</td>\n",
       "                        <td id=\"T_c56b8878_475e_11ea_a51b_a9c05f8366e5row2_col1\" class=\"data row2 col1\" >154</td>\n",
       "                        <td id=\"T_c56b8878_475e_11ea_a51b_a9c05f8366e5row2_col2\" class=\"data row2 col2\" >0</td>\n",
       "                        <td id=\"T_c56b8878_475e_11ea_a51b_a9c05f8366e5row2_col3\" class=\"data row2 col3\" >(206, 33, 427, 306)</td>\n",
       "                        <td id=\"T_c56b8878_475e_11ea_a51b_a9c05f8366e5row2_col4\" class=\"data row2 col4\" >(61, 100, 571, 401)</td>\n",
       "                        <td id=\"T_c56b8878_475e_11ea_a51b_a9c05f8366e5row2_col5\" class=\"data row2 col5\" >True</td>\n",
       "                        <td id=\"T_c56b8878_475e_11ea_a51b_a9c05f8366e5row2_col6\" class=\"data row2 col6\" >sit_on</td>\n",
       "                        <td id=\"T_c56b8878_475e_11ea_a51b_a9c05f8366e5row2_col7\" class=\"data row2 col7\" >motorcycle</td>\n",
       "            </tr>\n",
       "            <tr>\n",
       "                                <td id=\"T_c56b8878_475e_11ea_a51b_a9c05f8366e5row3_col0\" class=\"data row3 col0\" >HICO_train2015_00000001.jpg</td>\n",
       "                        <td id=\"T_c56b8878_475e_11ea_a51b_a9c05f8366e5row3_col1\" class=\"data row3 col1\" >153</td>\n",
       "                        <td id=\"T_c56b8878_475e_11ea_a51b_a9c05f8366e5row3_col2\" class=\"data row3 col2\" >0</td>\n",
       "                        <td id=\"T_c56b8878_475e_11ea_a51b_a9c05f8366e5row3_col3\" class=\"data row3 col3\" >(213, 20, 438, 357)</td>\n",
       "                        <td id=\"T_c56b8878_475e_11ea_a51b_a9c05f8366e5row3_col4\" class=\"data row3 col4\" >(77, 115, 583, 396)</td>\n",
       "                        <td id=\"T_c56b8878_475e_11ea_a51b_a9c05f8366e5row3_col5\" class=\"data row3 col5\" >True</td>\n",
       "                        <td id=\"T_c56b8878_475e_11ea_a51b_a9c05f8366e5row3_col6\" class=\"data row3 col6\" >ride</td>\n",
       "                        <td id=\"T_c56b8878_475e_11ea_a51b_a9c05f8366e5row3_col7\" class=\"data row3 col7\" >motorcycle</td>\n",
       "            </tr>\n",
       "            <tr>\n",
       "                                <td id=\"T_c56b8878_475e_11ea_a51b_a9c05f8366e5row4_col0\" class=\"data row4 col0\" >HICO_train2015_00000002.jpg</td>\n",
       "                        <td id=\"T_c56b8878_475e_11ea_a51b_a9c05f8366e5row4_col1\" class=\"data row4 col1\" >223</td>\n",
       "                        <td id=\"T_c56b8878_475e_11ea_a51b_a9c05f8366e5row4_col2\" class=\"data row4 col2\" >0</td>\n",
       "                        <td id=\"T_c56b8878_475e_11ea_a51b_a9c05f8366e5row4_col3\" class=\"data row4 col3\" >(262, 1, 638, 138)</td>\n",
       "                        <td id=\"T_c56b8878_475e_11ea_a51b_a9c05f8366e5row4_col4\" class=\"data row4 col4\" >(162, 131, 258, 165)</td>\n",
       "                        <td id=\"T_c56b8878_475e_11ea_a51b_a9c05f8366e5row4_col5\" class=\"data row4 col5\" >True</td>\n",
       "                        <td id=\"T_c56b8878_475e_11ea_a51b_a9c05f8366e5row4_col6\" class=\"data row4 col6\" >no_interaction</td>\n",
       "                        <td id=\"T_c56b8878_475e_11ea_a51b_a9c05f8366e5row4_col7\" class=\"data row4 col7\" >banana</td>\n",
       "            </tr>\n",
       "            <tr>\n",
       "                                <td id=\"T_c56b8878_475e_11ea_a51b_a9c05f8366e5row5_col0\" class=\"data row5 col0\" >HICO_train2015_00000003.jpg</td>\n",
       "                        <td id=\"T_c56b8878_475e_11ea_a51b_a9c05f8366e5row5_col1\" class=\"data row5 col1\" >64</td>\n",
       "                        <td id=\"T_c56b8878_475e_11ea_a51b_a9c05f8366e5row5_col2\" class=\"data row5 col2\" >0</td>\n",
       "                        <td id=\"T_c56b8878_475e_11ea_a51b_a9c05f8366e5row5_col3\" class=\"data row5 col3\" >(567, 361, 580, 390)</td>\n",
       "                        <td id=\"T_c56b8878_475e_11ea_a51b_a9c05f8366e5row5_col4\" class=\"data row5 col4\" >(74, 52, 510, 484)</td>\n",
       "                        <td id=\"T_c56b8878_475e_11ea_a51b_a9c05f8366e5row5_col5\" class=\"data row5 col5\" >True</td>\n",
       "                        <td id=\"T_c56b8878_475e_11ea_a51b_a9c05f8366e5row5_col6\" class=\"data row5 col6\" >no_interaction</td>\n",
       "                        <td id=\"T_c56b8878_475e_11ea_a51b_a9c05f8366e5row5_col7\" class=\"data row5 col7\" >bus</td>\n",
       "            </tr>\n",
       "            <tr>\n",
       "                                <td id=\"T_c56b8878_475e_11ea_a51b_a9c05f8366e5row6_col0\" class=\"data row6 col0\" >HICO_train2015_00000004.jpg</td>\n",
       "                        <td id=\"T_c56b8878_475e_11ea_a51b_a9c05f8366e5row6_col1\" class=\"data row6 col1\" >47</td>\n",
       "                        <td id=\"T_c56b8878_475e_11ea_a51b_a9c05f8366e5row6_col2\" class=\"data row6 col2\" >0</td>\n",
       "                        <td id=\"T_c56b8878_475e_11ea_a51b_a9c05f8366e5row6_col3\" class=\"data row6 col3\" >(223, 29, 484, 368)</td>\n",
       "                        <td id=\"T_c56b8878_475e_11ea_a51b_a9c05f8366e5row6_col4\" class=\"data row6 col4\" >(269, 89, 363, 122)</td>\n",
       "                        <td id=\"T_c56b8878_475e_11ea_a51b_a9c05f8366e5row6_col5\" class=\"data row6 col5\" >True</td>\n",
       "                        <td id=\"T_c56b8878_475e_11ea_a51b_a9c05f8366e5row6_col6\" class=\"data row6 col6\" >drink_with</td>\n",
       "                        <td id=\"T_c56b8878_475e_11ea_a51b_a9c05f8366e5row6_col7\" class=\"data row6 col7\" >bottle</td>\n",
       "            </tr>\n",
       "            <tr>\n",
       "                                <td id=\"T_c56b8878_475e_11ea_a51b_a9c05f8366e5row7_col0\" class=\"data row7 col0\" >HICO_train2015_00000004.jpg</td>\n",
       "                        <td id=\"T_c56b8878_475e_11ea_a51b_a9c05f8366e5row7_col1\" class=\"data row7 col1\" >48</td>\n",
       "                        <td id=\"T_c56b8878_475e_11ea_a51b_a9c05f8366e5row7_col2\" class=\"data row7 col2\" >0</td>\n",
       "                        <td id=\"T_c56b8878_475e_11ea_a51b_a9c05f8366e5row7_col3\" class=\"data row7 col3\" >(221, 30, 485, 372)</td>\n",
       "                        <td id=\"T_c56b8878_475e_11ea_a51b_a9c05f8366e5row7_col4\" class=\"data row7 col4\" >(261, 86, 367, 122)</td>\n",
       "                        <td id=\"T_c56b8878_475e_11ea_a51b_a9c05f8366e5row7_col5\" class=\"data row7 col5\" >True</td>\n",
       "                        <td id=\"T_c56b8878_475e_11ea_a51b_a9c05f8366e5row7_col6\" class=\"data row7 col6\" >hold</td>\n",
       "                        <td id=\"T_c56b8878_475e_11ea_a51b_a9c05f8366e5row7_col7\" class=\"data row7 col7\" >bottle</td>\n",
       "            </tr>\n",
       "            <tr>\n",
       "                                <td id=\"T_c56b8878_475e_11ea_a51b_a9c05f8366e5row8_col0\" class=\"data row8 col0\" >HICO_train2015_00000005.jpg</td>\n",
       "                        <td id=\"T_c56b8878_475e_11ea_a51b_a9c05f8366e5row8_col1\" class=\"data row8 col1\" >241</td>\n",
       "                        <td id=\"T_c56b8878_475e_11ea_a51b_a9c05f8366e5row8_col2\" class=\"data row8 col2\" >0</td>\n",
       "                        <td id=\"T_c56b8878_475e_11ea_a51b_a9c05f8366e5row8_col3\" class=\"data row8 col3\" >(82, 154, 203, 272)</td>\n",
       "                        <td id=\"T_c56b8878_475e_11ea_a51b_a9c05f8366e5row8_col4\" class=\"data row8 col4\" >(1, 176, 313, 422)</td>\n",
       "                        <td id=\"T_c56b8878_475e_11ea_a51b_a9c05f8366e5row8_col5\" class=\"data row8 col5\" >True</td>\n",
       "                        <td id=\"T_c56b8878_475e_11ea_a51b_a9c05f8366e5row8_col6\" class=\"data row8 col6\" >sit_on</td>\n",
       "                        <td id=\"T_c56b8878_475e_11ea_a51b_a9c05f8366e5row8_col7\" class=\"data row8 col7\" >bed</td>\n",
       "            </tr>\n",
       "            <tr>\n",
       "                                <td id=\"T_c56b8878_475e_11ea_a51b_a9c05f8366e5row9_col0\" class=\"data row9 col0\" >HICO_train2015_00000006.jpg</td>\n",
       "                        <td id=\"T_c56b8878_475e_11ea_a51b_a9c05f8366e5row9_col1\" class=\"data row9 col1\" >582</td>\n",
       "                        <td id=\"T_c56b8878_475e_11ea_a51b_a9c05f8366e5row9_col2\" class=\"data row9 col2\" >0</td>\n",
       "                        <td id=\"T_c56b8878_475e_11ea_a51b_a9c05f8366e5row9_col3\" class=\"data row9 col3\" >(72, 84, 288, 456)</td>\n",
       "                        <td id=\"T_c56b8878_475e_11ea_a51b_a9c05f8366e5row9_col4\" class=\"data row9 col4\" >(8, 16, 372, 334)</td>\n",
       "                        <td id=\"T_c56b8878_475e_11ea_a51b_a9c05f8366e5row9_col5\" class=\"data row9 col5\" >True</td>\n",
       "                        <td id=\"T_c56b8878_475e_11ea_a51b_a9c05f8366e5row9_col6\" class=\"data row9 col6\" >stand_under</td>\n",
       "                        <td id=\"T_c56b8878_475e_11ea_a51b_a9c05f8366e5row9_col7\" class=\"data row9 col7\" >umbrella</td>\n",
       "            </tr>\n",
       "    </tbody></table>"
      ],
      "text/plain": [
       "<pandas.io.formats.style.Styler at 0x7fad9d57e850>"
      ]
     },
     "execution_count": 11,
     "metadata": {},
     "output_type": "execute_result"
    }
   ],
   "source": [
    "df = pd.merge(\n",
    "    samples,\n",
    "    interactions,\n",
    "    left_on='interaction_id',\n",
    "    right_index=True\n",
    ").sort_values('filename')\n",
    "df.head(10).style.hide_index()"
   ]
  },
  {
   "cell_type": "markdown",
   "metadata": {},
   "source": [
    "Number of boxes per image:\n",
    "- hard to say because for every interaction type the boxes are redefined, \n",
    "  even if a box around the objects involved already exists (see `HICO_train2015_00000001.jpg` above)."
   ]
  },
  {
   "cell_type": "code",
   "execution_count": 12,
   "metadata": {},
   "outputs": [
    {
     "data": {
      "image/png": "[encoded data removed]",
      "text/plain": [
       "<Figure size 1440x216 with 1 Axes>"
      ]
     },
     "metadata": {
      "needs_background": "light"
     },
     "output_type": "display_data"
    }
   ],
   "source": [
    "df.groupby('filename').agg({'bb_object': 'nunique'}).bb_object.max()\n",
    "\n",
    "bins = np.arange(0, df.groupby('filename').agg({'bb_object': 'nunique'}).bb_object.max() + 10, 5)\n",
    "ax = df.groupby('filename').agg({'bb_object': 'nunique'}).bb_object.plot.hist(logy=True, figsize=(20, 3), bins=bins, align='mid')\n",
    "ax.set_title('Number of (possibly non-unique) object boxes per image')\n",
    "ax.set_xticks(bins);"
   ]
  },
  {
   "cell_type": "code",
   "execution_count": 13,
   "metadata": {},
   "outputs": [
    {
     "data": {
      "image/png": "[encoded data removed]",
      "text/plain": [
       "<Figure size 1440x216 with 1 Axes>"
      ]
     },
     "metadata": {
      "needs_background": "light"
     },
     "output_type": "display_data"
    }
   ],
   "source": [
    "df.groupby('filename').agg({'bb_human': 'nunique'}).bb_human.max()\n",
    "\n",
    "bins = np.arange(0, df.groupby('filename').agg({'bb_human': 'nunique'}).bb_human.max() + 10, 5)\n",
    "ax = df.groupby('filename').agg({'bb_human': 'nunique'}).bb_human.plot.hist(logy=True, figsize=(20, 3), bins=bins, align='mid')\n",
    "ax.set_title('Number of (possibly non-unique) human boxes per image')\n",
    "ax.set_xticks(bins);"
   ]
  },
  {
   "cell_type": "code",
   "execution_count": 14,
   "metadata": {},
   "outputs": [
    {
     "data": {
      "image/png": "[encoded data removed]",
      "text/plain": [
       "<Figure size 1440x216 with 1 Axes>"
      ]
     },
     "metadata": {
      "needs_background": "light"
     },
     "output_type": "display_data"
    }
   ],
   "source": [
    "df.groupby('filename').agg({'bb_object': 'nunique'}).bb_object.value_counts().reindex(np.arange(26), fill_value=0) \\\n",
    "  .plot.bar(logy=True, figsize=(20, 3), rot=0) \\\n",
    "  .set_title('Number of interactions per image (count < 25)');"
   ]
  },
  {
   "cell_type": "markdown",
   "metadata": {},
   "source": [
    "Number of iteractions per image"
   ]
  },
  {
   "cell_type": "code",
   "execution_count": 15,
   "metadata": {},
   "outputs": [
    {
     "data": {
      "image/png": "[encoded data removed]",
      "text/plain": [
       "<Figure size 1440x216 with 1 Axes>"
      ]
     },
     "metadata": {
      "needs_background": "light"
     },
     "output_type": "display_data"
    }
   ],
   "source": [
    "df.groupby('filename').size().value_counts().reindex(np.arange(26), fill_value=0) \\\n",
    "  .plot.bar(logy=True, figsize=(20, 3), rot=0) \\\n",
    "  .set_title('Number of interactions per image (count < 25)');"
   ]
  },
  {
   "cell_type": "code",
   "execution_count": 16,
   "metadata": {},
   "outputs": [
    {
     "data": {
      "image/png": "[encoded data removed]",
      "text/plain": [
       "<Figure size 1440x216 with 1 Axes>"
      ]
     },
     "metadata": {
      "needs_background": "light"
     },
     "output_type": "display_data"
    }
   ],
   "source": [
    "bins = np.arange(0, df.groupby('filename').size().max() + 10, 10)\n",
    "ax = df.groupby('filename').size().plot.hist(logy=True, figsize=(20, 3), bins=bins, align='mid')\n",
    "ax.set_title('Number of interactions per image (all)')\n",
    "ax.set_xticks(bins);"
   ]
  },
  {
   "cell_type": "markdown",
   "metadata": {},
   "source": [
    "Number of unique action types per image"
   ]
  },
  {
   "cell_type": "code",
   "execution_count": 17,
   "metadata": {},
   "outputs": [
    {
     "data": {
      "image/png": "[encoded data removed]",
      "text/plain": [
       "<Figure size 1440x216 with 1 Axes>"
      ]
     },
     "metadata": {
      "needs_background": "light"
     },
     "output_type": "display_data"
    }
   ],
   "source": [
    "ax = df.groupby('filename').agg({'action': 'nunique'}).action.value_counts().plot.bar(logy=True, figsize=(20, 3), rot=0)\n",
    "ax.set_title('Number of unique action types per image');\n",
    "ax.set_xticks(np.arange(df.groupby('filename').agg({'action': 'nunique'}).values.max() + 1));"
   ]
  },
  {
   "cell_type": "markdown",
   "metadata": {},
   "source": [
    "Number of unique object types per image"
   ]
  },
  {
   "cell_type": "code",
   "execution_count": 18,
   "metadata": {},
   "outputs": [
    {
     "data": {
      "image/png": "[encoded data removed]",
      "text/plain": [
       "<Figure size 1440x216 with 1 Axes>"
      ]
     },
     "metadata": {
      "needs_background": "light"
     },
     "output_type": "display_data"
    }
   ],
   "source": [
    "ax = df.groupby('filename').agg({'object': 'nunique'})['object'].value_counts().plot.bar(logy=True, figsize=(20, 3), rot=0)\n",
    "ax.set_title('Number of unique object types per image');\n",
    "ax.set_xticks(np.arange(df.groupby('filename').agg({'object': 'nunique'}).values.max() + 1));"
   ]
  },
  {
   "cell_type": "markdown",
   "metadata": {},
   "source": [
    "Most common actions in the training set"
   ]
  },
  {
   "cell_type": "code",
   "execution_count": 19,
   "metadata": {},
   "outputs": [
    {
     "data": {
      "image/png": "[encoded data removed]",
      "text/plain": [
       "<Figure size 1440x216 with 1 Axes>"
      ]
     },
     "metadata": {
      "needs_background": "light"
     },
     "output_type": "display_data"
    }
   ],
   "source": [
    "df.action.value_counts().plot.bar(logy=True, figsize=(20, 3)).set_title('Actions');"
   ]
  },
  {
   "cell_type": "markdown",
   "metadata": {},
   "source": [
    "Most common objects in the training set"
   ]
  },
  {
   "cell_type": "code",
   "execution_count": 20,
   "metadata": {},
   "outputs": [
    {
     "data": {
      "image/png": "[encoded data removed]",
      "text/plain": [
       "<Figure size 1440x216 with 1 Axes>"
      ]
     },
     "metadata": {
      "needs_background": "light"
     },
     "output_type": "display_data"
    }
   ],
   "source": [
    "df.object.value_counts().plot.bar(logy=True, figsize=(20, 3)).set_title('Objects');"
   ]
  },
  {
   "cell_type": "markdown",
   "metadata": {},
   "source": [
    "Most common interactions"
   ]
  },
  {
   "cell_type": "code",
   "execution_count": 21,
   "metadata": {},
   "outputs": [
    {
     "data": {
      "image/png": "[encoded data removed]",
      "text/plain": [
       "<Figure size 1152x1684.8 with 1 Axes>"
      ]
     },
     "metadata": {
      "needs_background": "light"
     },
     "output_type": "display_data"
    }
   ],
   "source": [
    "df_freq = df.groupby(['action', 'object']) \\\n",
    "    .interaction_id \\\n",
    "    .count() \\\n",
    "    .unstack('object', fill_value=0)\n",
    "\n",
    "fig, ax = plt.subplots(1, 1, figsize=(df_freq.shape[1] / 5, df_freq.shape[0] / 5))\n",
    "ax.pcolormesh(np.arange(df_freq.shape[1] + 1), np.arange(df_freq.shape[0] + 1), np.log(df_freq.values+1))\n",
    "ax.set_xticks(np.arange(df_freq.shape[1] + 1) + .5)\n",
    "ax.set_xticklabels(df_freq.columns, rotation=90);\n",
    "ax.set_yticks(np.arange(df_freq.shape[0] + 1) + .5)\n",
    "ax.set_yticklabels(df_freq.index, rotation=0)\n",
    "ax.set_xlim(xmax=ax.get_xlim()[1] - .5)\n",
    "ax.set_ylim(ymax=ax.get_ylim()[1] - .5);"
   ]
  },
  {
   "cell_type": "markdown",
   "metadata": {},
   "source": [
    "## Problems\n",
    "\n",
    "Some problems with the images / annotations"
   ]
  },
  {
   "cell_type": "code",
   "execution_count": 22,
   "metadata": {},
   "outputs": [],
   "source": [
    "def show_all(filename):\n",
    "    img = cv2.cvtColor(\n",
    "            cv2.imread((hico_dir / 'images' / 'train2015' / filename).as_posix()), \n",
    "            cv2.COLOR_BGR2RGB\n",
    "        )\n",
    "    \n",
    "    df_img = df.query(f'filename == \"{filename}\"')\n",
    "    ncols = min(len(df_img) + 1, 3)\n",
    "    nrows = int(np.ceil(len(df_img) / ncols))\n",
    "    fig, axes = plt.subplots(nrows, ncols, figsize=(8 * ncols, 8 * nrows), squeeze=False)\n",
    "    \n",
    "    ax = axes.flat[0]\n",
    "    ax.imshow(img)\n",
    "    ax.set_title(f'{filename} {img.shape[1]} x {img.shape[0]}')\n",
    "    \n",
    "    for interaction, ax in zip(df_img.itertuples(), axes.flat[1:]):\n",
    "        ax.imshow(img)\n",
    "        ax.set_title(f'{interaction.action} {interaction.object} #{interaction.instance_id}')\n",
    "        if not interaction.visible:\n",
    "            continue\n",
    "        ax.add_artist(plt.Rectangle(\n",
    "            [interaction.bb_human[0], interaction.bb_human[1]],\n",
    "            width=interaction.bb_human[2] - interaction.bb_human[0], \n",
    "            height=interaction.bb_human[3] - interaction.bb_human[1],\n",
    "            fill=False,\n",
    "            linewidth=5,\n",
    "            color='blue'\n",
    "        ))\n",
    "        ax.add_artist(plt.Rectangle(\n",
    "            [interaction.bb_object[0], interaction.bb_object[1]],\n",
    "            width=interaction.bb_object[2] - interaction.bb_object[0], \n",
    "            height=interaction.bb_object[3] - interaction.bb_object[1],\n",
    "            fill=False,\n",
    "            linewidth=5,\n",
    "            color='red'\n",
    "        ))\n",
    "    \n",
    "    for ax in axes.flat:\n",
    "        ax.set_axis_off()\n",
    "    fig.set_facecolor('white')\n",
    "    save_path = Path(filename).with_suffix('.png')\n",
    "    fig.savefig(save_path, facecolor='white', bbox_inches='tight')\n",
    "    plt.close(fig)\n",
    "    \n",
    "    display(Markdown(f'### {filename}\\n'\n",
    "                     f'![{filename}]({save_path})'))\n",
    "    display(df_img.drop(columns='filename').set_index(['interaction_id', 'instance_id']).sort_index())"
   ]
  },
  {
   "cell_type": "markdown",
   "metadata": {},
   "source": [
    "Same objects but different actions result in different bounding boxes"
   ]
  },
  {
   "cell_type": "code",
   "execution_count": 23,
   "metadata": {},
   "outputs": [
    {
     "data": {
      "text/markdown": [
       "### HICO_train2015_00000001.jpg\n",
       "![HICO_train2015_00000001.jpg](HICO_train2015_00000001.png)"
      ],
      "text/plain": [
       "<IPython.core.display.Markdown object>"
      ]
     },
     "metadata": {},
     "output_type": "display_data"
    },
    {
     "data": {
      "text/html": [
       "<div>\n",
       "<style scoped>\n",
       "    .dataframe tbody tr th:only-of-type {\n",
       "        vertical-align: middle;\n",
       "    }\n",
       "\n",
       "    .dataframe tbody tr th {\n",
       "        vertical-align: top;\n",
       "    }\n",
       "\n",
       "    .dataframe thead th {\n",
       "        text-align: right;\n",
       "    }\n",
       "</style>\n",
       "<table border=\"1\" class=\"dataframe\">\n",
       "  <thead>\n",
       "    <tr style=\"text-align: right;\">\n",
       "      <th></th>\n",
       "      <th></th>\n",
       "      <th>bb_human</th>\n",
       "      <th>bb_object</th>\n",
       "      <th>visible</th>\n",
       "      <th>action</th>\n",
       "      <th>object</th>\n",
       "    </tr>\n",
       "    <tr>\n",
       "      <th>interaction_id</th>\n",
       "      <th>instance_id</th>\n",
       "      <th></th>\n",
       "      <th></th>\n",
       "      <th></th>\n",
       "      <th></th>\n",
       "      <th></th>\n",
       "    </tr>\n",
       "  </thead>\n",
       "  <tbody>\n",
       "    <tr>\n",
       "      <th>152</th>\n",
       "      <th>0</th>\n",
       "      <td>(208, 33, 427, 300)</td>\n",
       "      <td>(59, 98, 572, 405)</td>\n",
       "      <td>True</td>\n",
       "      <td>race</td>\n",
       "      <td>motorcycle</td>\n",
       "    </tr>\n",
       "    <tr>\n",
       "      <th>153</th>\n",
       "      <th>0</th>\n",
       "      <td>(213, 20, 438, 357)</td>\n",
       "      <td>(77, 115, 583, 396)</td>\n",
       "      <td>True</td>\n",
       "      <td>ride</td>\n",
       "      <td>motorcycle</td>\n",
       "    </tr>\n",
       "    <tr>\n",
       "      <th>154</th>\n",
       "      <th>0</th>\n",
       "      <td>(206, 33, 427, 306)</td>\n",
       "      <td>(61, 100, 571, 401)</td>\n",
       "      <td>True</td>\n",
       "      <td>sit_on</td>\n",
       "      <td>motorcycle</td>\n",
       "    </tr>\n",
       "    <tr>\n",
       "      <th>155</th>\n",
       "      <th>0</th>\n",
       "      <td>(209, 26, 444, 317)</td>\n",
       "      <td>(59, 99, 579, 395)</td>\n",
       "      <td>True</td>\n",
       "      <td>straddle</td>\n",
       "      <td>motorcycle</td>\n",
       "    </tr>\n",
       "  </tbody>\n",
       "</table>\n",
       "</div>"
      ],
      "text/plain": [
       "                                       bb_human            bb_object  visible  \\\n",
       "interaction_id instance_id                                                      \n",
       "152            0            (208, 33, 427, 300)   (59, 98, 572, 405)     True   \n",
       "153            0            (213, 20, 438, 357)  (77, 115, 583, 396)     True   \n",
       "154            0            (206, 33, 427, 306)  (61, 100, 571, 401)     True   \n",
       "155            0            (209, 26, 444, 317)   (59, 99, 579, 395)     True   \n",
       "\n",
       "                              action      object  \n",
       "interaction_id instance_id                        \n",
       "152            0                race  motorcycle  \n",
       "153            0                ride  motorcycle  \n",
       "154            0              sit_on  motorcycle  \n",
       "155            0            straddle  motorcycle  "
      ]
     },
     "metadata": {},
     "output_type": "display_data"
    }
   ],
   "source": [
    "show_all('HICO_train2015_00000001.jpg')"
   ]
  },
  {
   "cell_type": "markdown",
   "metadata": {},
   "source": [
    "Multiple instances of the same action reuse the bounding boxes instead"
   ]
  },
  {
   "cell_type": "code",
   "execution_count": 24,
   "metadata": {},
   "outputs": [
    {
     "data": {
      "text/markdown": [
       "### HICO_train2015_00000009.jpg\n",
       "![HICO_train2015_00000009.jpg](HICO_train2015_00000009.png)"
      ],
      "text/plain": [
       "<IPython.core.display.Markdown object>"
      ]
     },
     "metadata": {},
     "output_type": "display_data"
    },
    {
     "data": {
      "text/html": [
       "<div>\n",
       "<style scoped>\n",
       "    .dataframe tbody tr th:only-of-type {\n",
       "        vertical-align: middle;\n",
       "    }\n",
       "\n",
       "    .dataframe tbody tr th {\n",
       "        vertical-align: top;\n",
       "    }\n",
       "\n",
       "    .dataframe thead th {\n",
       "        text-align: right;\n",
       "    }\n",
       "</style>\n",
       "<table border=\"1\" class=\"dataframe\">\n",
       "  <thead>\n",
       "    <tr style=\"text-align: right;\">\n",
       "      <th></th>\n",
       "      <th></th>\n",
       "      <th>bb_human</th>\n",
       "      <th>bb_object</th>\n",
       "      <th>visible</th>\n",
       "      <th>action</th>\n",
       "      <th>object</th>\n",
       "    </tr>\n",
       "    <tr>\n",
       "      <th>interaction_id</th>\n",
       "      <th>instance_id</th>\n",
       "      <th></th>\n",
       "      <th></th>\n",
       "      <th></th>\n",
       "      <th></th>\n",
       "      <th></th>\n",
       "    </tr>\n",
       "  </thead>\n",
       "  <tbody>\n",
       "    <tr>\n",
       "      <th rowspan=\"2\" valign=\"top\">570</th>\n",
       "      <th>0</th>\n",
       "      <td>(191, 102, 291, 306)</td>\n",
       "      <td>(211, 100, 432, 336)</td>\n",
       "      <td>True</td>\n",
       "      <td>load</td>\n",
       "      <td>truck</td>\n",
       "    </tr>\n",
       "    <tr>\n",
       "      <th>1</th>\n",
       "      <td>(340, 94, 598, 407)</td>\n",
       "      <td>(211, 100, 432, 336)</td>\n",
       "      <td>True</td>\n",
       "      <td>load</td>\n",
       "      <td>truck</td>\n",
       "    </tr>\n",
       "  </tbody>\n",
       "</table>\n",
       "</div>"
      ],
      "text/plain": [
       "                                        bb_human             bb_object  \\\n",
       "interaction_id instance_id                                               \n",
       "570            0            (191, 102, 291, 306)  (211, 100, 432, 336)   \n",
       "               1             (340, 94, 598, 407)  (211, 100, 432, 336)   \n",
       "\n",
       "                            visible action object  \n",
       "interaction_id instance_id                         \n",
       "570            0               True   load  truck  \n",
       "               1               True   load  truck  "
      ]
     },
     "metadata": {},
     "output_type": "display_data"
    }
   ],
   "source": [
    "show_all('HICO_train2015_00000009.jpg')"
   ]
  },
  {
   "cell_type": "markdown",
   "metadata": {},
   "source": [
    "No interaction instances"
   ]
  },
  {
   "cell_type": "code",
   "execution_count": 25,
   "metadata": {},
   "outputs": [
    {
     "data": {
      "text/markdown": [
       "### HICO_train2015_00000002.jpg\n",
       "![HICO_train2015_00000002.jpg](HICO_train2015_00000002.png)"
      ],
      "text/plain": [
       "<IPython.core.display.Markdown object>"
      ]
     },
     "metadata": {},
     "output_type": "display_data"
    },
    {
     "data": {
      "text/html": [
       "<div>\n",
       "<style scoped>\n",
       "    .dataframe tbody tr th:only-of-type {\n",
       "        vertical-align: middle;\n",
       "    }\n",
       "\n",
       "    .dataframe tbody tr th {\n",
       "        vertical-align: top;\n",
       "    }\n",
       "\n",
       "    .dataframe thead th {\n",
       "        text-align: right;\n",
       "    }\n",
       "</style>\n",
       "<table border=\"1\" class=\"dataframe\">\n",
       "  <thead>\n",
       "    <tr style=\"text-align: right;\">\n",
       "      <th></th>\n",
       "      <th></th>\n",
       "      <th>bb_human</th>\n",
       "      <th>bb_object</th>\n",
       "      <th>visible</th>\n",
       "      <th>action</th>\n",
       "      <th>object</th>\n",
       "    </tr>\n",
       "    <tr>\n",
       "      <th>interaction_id</th>\n",
       "      <th>instance_id</th>\n",
       "      <th></th>\n",
       "      <th></th>\n",
       "      <th></th>\n",
       "      <th></th>\n",
       "      <th></th>\n",
       "    </tr>\n",
       "  </thead>\n",
       "  <tbody>\n",
       "    <tr>\n",
       "      <th>223</th>\n",
       "      <th>0</th>\n",
       "      <td>(262, 1, 638, 138)</td>\n",
       "      <td>(162, 131, 258, 165)</td>\n",
       "      <td>True</td>\n",
       "      <td>no_interaction</td>\n",
       "      <td>banana</td>\n",
       "    </tr>\n",
       "  </tbody>\n",
       "</table>\n",
       "</div>"
      ],
      "text/plain": [
       "                                      bb_human             bb_object  visible  \\\n",
       "interaction_id instance_id                                                      \n",
       "223            0            (262, 1, 638, 138)  (162, 131, 258, 165)     True   \n",
       "\n",
       "                                    action  object  \n",
       "interaction_id instance_id                          \n",
       "223            0            no_interaction  banana  "
      ]
     },
     "metadata": {},
     "output_type": "display_data"
    }
   ],
   "source": [
    "show_all('HICO_train2015_00000002.jpg')"
   ]
  },
  {
   "cell_type": "markdown",
   "metadata": {},
   "source": [
    "No interaction instances"
   ]
  },
  {
   "cell_type": "code",
   "execution_count": 26,
   "metadata": {},
   "outputs": [
    {
     "data": {
      "text/markdown": [
       "### HICO_train2015_00000003.jpg\n",
       "![HICO_train2015_00000003.jpg](HICO_train2015_00000003.png)"
      ],
      "text/plain": [
       "<IPython.core.display.Markdown object>"
      ]
     },
     "metadata": {},
     "output_type": "display_data"
    },
    {
     "data": {
      "text/html": [
       "<div>\n",
       "<style scoped>\n",
       "    .dataframe tbody tr th:only-of-type {\n",
       "        vertical-align: middle;\n",
       "    }\n",
       "\n",
       "    .dataframe tbody tr th {\n",
       "        vertical-align: top;\n",
       "    }\n",
       "\n",
       "    .dataframe thead th {\n",
       "        text-align: right;\n",
       "    }\n",
       "</style>\n",
       "<table border=\"1\" class=\"dataframe\">\n",
       "  <thead>\n",
       "    <tr style=\"text-align: right;\">\n",
       "      <th></th>\n",
       "      <th></th>\n",
       "      <th>bb_human</th>\n",
       "      <th>bb_object</th>\n",
       "      <th>visible</th>\n",
       "      <th>action</th>\n",
       "      <th>object</th>\n",
       "    </tr>\n",
       "    <tr>\n",
       "      <th>interaction_id</th>\n",
       "      <th>instance_id</th>\n",
       "      <th></th>\n",
       "      <th></th>\n",
       "      <th></th>\n",
       "      <th></th>\n",
       "      <th></th>\n",
       "    </tr>\n",
       "  </thead>\n",
       "  <tbody>\n",
       "    <tr>\n",
       "      <th>64</th>\n",
       "      <th>0</th>\n",
       "      <td>(567, 361, 580, 390)</td>\n",
       "      <td>(74, 52, 510, 484)</td>\n",
       "      <td>True</td>\n",
       "      <td>no_interaction</td>\n",
       "      <td>bus</td>\n",
       "    </tr>\n",
       "  </tbody>\n",
       "</table>\n",
       "</div>"
      ],
      "text/plain": [
       "                                        bb_human           bb_object  visible  \\\n",
       "interaction_id instance_id                                                      \n",
       "64             0            (567, 361, 580, 390)  (74, 52, 510, 484)     True   \n",
       "\n",
       "                                    action object  \n",
       "interaction_id instance_id                         \n",
       "64             0            no_interaction    bus  "
      ]
     },
     "metadata": {},
     "output_type": "display_data"
    }
   ],
   "source": [
    "show_all('HICO_train2015_00000003.jpg')"
   ]
  },
  {
   "cell_type": "markdown",
   "metadata": {},
   "source": [
    "Debatable human boxes"
   ]
  },
  {
   "cell_type": "code",
   "execution_count": 27,
   "metadata": {},
   "outputs": [
    {
     "data": {
      "text/markdown": [
       "### HICO_train2015_00000013.jpg\n",
       "![HICO_train2015_00000013.jpg](HICO_train2015_00000013.png)"
      ],
      "text/plain": [
       "<IPython.core.display.Markdown object>"
      ]
     },
     "metadata": {},
     "output_type": "display_data"
    },
    {
     "data": {
      "text/html": [
       "<div>\n",
       "<style scoped>\n",
       "    .dataframe tbody tr th:only-of-type {\n",
       "        vertical-align: middle;\n",
       "    }\n",
       "\n",
       "    .dataframe tbody tr th {\n",
       "        vertical-align: top;\n",
       "    }\n",
       "\n",
       "    .dataframe thead th {\n",
       "        text-align: right;\n",
       "    }\n",
       "</style>\n",
       "<table border=\"1\" class=\"dataframe\">\n",
       "  <thead>\n",
       "    <tr style=\"text-align: right;\">\n",
       "      <th></th>\n",
       "      <th></th>\n",
       "      <th>bb_human</th>\n",
       "      <th>bb_object</th>\n",
       "      <th>visible</th>\n",
       "      <th>action</th>\n",
       "      <th>object</th>\n",
       "    </tr>\n",
       "    <tr>\n",
       "      <th>interaction_id</th>\n",
       "      <th>instance_id</th>\n",
       "      <th></th>\n",
       "      <th></th>\n",
       "      <th></th>\n",
       "      <th></th>\n",
       "      <th></th>\n",
       "    </tr>\n",
       "  </thead>\n",
       "  <tbody>\n",
       "    <tr>\n",
       "      <th>275</th>\n",
       "      <th>0</th>\n",
       "      <td>(198, 287, 278, 395)</td>\n",
       "      <td>(88, 206, 248, 310)</td>\n",
       "      <td>True</td>\n",
       "      <td>cut</td>\n",
       "      <td>carrot</td>\n",
       "    </tr>\n",
       "  </tbody>\n",
       "</table>\n",
       "</div>"
      ],
      "text/plain": [
       "                                        bb_human            bb_object  \\\n",
       "interaction_id instance_id                                              \n",
       "275            0            (198, 287, 278, 395)  (88, 206, 248, 310)   \n",
       "\n",
       "                            visible action  object  \n",
       "interaction_id instance_id                          \n",
       "275            0               True    cut  carrot  "
      ]
     },
     "metadata": {},
     "output_type": "display_data"
    }
   ],
   "source": [
    "show_all('HICO_train2015_00000013.jpg')"
   ]
  },
  {
   "cell_type": "markdown",
   "metadata": {},
   "source": [
    "Debatable object boxes"
   ]
  },
  {
   "cell_type": "code",
   "execution_count": 28,
   "metadata": {},
   "outputs": [
    {
     "data": {
      "text/markdown": [
       "### HICO_train2015_00000025.jpg\n",
       "![HICO_train2015_00000025.jpg](HICO_train2015_00000025.png)"
      ],
      "text/plain": [
       "<IPython.core.display.Markdown object>"
      ]
     },
     "metadata": {},
     "output_type": "display_data"
    },
    {
     "data": {
      "text/html": [
       "<div>\n",
       "<style scoped>\n",
       "    .dataframe tbody tr th:only-of-type {\n",
       "        vertical-align: middle;\n",
       "    }\n",
       "\n",
       "    .dataframe tbody tr th {\n",
       "        vertical-align: top;\n",
       "    }\n",
       "\n",
       "    .dataframe thead th {\n",
       "        text-align: right;\n",
       "    }\n",
       "</style>\n",
       "<table border=\"1\" class=\"dataframe\">\n",
       "  <thead>\n",
       "    <tr style=\"text-align: right;\">\n",
       "      <th></th>\n",
       "      <th></th>\n",
       "      <th>bb_human</th>\n",
       "      <th>bb_object</th>\n",
       "      <th>visible</th>\n",
       "      <th>action</th>\n",
       "      <th>object</th>\n",
       "    </tr>\n",
       "    <tr>\n",
       "      <th>interaction_id</th>\n",
       "      <th>instance_id</th>\n",
       "      <th></th>\n",
       "      <th></th>\n",
       "      <th></th>\n",
       "      <th></th>\n",
       "      <th></th>\n",
       "    </tr>\n",
       "  </thead>\n",
       "  <tbody>\n",
       "    <tr>\n",
       "      <th>432</th>\n",
       "      <th>0</th>\n",
       "      <td>(273, 11, 446, 392)</td>\n",
       "      <td>(1, 1, 638, 428)</td>\n",
       "      <td>True</td>\n",
       "      <td>open</td>\n",
       "      <td>refrigerator</td>\n",
       "    </tr>\n",
       "  </tbody>\n",
       "</table>\n",
       "</div>"
      ],
      "text/plain": [
       "                                       bb_human         bb_object  visible  \\\n",
       "interaction_id instance_id                                                   \n",
       "432            0            (273, 11, 446, 392)  (1, 1, 638, 428)     True   \n",
       "\n",
       "                           action        object  \n",
       "interaction_id instance_id                       \n",
       "432            0             open  refrigerator  "
      ]
     },
     "metadata": {},
     "output_type": "display_data"
    }
   ],
   "source": [
    "show_all('HICO_train2015_00000025.jpg')"
   ]
  },
  {
   "cell_type": "markdown",
   "metadata": {},
   "source": [
    "Invisible interactions"
   ]
  },
  {
   "cell_type": "code",
   "execution_count": 29,
   "metadata": {},
   "outputs": [
    {
     "data": {
      "text/markdown": [
       "### HICO_train2015_00000014.jpg\n",
       "![HICO_train2015_00000014.jpg](HICO_train2015_00000014.png)"
      ],
      "text/plain": [
       "<IPython.core.display.Markdown object>"
      ]
     },
     "metadata": {},
     "output_type": "display_data"
    },
    {
     "data": {
      "text/html": [
       "<div>\n",
       "<style scoped>\n",
       "    .dataframe tbody tr th:only-of-type {\n",
       "        vertical-align: middle;\n",
       "    }\n",
       "\n",
       "    .dataframe tbody tr th {\n",
       "        vertical-align: top;\n",
       "    }\n",
       "\n",
       "    .dataframe thead th {\n",
       "        text-align: right;\n",
       "    }\n",
       "</style>\n",
       "<table border=\"1\" class=\"dataframe\">\n",
       "  <thead>\n",
       "    <tr style=\"text-align: right;\">\n",
       "      <th></th>\n",
       "      <th></th>\n",
       "      <th>bb_human</th>\n",
       "      <th>bb_object</th>\n",
       "      <th>visible</th>\n",
       "      <th>action</th>\n",
       "      <th>object</th>\n",
       "    </tr>\n",
       "    <tr>\n",
       "      <th>interaction_id</th>\n",
       "      <th>instance_id</th>\n",
       "      <th></th>\n",
       "      <th></th>\n",
       "      <th></th>\n",
       "      <th></th>\n",
       "      <th></th>\n",
       "    </tr>\n",
       "  </thead>\n",
       "  <tbody>\n",
       "    <tr>\n",
       "      <th>5</th>\n",
       "      <th>-1</th>\n",
       "      <td>None</td>\n",
       "      <td>None</td>\n",
       "      <td>False</td>\n",
       "      <td>load</td>\n",
       "      <td>airplane</td>\n",
       "    </tr>\n",
       "  </tbody>\n",
       "</table>\n",
       "</div>"
      ],
      "text/plain": [
       "                           bb_human bb_object  visible action    object\n",
       "interaction_id instance_id                                             \n",
       "5              -1              None      None    False   load  airplane"
      ]
     },
     "metadata": {},
     "output_type": "display_data"
    }
   ],
   "source": [
    "show_all('HICO_train2015_00000014.jpg')"
   ]
  },
  {
   "cell_type": "markdown",
   "metadata": {},
   "source": [
    "Crowds"
   ]
  },
  {
   "cell_type": "code",
   "execution_count": 30,
   "metadata": {},
   "outputs": [
    {
     "data": {
      "text/markdown": [
       "### HICO_train2015_00000086.jpg\n",
       "![HICO_train2015_00000086.jpg](HICO_train2015_00000086.png)"
      ],
      "text/plain": [
       "<IPython.core.display.Markdown object>"
      ]
     },
     "metadata": {},
     "output_type": "display_data"
    },
    {
     "data": {
      "text/html": [
       "<div>\n",
       "<style scoped>\n",
       "    .dataframe tbody tr th:only-of-type {\n",
       "        vertical-align: middle;\n",
       "    }\n",
       "\n",
       "    .dataframe tbody tr th {\n",
       "        vertical-align: top;\n",
       "    }\n",
       "\n",
       "    .dataframe thead th {\n",
       "        text-align: right;\n",
       "    }\n",
       "</style>\n",
       "<table border=\"1\" class=\"dataframe\">\n",
       "  <thead>\n",
       "    <tr style=\"text-align: right;\">\n",
       "      <th></th>\n",
       "      <th></th>\n",
       "      <th>bb_human</th>\n",
       "      <th>bb_object</th>\n",
       "      <th>visible</th>\n",
       "      <th>action</th>\n",
       "      <th>object</th>\n",
       "    </tr>\n",
       "    <tr>\n",
       "      <th>interaction_id</th>\n",
       "      <th>instance_id</th>\n",
       "      <th></th>\n",
       "      <th></th>\n",
       "      <th></th>\n",
       "      <th></th>\n",
       "      <th></th>\n",
       "    </tr>\n",
       "  </thead>\n",
       "  <tbody>\n",
       "    <tr>\n",
       "      <th rowspan=\"5\" valign=\"top\">38</th>\n",
       "      <th>0</th>\n",
       "      <td>(427, 279, 433, 300)</td>\n",
       "      <td>(3, 5, 639, 421)</td>\n",
       "      <td>True</td>\n",
       "      <td>ride</td>\n",
       "      <td>boat</td>\n",
       "    </tr>\n",
       "    <tr>\n",
       "      <th>1</th>\n",
       "      <td>(259, 254, 267, 276)</td>\n",
       "      <td>(3, 5, 639, 421)</td>\n",
       "      <td>True</td>\n",
       "      <td>ride</td>\n",
       "      <td>boat</td>\n",
       "    </tr>\n",
       "    <tr>\n",
       "      <th>2</th>\n",
       "      <td>(202, 278, 207, 307)</td>\n",
       "      <td>(3, 5, 639, 421)</td>\n",
       "      <td>True</td>\n",
       "      <td>ride</td>\n",
       "      <td>boat</td>\n",
       "    </tr>\n",
       "    <tr>\n",
       "      <th>3</th>\n",
       "      <td>(249, 256, 259, 275)</td>\n",
       "      <td>(3, 5, 639, 421)</td>\n",
       "      <td>True</td>\n",
       "      <td>ride</td>\n",
       "      <td>boat</td>\n",
       "    </tr>\n",
       "    <tr>\n",
       "      <th>4</th>\n",
       "      <td>(231, 259, 246, 273)</td>\n",
       "      <td>(3, 5, 639, 421)</td>\n",
       "      <td>True</td>\n",
       "      <td>ride</td>\n",
       "      <td>boat</td>\n",
       "    </tr>\n",
       "    <tr>\n",
       "      <th>...</th>\n",
       "      <th>...</th>\n",
       "      <td>...</td>\n",
       "      <td>...</td>\n",
       "      <td>...</td>\n",
       "      <td>...</td>\n",
       "      <td>...</td>\n",
       "    </tr>\n",
       "    <tr>\n",
       "      <th rowspan=\"5\" valign=\"top\">42</th>\n",
       "      <th>35</th>\n",
       "      <td>(85, 278, 108, 377)</td>\n",
       "      <td>(1, 3, 637, 422)</td>\n",
       "      <td>True</td>\n",
       "      <td>stand_on</td>\n",
       "      <td>boat</td>\n",
       "    </tr>\n",
       "    <tr>\n",
       "      <th>36</th>\n",
       "      <td>(485, 275, 512, 360)</td>\n",
       "      <td>(1, 3, 637, 422)</td>\n",
       "      <td>True</td>\n",
       "      <td>stand_on</td>\n",
       "      <td>boat</td>\n",
       "    </tr>\n",
       "    <tr>\n",
       "      <th>37</th>\n",
       "      <td>(563, 273, 592, 384)</td>\n",
       "      <td>(1, 3, 637, 422)</td>\n",
       "      <td>True</td>\n",
       "      <td>stand_on</td>\n",
       "      <td>boat</td>\n",
       "    </tr>\n",
       "    <tr>\n",
       "      <th>38</th>\n",
       "      <td>(579, 276, 620, 377)</td>\n",
       "      <td>(1, 3, 637, 422)</td>\n",
       "      <td>True</td>\n",
       "      <td>stand_on</td>\n",
       "      <td>boat</td>\n",
       "    </tr>\n",
       "    <tr>\n",
       "      <th>39</th>\n",
       "      <td>(42, 267, 74, 419)</td>\n",
       "      <td>(1, 3, 637, 422)</td>\n",
       "      <td>True</td>\n",
       "      <td>stand_on</td>\n",
       "      <td>boat</td>\n",
       "    </tr>\n",
       "  </tbody>\n",
       "</table>\n",
       "<p>78 rows × 5 columns</p>\n",
       "</div>"
      ],
      "text/plain": [
       "                                        bb_human         bb_object  visible  \\\n",
       "interaction_id instance_id                                                    \n",
       "38             0            (427, 279, 433, 300)  (3, 5, 639, 421)     True   \n",
       "               1            (259, 254, 267, 276)  (3, 5, 639, 421)     True   \n",
       "               2            (202, 278, 207, 307)  (3, 5, 639, 421)     True   \n",
       "               3            (249, 256, 259, 275)  (3, 5, 639, 421)     True   \n",
       "               4            (231, 259, 246, 273)  (3, 5, 639, 421)     True   \n",
       "...                                          ...               ...      ...   \n",
       "42             35            (85, 278, 108, 377)  (1, 3, 637, 422)     True   \n",
       "               36           (485, 275, 512, 360)  (1, 3, 637, 422)     True   \n",
       "               37           (563, 273, 592, 384)  (1, 3, 637, 422)     True   \n",
       "               38           (579, 276, 620, 377)  (1, 3, 637, 422)     True   \n",
       "               39             (42, 267, 74, 419)  (1, 3, 637, 422)     True   \n",
       "\n",
       "                              action object  \n",
       "interaction_id instance_id                   \n",
       "38             0                ride   boat  \n",
       "               1                ride   boat  \n",
       "               2                ride   boat  \n",
       "               3                ride   boat  \n",
       "               4                ride   boat  \n",
       "...                              ...    ...  \n",
       "42             35           stand_on   boat  \n",
       "               36           stand_on   boat  \n",
       "               37           stand_on   boat  \n",
       "               38           stand_on   boat  \n",
       "               39           stand_on   boat  \n",
       "\n",
       "[78 rows x 5 columns]"
      ]
     },
     "metadata": {},
     "output_type": "display_data"
    }
   ],
   "source": [
    "show_all('HICO_train2015_00000086.jpg')"
   ]
  },
  {
   "cell_type": "markdown",
   "metadata": {},
   "source": [
    "Smallest image by area"
   ]
  },
  {
   "cell_type": "code",
   "execution_count": 31,
   "metadata": {},
   "outputs": [
    {
     "data": {
      "text/markdown": [
       "### HICO_train2015_00002389.jpg\n",
       "![HICO_train2015_00002389.jpg](HICO_train2015_00002389.png)"
      ],
      "text/plain": [
       "<IPython.core.display.Markdown object>"
      ]
     },
     "metadata": {},
     "output_type": "display_data"
    },
    {
     "data": {
      "text/html": [
       "<div>\n",
       "<style scoped>\n",
       "    .dataframe tbody tr th:only-of-type {\n",
       "        vertical-align: middle;\n",
       "    }\n",
       "\n",
       "    .dataframe tbody tr th {\n",
       "        vertical-align: top;\n",
       "    }\n",
       "\n",
       "    .dataframe thead th {\n",
       "        text-align: right;\n",
       "    }\n",
       "</style>\n",
       "<table border=\"1\" class=\"dataframe\">\n",
       "  <thead>\n",
       "    <tr style=\"text-align: right;\">\n",
       "      <th></th>\n",
       "      <th></th>\n",
       "      <th>bb_human</th>\n",
       "      <th>bb_object</th>\n",
       "      <th>visible</th>\n",
       "      <th>action</th>\n",
       "      <th>object</th>\n",
       "    </tr>\n",
       "    <tr>\n",
       "      <th>interaction_id</th>\n",
       "      <th>instance_id</th>\n",
       "      <th></th>\n",
       "      <th></th>\n",
       "      <th></th>\n",
       "      <th></th>\n",
       "      <th></th>\n",
       "    </tr>\n",
       "  </thead>\n",
       "  <tbody>\n",
       "    <tr>\n",
       "      <th rowspan=\"2\" valign=\"top\">366</th>\n",
       "      <th>0</th>\n",
       "      <td>(3, 33, 46, 81)</td>\n",
       "      <td>(11, 7, 34, 58)</td>\n",
       "      <td>True</td>\n",
       "      <td>type_on</td>\n",
       "      <td>keyboard</td>\n",
       "    </tr>\n",
       "    <tr>\n",
       "      <th>1</th>\n",
       "      <td>(40, 46, 119, 88)</td>\n",
       "      <td>(43, 1, 120, 87)</td>\n",
       "      <td>True</td>\n",
       "      <td>type_on</td>\n",
       "      <td>keyboard</td>\n",
       "    </tr>\n",
       "  </tbody>\n",
       "</table>\n",
       "</div>"
      ],
      "text/plain": [
       "                                     bb_human         bb_object  visible  \\\n",
       "interaction_id instance_id                                                 \n",
       "366            0              (3, 33, 46, 81)   (11, 7, 34, 58)     True   \n",
       "               1            (40, 46, 119, 88)  (43, 1, 120, 87)     True   \n",
       "\n",
       "                             action    object  \n",
       "interaction_id instance_id                     \n",
       "366            0            type_on  keyboard  \n",
       "               1            type_on  keyboard  "
      ]
     },
     "metadata": {},
     "output_type": "display_data"
    }
   ],
   "source": [
    "show_all(img_info.iloc[(img_info.H * img_info.W).idxmin()].filename)"
   ]
  },
  {
   "cell_type": "markdown",
   "metadata": {},
   "source": [
    "Most vertically elongated image"
   ]
  },
  {
   "cell_type": "code",
   "execution_count": 32,
   "metadata": {},
   "outputs": [
    {
     "data": {
      "text/markdown": [
       "### HICO_train2015_00011514.jpg\n",
       "![HICO_train2015_00011514.jpg](HICO_train2015_00011514.png)"
      ],
      "text/plain": [
       "<IPython.core.display.Markdown object>"
      ]
     },
     "metadata": {},
     "output_type": "display_data"
    },
    {
     "data": {
      "text/html": [
       "<div>\n",
       "<style scoped>\n",
       "    .dataframe tbody tr th:only-of-type {\n",
       "        vertical-align: middle;\n",
       "    }\n",
       "\n",
       "    .dataframe tbody tr th {\n",
       "        vertical-align: top;\n",
       "    }\n",
       "\n",
       "    .dataframe thead th {\n",
       "        text-align: right;\n",
       "    }\n",
       "</style>\n",
       "<table border=\"1\" class=\"dataframe\">\n",
       "  <thead>\n",
       "    <tr style=\"text-align: right;\">\n",
       "      <th></th>\n",
       "      <th></th>\n",
       "      <th>bb_human</th>\n",
       "      <th>bb_object</th>\n",
       "      <th>visible</th>\n",
       "      <th>action</th>\n",
       "      <th>object</th>\n",
       "    </tr>\n",
       "    <tr>\n",
       "      <th>interaction_id</th>\n",
       "      <th>instance_id</th>\n",
       "      <th></th>\n",
       "      <th></th>\n",
       "      <th></th>\n",
       "      <th></th>\n",
       "      <th></th>\n",
       "    </tr>\n",
       "  </thead>\n",
       "  <tbody>\n",
       "    <tr>\n",
       "      <th>377</th>\n",
       "      <th>0</th>\n",
       "      <td>(16, 276, 197, 634)</td>\n",
       "      <td>(20, 10, 168, 333)</td>\n",
       "      <td>True</td>\n",
       "      <td>hold</td>\n",
       "      <td>knife</td>\n",
       "    </tr>\n",
       "    <tr>\n",
       "      <th>380</th>\n",
       "      <th>0</th>\n",
       "      <td>(3, 281, 210, 638)</td>\n",
       "      <td>(33, 3, 125, 318)</td>\n",
       "      <td>True</td>\n",
       "      <td>wield</td>\n",
       "      <td>knife</td>\n",
       "    </tr>\n",
       "  </tbody>\n",
       "</table>\n",
       "</div>"
      ],
      "text/plain": [
       "                                       bb_human           bb_object  visible  \\\n",
       "interaction_id instance_id                                                     \n",
       "377            0            (16, 276, 197, 634)  (20, 10, 168, 333)     True   \n",
       "380            0             (3, 281, 210, 638)   (33, 3, 125, 318)     True   \n",
       "\n",
       "                           action object  \n",
       "interaction_id instance_id                \n",
       "377            0             hold  knife  \n",
       "380            0            wield  knife  "
      ]
     },
     "metadata": {},
     "output_type": "display_data"
    }
   ],
   "source": [
    "show_all(img_info.iloc[(img_info.H / img_info.W).idxmax()].filename)"
   ]
  },
  {
   "cell_type": "markdown",
   "metadata": {},
   "source": [
    "Most horizontally elongated image"
   ]
  },
  {
   "cell_type": "code",
   "execution_count": 33,
   "metadata": {},
   "outputs": [
    {
     "data": {
      "text/markdown": [
       "### HICO_train2015_00002727.jpg\n",
       "![HICO_train2015_00002727.jpg](HICO_train2015_00002727.png)"
      ],
      "text/plain": [
       "<IPython.core.display.Markdown object>"
      ]
     },
     "metadata": {},
     "output_type": "display_data"
    },
    {
     "data": {
      "text/html": [
       "<div>\n",
       "<style scoped>\n",
       "    .dataframe tbody tr th:only-of-type {\n",
       "        vertical-align: middle;\n",
       "    }\n",
       "\n",
       "    .dataframe tbody tr th {\n",
       "        vertical-align: top;\n",
       "    }\n",
       "\n",
       "    .dataframe thead th {\n",
       "        text-align: right;\n",
       "    }\n",
       "</style>\n",
       "<table border=\"1\" class=\"dataframe\">\n",
       "  <thead>\n",
       "    <tr style=\"text-align: right;\">\n",
       "      <th></th>\n",
       "      <th></th>\n",
       "      <th>bb_human</th>\n",
       "      <th>bb_object</th>\n",
       "      <th>visible</th>\n",
       "      <th>action</th>\n",
       "      <th>object</th>\n",
       "    </tr>\n",
       "    <tr>\n",
       "      <th>interaction_id</th>\n",
       "      <th>instance_id</th>\n",
       "      <th></th>\n",
       "      <th></th>\n",
       "      <th></th>\n",
       "      <th></th>\n",
       "      <th></th>\n",
       "    </tr>\n",
       "  </thead>\n",
       "  <tbody>\n",
       "    <tr>\n",
       "      <th>329</th>\n",
       "      <th>0</th>\n",
       "      <td>(617, 55, 640, 101)</td>\n",
       "      <td>(617, 94, 640, 133)</td>\n",
       "      <td>True</td>\n",
       "      <td>no_interaction</td>\n",
       "      <td>fire_hydrant</td>\n",
       "    </tr>\n",
       "  </tbody>\n",
       "</table>\n",
       "</div>"
      ],
      "text/plain": [
       "                                       bb_human            bb_object  visible  \\\n",
       "interaction_id instance_id                                                      \n",
       "329            0            (617, 55, 640, 101)  (617, 94, 640, 133)     True   \n",
       "\n",
       "                                    action        object  \n",
       "interaction_id instance_id                                \n",
       "329            0            no_interaction  fire_hydrant  "
      ]
     },
     "metadata": {},
     "output_type": "display_data"
    }
   ],
   "source": [
    "show_all(img_info.iloc[(img_info.H / img_info.W).idxmin()].filename)"
   ]
  },
  {
   "cell_type": "markdown",
   "metadata": {},
   "source": [
    "Just more images"
   ]
  },
  {
   "cell_type": "code",
   "execution_count": 34,
   "metadata": {},
   "outputs": [
    {
     "data": {
      "text/markdown": [
       "### HICO_train2015_00000050.jpg\n",
       "![HICO_train2015_00000050.jpg](HICO_train2015_00000050.png)"
      ],
      "text/plain": [
       "<IPython.core.display.Markdown object>"
      ]
     },
     "metadata": {},
     "output_type": "display_data"
    },
    {
     "data": {
      "text/html": [
       "<div>\n",
       "<style scoped>\n",
       "    .dataframe tbody tr th:only-of-type {\n",
       "        vertical-align: middle;\n",
       "    }\n",
       "\n",
       "    .dataframe tbody tr th {\n",
       "        vertical-align: top;\n",
       "    }\n",
       "\n",
       "    .dataframe thead th {\n",
       "        text-align: right;\n",
       "    }\n",
       "</style>\n",
       "<table border=\"1\" class=\"dataframe\">\n",
       "  <thead>\n",
       "    <tr style=\"text-align: right;\">\n",
       "      <th></th>\n",
       "      <th></th>\n",
       "      <th>bb_human</th>\n",
       "      <th>bb_object</th>\n",
       "      <th>visible</th>\n",
       "      <th>action</th>\n",
       "      <th>object</th>\n",
       "    </tr>\n",
       "    <tr>\n",
       "      <th>interaction_id</th>\n",
       "      <th>instance_id</th>\n",
       "      <th></th>\n",
       "      <th></th>\n",
       "      <th></th>\n",
       "      <th></th>\n",
       "      <th></th>\n",
       "    </tr>\n",
       "  </thead>\n",
       "  <tbody>\n",
       "    <tr>\n",
       "      <th>329</th>\n",
       "      <th>0</th>\n",
       "      <td>(158, 161, 245, 415)</td>\n",
       "      <td>(223, 299, 292, 416)</td>\n",
       "      <td>True</td>\n",
       "      <td>no_interaction</td>\n",
       "      <td>fire_hydrant</td>\n",
       "    </tr>\n",
       "  </tbody>\n",
       "</table>\n",
       "</div>"
      ],
      "text/plain": [
       "                                        bb_human             bb_object  \\\n",
       "interaction_id instance_id                                               \n",
       "329            0            (158, 161, 245, 415)  (223, 299, 292, 416)   \n",
       "\n",
       "                            visible          action        object  \n",
       "interaction_id instance_id                                         \n",
       "329            0               True  no_interaction  fire_hydrant  "
      ]
     },
     "metadata": {},
     "output_type": "display_data"
    },
    {
     "data": {
      "text/markdown": [
       "### HICO_train2015_00000051.jpg\n",
       "![HICO_train2015_00000051.jpg](HICO_train2015_00000051.png)"
      ],
      "text/plain": [
       "<IPython.core.display.Markdown object>"
      ]
     },
     "metadata": {},
     "output_type": "display_data"
    },
    {
     "data": {
      "text/html": [
       "<div>\n",
       "<style scoped>\n",
       "    .dataframe tbody tr th:only-of-type {\n",
       "        vertical-align: middle;\n",
       "    }\n",
       "\n",
       "    .dataframe tbody tr th {\n",
       "        vertical-align: top;\n",
       "    }\n",
       "\n",
       "    .dataframe thead th {\n",
       "        text-align: right;\n",
       "    }\n",
       "</style>\n",
       "<table border=\"1\" class=\"dataframe\">\n",
       "  <thead>\n",
       "    <tr style=\"text-align: right;\">\n",
       "      <th></th>\n",
       "      <th></th>\n",
       "      <th>bb_human</th>\n",
       "      <th>bb_object</th>\n",
       "      <th>visible</th>\n",
       "      <th>action</th>\n",
       "      <th>object</th>\n",
       "    </tr>\n",
       "    <tr>\n",
       "      <th>interaction_id</th>\n",
       "      <th>instance_id</th>\n",
       "      <th></th>\n",
       "      <th></th>\n",
       "      <th></th>\n",
       "      <th></th>\n",
       "      <th></th>\n",
       "    </tr>\n",
       "  </thead>\n",
       "  <tbody>\n",
       "    <tr>\n",
       "      <th rowspan=\"2\" valign=\"top\">225</th>\n",
       "      <th>0</th>\n",
       "      <td>(364, 142, 379, 242)</td>\n",
       "      <td>(368, 235, 393, 391)</td>\n",
       "      <td>True</td>\n",
       "      <td>carry</td>\n",
       "      <td>baseball_bat</td>\n",
       "    </tr>\n",
       "    <tr>\n",
       "      <th>1</th>\n",
       "      <td>(294, 42, 380, 107)</td>\n",
       "      <td>(368, 235, 393, 391)</td>\n",
       "      <td>True</td>\n",
       "      <td>carry</td>\n",
       "      <td>baseball_bat</td>\n",
       "    </tr>\n",
       "    <tr>\n",
       "      <th>226</th>\n",
       "      <th>0</th>\n",
       "      <td>(281, 39, 384, 411)</td>\n",
       "      <td>(359, 217, 399, 396)</td>\n",
       "      <td>True</td>\n",
       "      <td>hold</td>\n",
       "      <td>baseball_bat</td>\n",
       "    </tr>\n",
       "  </tbody>\n",
       "</table>\n",
       "</div>"
      ],
      "text/plain": [
       "                                        bb_human             bb_object  \\\n",
       "interaction_id instance_id                                               \n",
       "225            0            (364, 142, 379, 242)  (368, 235, 393, 391)   \n",
       "               1             (294, 42, 380, 107)  (368, 235, 393, 391)   \n",
       "226            0             (281, 39, 384, 411)  (359, 217, 399, 396)   \n",
       "\n",
       "                            visible action        object  \n",
       "interaction_id instance_id                                \n",
       "225            0               True  carry  baseball_bat  \n",
       "               1               True  carry  baseball_bat  \n",
       "226            0               True   hold  baseball_bat  "
      ]
     },
     "metadata": {},
     "output_type": "display_data"
    },
    {
     "data": {
      "text/markdown": [
       "### HICO_train2015_00000052.jpg\n",
       "![HICO_train2015_00000052.jpg](HICO_train2015_00000052.png)"
      ],
      "text/plain": [
       "<IPython.core.display.Markdown object>"
      ]
     },
     "metadata": {},
     "output_type": "display_data"
    },
    {
     "data": {
      "text/html": [
       "<div>\n",
       "<style scoped>\n",
       "    .dataframe tbody tr th:only-of-type {\n",
       "        vertical-align: middle;\n",
       "    }\n",
       "\n",
       "    .dataframe tbody tr th {\n",
       "        vertical-align: top;\n",
       "    }\n",
       "\n",
       "    .dataframe thead th {\n",
       "        text-align: right;\n",
       "    }\n",
       "</style>\n",
       "<table border=\"1\" class=\"dataframe\">\n",
       "  <thead>\n",
       "    <tr style=\"text-align: right;\">\n",
       "      <th></th>\n",
       "      <th></th>\n",
       "      <th>bb_human</th>\n",
       "      <th>bb_object</th>\n",
       "      <th>visible</th>\n",
       "      <th>action</th>\n",
       "      <th>object</th>\n",
       "    </tr>\n",
       "    <tr>\n",
       "      <th>interaction_id</th>\n",
       "      <th>instance_id</th>\n",
       "      <th></th>\n",
       "      <th></th>\n",
       "      <th></th>\n",
       "      <th></th>\n",
       "      <th></th>\n",
       "    </tr>\n",
       "  </thead>\n",
       "  <tbody>\n",
       "    <tr>\n",
       "      <th>226</th>\n",
       "      <th>0</th>\n",
       "      <td>(2, 50, 264, 427)</td>\n",
       "      <td>(197, 66, 400, 293)</td>\n",
       "      <td>True</td>\n",
       "      <td>hold</td>\n",
       "      <td>baseball_bat</td>\n",
       "    </tr>\n",
       "    <tr>\n",
       "      <th>230</th>\n",
       "      <th>0</th>\n",
       "      <td>(5, 34, 262, 423)</td>\n",
       "      <td>(212, 70, 422, 293)</td>\n",
       "      <td>True</td>\n",
       "      <td>wield</td>\n",
       "      <td>baseball_bat</td>\n",
       "    </tr>\n",
       "  </tbody>\n",
       "</table>\n",
       "</div>"
      ],
      "text/plain": [
       "                                     bb_human            bb_object  visible  \\\n",
       "interaction_id instance_id                                                    \n",
       "226            0            (2, 50, 264, 427)  (197, 66, 400, 293)     True   \n",
       "230            0            (5, 34, 262, 423)  (212, 70, 422, 293)     True   \n",
       "\n",
       "                           action        object  \n",
       "interaction_id instance_id                       \n",
       "226            0             hold  baseball_bat  \n",
       "230            0            wield  baseball_bat  "
      ]
     },
     "metadata": {},
     "output_type": "display_data"
    },
    {
     "data": {
      "text/markdown": [
       "### HICO_train2015_00000053.jpg\n",
       "![HICO_train2015_00000053.jpg](HICO_train2015_00000053.png)"
      ],
      "text/plain": [
       "<IPython.core.display.Markdown object>"
      ]
     },
     "metadata": {},
     "output_type": "display_data"
    },
    {
     "data": {
      "text/html": [
       "<div>\n",
       "<style scoped>\n",
       "    .dataframe tbody tr th:only-of-type {\n",
       "        vertical-align: middle;\n",
       "    }\n",
       "\n",
       "    .dataframe tbody tr th {\n",
       "        vertical-align: top;\n",
       "    }\n",
       "\n",
       "    .dataframe thead th {\n",
       "        text-align: right;\n",
       "    }\n",
       "</style>\n",
       "<table border=\"1\" class=\"dataframe\">\n",
       "  <thead>\n",
       "    <tr style=\"text-align: right;\">\n",
       "      <th></th>\n",
       "      <th></th>\n",
       "      <th>bb_human</th>\n",
       "      <th>bb_object</th>\n",
       "      <th>visible</th>\n",
       "      <th>action</th>\n",
       "      <th>object</th>\n",
       "    </tr>\n",
       "    <tr>\n",
       "      <th>interaction_id</th>\n",
       "      <th>instance_id</th>\n",
       "      <th></th>\n",
       "      <th></th>\n",
       "      <th></th>\n",
       "      <th></th>\n",
       "      <th></th>\n",
       "    </tr>\n",
       "  </thead>\n",
       "  <tbody>\n",
       "    <tr>\n",
       "      <th>89</th>\n",
       "      <th>-1</th>\n",
       "      <td>None</td>\n",
       "      <td>None</td>\n",
       "      <td>False</td>\n",
       "      <td>sit_on</td>\n",
       "      <td>chair</td>\n",
       "    </tr>\n",
       "  </tbody>\n",
       "</table>\n",
       "</div>"
      ],
      "text/plain": [
       "                           bb_human bb_object  visible  action object\n",
       "interaction_id instance_id                                           \n",
       "89             -1              None      None    False  sit_on  chair"
      ]
     },
     "metadata": {},
     "output_type": "display_data"
    },
    {
     "data": {
      "text/markdown": [
       "### HICO_train2015_00000054.jpg\n",
       "![HICO_train2015_00000054.jpg](HICO_train2015_00000054.png)"
      ],
      "text/plain": [
       "<IPython.core.display.Markdown object>"
      ]
     },
     "metadata": {},
     "output_type": "display_data"
    },
    {
     "data": {
      "text/html": [
       "<div>\n",
       "<style scoped>\n",
       "    .dataframe tbody tr th:only-of-type {\n",
       "        vertical-align: middle;\n",
       "    }\n",
       "\n",
       "    .dataframe tbody tr th {\n",
       "        vertical-align: top;\n",
       "    }\n",
       "\n",
       "    .dataframe thead th {\n",
       "        text-align: right;\n",
       "    }\n",
       "</style>\n",
       "<table border=\"1\" class=\"dataframe\">\n",
       "  <thead>\n",
       "    <tr style=\"text-align: right;\">\n",
       "      <th></th>\n",
       "      <th></th>\n",
       "      <th>bb_human</th>\n",
       "      <th>bb_object</th>\n",
       "      <th>visible</th>\n",
       "      <th>action</th>\n",
       "      <th>object</th>\n",
       "    </tr>\n",
       "    <tr>\n",
       "      <th>interaction_id</th>\n",
       "      <th>instance_id</th>\n",
       "      <th></th>\n",
       "      <th></th>\n",
       "      <th></th>\n",
       "      <th></th>\n",
       "      <th></th>\n",
       "    </tr>\n",
       "  </thead>\n",
       "  <tbody>\n",
       "    <tr>\n",
       "      <th>462</th>\n",
       "      <th>0</th>\n",
       "      <td>(18, 18, 417, 639)</td>\n",
       "      <td>(317, 227, 478, 306)</td>\n",
       "      <td>True</td>\n",
       "      <td>no_interaction</td>\n",
       "      <td>skateboard</td>\n",
       "    </tr>\n",
       "  </tbody>\n",
       "</table>\n",
       "</div>"
      ],
      "text/plain": [
       "                                      bb_human             bb_object  visible  \\\n",
       "interaction_id instance_id                                                      \n",
       "462            0            (18, 18, 417, 639)  (317, 227, 478, 306)     True   \n",
       "\n",
       "                                    action      object  \n",
       "interaction_id instance_id                              \n",
       "462            0            no_interaction  skateboard  "
      ]
     },
     "metadata": {},
     "output_type": "display_data"
    },
    {
     "data": {
      "text/markdown": [
       "### HICO_train2015_00000055.jpg\n",
       "![HICO_train2015_00000055.jpg](HICO_train2015_00000055.png)"
      ],
      "text/plain": [
       "<IPython.core.display.Markdown object>"
      ]
     },
     "metadata": {},
     "output_type": "display_data"
    },
    {
     "data": {
      "text/html": [
       "<div>\n",
       "<style scoped>\n",
       "    .dataframe tbody tr th:only-of-type {\n",
       "        vertical-align: middle;\n",
       "    }\n",
       "\n",
       "    .dataframe tbody tr th {\n",
       "        vertical-align: top;\n",
       "    }\n",
       "\n",
       "    .dataframe thead th {\n",
       "        text-align: right;\n",
       "    }\n",
       "</style>\n",
       "<table border=\"1\" class=\"dataframe\">\n",
       "  <thead>\n",
       "    <tr style=\"text-align: right;\">\n",
       "      <th></th>\n",
       "      <th></th>\n",
       "      <th>bb_human</th>\n",
       "      <th>bb_object</th>\n",
       "      <th>visible</th>\n",
       "      <th>action</th>\n",
       "      <th>object</th>\n",
       "    </tr>\n",
       "    <tr>\n",
       "      <th>interaction_id</th>\n",
       "      <th>instance_id</th>\n",
       "      <th></th>\n",
       "      <th></th>\n",
       "      <th></th>\n",
       "      <th></th>\n",
       "      <th></th>\n",
       "    </tr>\n",
       "  </thead>\n",
       "  <tbody>\n",
       "    <tr>\n",
       "      <th>370</th>\n",
       "      <th>0</th>\n",
       "      <td>(490, 214, 563, 386)</td>\n",
       "      <td>(90, 94, 141, 146)</td>\n",
       "      <td>True</td>\n",
       "      <td>fly</td>\n",
       "      <td>kite</td>\n",
       "    </tr>\n",
       "    <tr>\n",
       "      <th>374</th>\n",
       "      <th>0</th>\n",
       "      <td>(498, 224, 557, 381)</td>\n",
       "      <td>(552, 90, 637, 225)</td>\n",
       "      <td>True</td>\n",
       "      <td>pull</td>\n",
       "      <td>kite</td>\n",
       "    </tr>\n",
       "  </tbody>\n",
       "</table>\n",
       "</div>"
      ],
      "text/plain": [
       "                                        bb_human            bb_object  \\\n",
       "interaction_id instance_id                                              \n",
       "370            0            (490, 214, 563, 386)   (90, 94, 141, 146)   \n",
       "374            0            (498, 224, 557, 381)  (552, 90, 637, 225)   \n",
       "\n",
       "                            visible action object  \n",
       "interaction_id instance_id                         \n",
       "370            0               True    fly   kite  \n",
       "374            0               True   pull   kite  "
      ]
     },
     "metadata": {},
     "output_type": "display_data"
    },
    {
     "data": {
      "text/markdown": [
       "### HICO_train2015_00000056.jpg\n",
       "![HICO_train2015_00000056.jpg](HICO_train2015_00000056.png)"
      ],
      "text/plain": [
       "<IPython.core.display.Markdown object>"
      ]
     },
     "metadata": {},
     "output_type": "display_data"
    },
    {
     "data": {
      "text/html": [
       "<div>\n",
       "<style scoped>\n",
       "    .dataframe tbody tr th:only-of-type {\n",
       "        vertical-align: middle;\n",
       "    }\n",
       "\n",
       "    .dataframe tbody tr th {\n",
       "        vertical-align: top;\n",
       "    }\n",
       "\n",
       "    .dataframe thead th {\n",
       "        text-align: right;\n",
       "    }\n",
       "</style>\n",
       "<table border=\"1\" class=\"dataframe\">\n",
       "  <thead>\n",
       "    <tr style=\"text-align: right;\">\n",
       "      <th></th>\n",
       "      <th></th>\n",
       "      <th>bb_human</th>\n",
       "      <th>bb_object</th>\n",
       "      <th>visible</th>\n",
       "      <th>action</th>\n",
       "      <th>object</th>\n",
       "    </tr>\n",
       "    <tr>\n",
       "      <th>interaction_id</th>\n",
       "      <th>instance_id</th>\n",
       "      <th></th>\n",
       "      <th></th>\n",
       "      <th></th>\n",
       "      <th></th>\n",
       "      <th></th>\n",
       "    </tr>\n",
       "  </thead>\n",
       "  <tbody>\n",
       "    <tr>\n",
       "      <th>9</th>\n",
       "      <th>0</th>\n",
       "      <td>(14, 135, 317, 512)</td>\n",
       "      <td>(153, 16, 478, 138)</td>\n",
       "      <td>True</td>\n",
       "      <td>no_interaction</td>\n",
       "      <td>airplane</td>\n",
       "    </tr>\n",
       "  </tbody>\n",
       "</table>\n",
       "</div>"
      ],
      "text/plain": [
       "                                       bb_human            bb_object  visible  \\\n",
       "interaction_id instance_id                                                      \n",
       "9              0            (14, 135, 317, 512)  (153, 16, 478, 138)     True   \n",
       "\n",
       "                                    action    object  \n",
       "interaction_id instance_id                            \n",
       "9              0            no_interaction  airplane  "
      ]
     },
     "metadata": {},
     "output_type": "display_data"
    },
    {
     "data": {
      "text/markdown": [
       "### HICO_train2015_00000057.jpg\n",
       "![HICO_train2015_00000057.jpg](HICO_train2015_00000057.png)"
      ],
      "text/plain": [
       "<IPython.core.display.Markdown object>"
      ]
     },
     "metadata": {},
     "output_type": "display_data"
    },
    {
     "data": {
      "text/html": [
       "<div>\n",
       "<style scoped>\n",
       "    .dataframe tbody tr th:only-of-type {\n",
       "        vertical-align: middle;\n",
       "    }\n",
       "\n",
       "    .dataframe tbody tr th {\n",
       "        vertical-align: top;\n",
       "    }\n",
       "\n",
       "    .dataframe thead th {\n",
       "        text-align: right;\n",
       "    }\n",
       "</style>\n",
       "<table border=\"1\" class=\"dataframe\">\n",
       "  <thead>\n",
       "    <tr style=\"text-align: right;\">\n",
       "      <th></th>\n",
       "      <th></th>\n",
       "      <th>bb_human</th>\n",
       "      <th>bb_object</th>\n",
       "      <th>visible</th>\n",
       "      <th>action</th>\n",
       "      <th>object</th>\n",
       "    </tr>\n",
       "    <tr>\n",
       "      <th>interaction_id</th>\n",
       "      <th>instance_id</th>\n",
       "      <th></th>\n",
       "      <th></th>\n",
       "      <th></th>\n",
       "      <th></th>\n",
       "      <th></th>\n",
       "    </tr>\n",
       "  </thead>\n",
       "  <tbody>\n",
       "    <tr>\n",
       "      <th>75</th>\n",
       "      <th>0</th>\n",
       "      <td>(594, 112, 630, 152)</td>\n",
       "      <td>(2, 62, 554, 421)</td>\n",
       "      <td>True</td>\n",
       "      <td>no_interaction</td>\n",
       "      <td>car</td>\n",
       "    </tr>\n",
       "  </tbody>\n",
       "</table>\n",
       "</div>"
      ],
      "text/plain": [
       "                                        bb_human          bb_object  visible  \\\n",
       "interaction_id instance_id                                                     \n",
       "75             0            (594, 112, 630, 152)  (2, 62, 554, 421)     True   \n",
       "\n",
       "                                    action object  \n",
       "interaction_id instance_id                         \n",
       "75             0            no_interaction    car  "
      ]
     },
     "metadata": {},
     "output_type": "display_data"
    },
    {
     "data": {
      "text/markdown": [
       "### HICO_train2015_00000058.jpg\n",
       "![HICO_train2015_00000058.jpg](HICO_train2015_00000058.png)"
      ],
      "text/plain": [
       "<IPython.core.display.Markdown object>"
      ]
     },
     "metadata": {},
     "output_type": "display_data"
    },
    {
     "data": {
      "text/html": [
       "<div>\n",
       "<style scoped>\n",
       "    .dataframe tbody tr th:only-of-type {\n",
       "        vertical-align: middle;\n",
       "    }\n",
       "\n",
       "    .dataframe tbody tr th {\n",
       "        vertical-align: top;\n",
       "    }\n",
       "\n",
       "    .dataframe thead th {\n",
       "        text-align: right;\n",
       "    }\n",
       "</style>\n",
       "<table border=\"1\" class=\"dataframe\">\n",
       "  <thead>\n",
       "    <tr style=\"text-align: right;\">\n",
       "      <th></th>\n",
       "      <th></th>\n",
       "      <th>bb_human</th>\n",
       "      <th>bb_object</th>\n",
       "      <th>visible</th>\n",
       "      <th>action</th>\n",
       "      <th>object</th>\n",
       "    </tr>\n",
       "    <tr>\n",
       "      <th>interaction_id</th>\n",
       "      <th>instance_id</th>\n",
       "      <th></th>\n",
       "      <th></th>\n",
       "      <th></th>\n",
       "      <th></th>\n",
       "      <th></th>\n",
       "    </tr>\n",
       "  </thead>\n",
       "  <tbody>\n",
       "    <tr>\n",
       "      <th>226</th>\n",
       "      <th>0</th>\n",
       "      <td>(102, 190, 372, 480)</td>\n",
       "      <td>(258, 138, 354, 314)</td>\n",
       "      <td>True</td>\n",
       "      <td>hold</td>\n",
       "      <td>baseball_bat</td>\n",
       "    </tr>\n",
       "    <tr>\n",
       "      <th>230</th>\n",
       "      <th>0</th>\n",
       "      <td>(104, 193, 370, 479)</td>\n",
       "      <td>(277, 142, 352, 309)</td>\n",
       "      <td>True</td>\n",
       "      <td>wield</td>\n",
       "      <td>baseball_bat</td>\n",
       "    </tr>\n",
       "  </tbody>\n",
       "</table>\n",
       "</div>"
      ],
      "text/plain": [
       "                                        bb_human             bb_object  \\\n",
       "interaction_id instance_id                                               \n",
       "226            0            (102, 190, 372, 480)  (258, 138, 354, 314)   \n",
       "230            0            (104, 193, 370, 479)  (277, 142, 352, 309)   \n",
       "\n",
       "                            visible action        object  \n",
       "interaction_id instance_id                                \n",
       "226            0               True   hold  baseball_bat  \n",
       "230            0               True  wield  baseball_bat  "
      ]
     },
     "metadata": {},
     "output_type": "display_data"
    },
    {
     "data": {
      "text/markdown": [
       "### HICO_train2015_00000059.jpg\n",
       "![HICO_train2015_00000059.jpg](HICO_train2015_00000059.png)"
      ],
      "text/plain": [
       "<IPython.core.display.Markdown object>"
      ]
     },
     "metadata": {},
     "output_type": "display_data"
    },
    {
     "data": {
      "text/html": [
       "<div>\n",
       "<style scoped>\n",
       "    .dataframe tbody tr th:only-of-type {\n",
       "        vertical-align: middle;\n",
       "    }\n",
       "\n",
       "    .dataframe tbody tr th {\n",
       "        vertical-align: top;\n",
       "    }\n",
       "\n",
       "    .dataframe thead th {\n",
       "        text-align: right;\n",
       "    }\n",
       "</style>\n",
       "<table border=\"1\" class=\"dataframe\">\n",
       "  <thead>\n",
       "    <tr style=\"text-align: right;\">\n",
       "      <th></th>\n",
       "      <th></th>\n",
       "      <th>bb_human</th>\n",
       "      <th>bb_object</th>\n",
       "      <th>visible</th>\n",
       "      <th>action</th>\n",
       "      <th>object</th>\n",
       "    </tr>\n",
       "    <tr>\n",
       "      <th>interaction_id</th>\n",
       "      <th>instance_id</th>\n",
       "      <th></th>\n",
       "      <th></th>\n",
       "      <th></th>\n",
       "      <th></th>\n",
       "      <th></th>\n",
       "    </tr>\n",
       "  </thead>\n",
       "  <tbody>\n",
       "    <tr>\n",
       "      <th>154</th>\n",
       "      <th>0</th>\n",
       "      <td>(388, 56, 555, 426)</td>\n",
       "      <td>(51, 213, 637, 422)</td>\n",
       "      <td>True</td>\n",
       "      <td>sit_on</td>\n",
       "      <td>motorcycle</td>\n",
       "    </tr>\n",
       "    <tr>\n",
       "      <th rowspan=\"2\" valign=\"top\">155</th>\n",
       "      <th>0</th>\n",
       "      <td>(148, 94, 292, 267)</td>\n",
       "      <td>(2, 128, 393, 413)</td>\n",
       "      <td>True</td>\n",
       "      <td>straddle</td>\n",
       "      <td>motorcycle</td>\n",
       "    </tr>\n",
       "    <tr>\n",
       "      <th>1</th>\n",
       "      <td>(395, 101, 557, 423)</td>\n",
       "      <td>(60, 89, 635, 425)</td>\n",
       "      <td>True</td>\n",
       "      <td>straddle</td>\n",
       "      <td>motorcycle</td>\n",
       "    </tr>\n",
       "  </tbody>\n",
       "</table>\n",
       "</div>"
      ],
      "text/plain": [
       "                                        bb_human            bb_object  \\\n",
       "interaction_id instance_id                                              \n",
       "154            0             (388, 56, 555, 426)  (51, 213, 637, 422)   \n",
       "155            0             (148, 94, 292, 267)   (2, 128, 393, 413)   \n",
       "               1            (395, 101, 557, 423)   (60, 89, 635, 425)   \n",
       "\n",
       "                            visible    action      object  \n",
       "interaction_id instance_id                                 \n",
       "154            0               True    sit_on  motorcycle  \n",
       "155            0               True  straddle  motorcycle  \n",
       "               1               True  straddle  motorcycle  "
      ]
     },
     "metadata": {},
     "output_type": "display_data"
    }
   ],
   "source": [
    "for i in range(50, 60):\n",
    "    show_all(f'HICO_train2015_000000{i}.jpg')"
   ]
  }
 ],
 "metadata": {
  "kernelspec": {
   "display_name": "Python [conda env:eccv]",
   "language": "python",
   "name": "conda-env-eccv-py"
  },
  "language_info": {
   "codemirror_mode": {
    "name": "ipython",
    "version": 3
   },
   "file_extension": ".py",
   "mimetype": "text/x-python",
   "name": "python",
   "nbconvert_exporter": "python",
   "pygments_lexer": "ipython3",
   "version": "3.7.6"
  }
 },
 "nbformat": 4,
 "nbformat_minor": 2
}
