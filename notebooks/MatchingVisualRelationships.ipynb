{
 "cells": [
  {
   "cell_type": "markdown",
   "metadata": {},
   "source": [
    "# Matching visual relationships"
   ]
  },
  {
   "cell_type": "code",
   "execution_count": 1,
   "metadata": {},
   "outputs": [],
   "source": [
    "import torch\n",
    "from torch_scatter import scatter_mean\n",
    "from torch_geometric.data import Data, Batch\n",
    "from torchvision.ops.boxes import box_iou\n",
    "\n",
    "torch.manual_seed(42);\n",
    "\n",
    "C_objects = 4\n",
    "C_predicates = 3\n",
    "H = 480\n",
    "W = 640"
   ]
  },
  {
   "cell_type": "code",
   "execution_count": 2,
   "metadata": {},
   "outputs": [
    {
     "name": "stdout",
     "output_type": "stream",
     "text": [
      "g\tso_idx\tspo_class\n",
      "-------------------------\n",
      "0\t(1, 2)\t(3, 1, 0)\n",
      "0\t(1, 2)\t(3, 2, 0)\n",
      "0\t(2, 1)\t(0, 1, 3)\n",
      "0\t(1, 2)\t(3, 0, 0)\n",
      "1\t(4, 4)\t(3, 1, 3)\n",
      "1\t(3, 4)\t(1, 0, 3)\n",
      "1\t(3, 5)\t(1, 1, 3)\n",
      "1\t(3, 7)\t(1, 1, 0)\n",
      "1\t(3, 7)\t(1, 1, 0)\n",
      "1\t(4, 6)\t(3, 2, 0)\n",
      "1\t(6, 6)\t(0, 2, 0)\n",
      "1\t(3, 7)\t(1, 0, 0)\n"
     ]
    }
   ],
   "source": [
    "def random_boxes(num_boxes, min_size=20):\n",
    "    WH = torch.tensor([W, H]).float()\n",
    "    x1y1 = torch.rand(size=(num_boxes, 2)) * (WH - min_size)\n",
    "    x2y2 = x1y1 + min_size + (torch.rand(size=(num_boxes, 2)) * (WH - x1y1 - min_size))\n",
    "    return torch.cat((x1y1, x2y2), dim=1)\n",
    "\n",
    "def ground_truth(num_nodes, num_relations):\n",
    "    return Data(\n",
    "        num_nodes=num_nodes,\n",
    "        n_nodes=num_nodes,\n",
    "        n_edges=num_relations,\n",
    "        \n",
    "        object_classes=torch.randint(C_objects, size=(num_nodes,)),\n",
    "        object_boxes=random_boxes(num_nodes),\n",
    "        \n",
    "        predicate_classes=torch.randint(C_predicates, size=(num_relations,)),\n",
    "        relation_indexes=torch.randint(num_nodes, size=(2, num_relations)),\n",
    "    )\n",
    "\n",
    "t1 = ground_truth(3, 4)\n",
    "t2 = ground_truth(5, 8)\n",
    "targets = Batch.from_data_list([t1, t2])\n",
    "\n",
    "print('g', 'so_idx', 'spo_class', sep='\\t')\n",
    "print('-------------------------')\n",
    "for graph_idx, subj_idx, subj_class, predicate_class, obj_idx, obj_class in zip(\n",
    "    targets.batch[targets.relation_indexes[0]].numpy(),\n",
    "    targets.relation_indexes[0].numpy(),\n",
    "    targets.object_classes[targets.relation_indexes[0]].numpy(),\n",
    "    targets.predicate_classes.numpy(),\n",
    "    targets.relation_indexes[1].numpy(),\n",
    "    targets.object_classes[targets.relation_indexes[1]].numpy(),\n",
    "):\n",
    "    print(graph_idx, (subj_idx, obj_idx), (subj_class, predicate_class, obj_class), sep='\\t')"
   ]
  },
  {
   "cell_type": "markdown",
   "metadata": {},
   "source": [
    "## Predicate prediction\n",
    "\n",
    "The first requirement for a match is that subject, object and predicate classes match:\n",
    "- `subject_class`\n",
    "- `predicate_class`\n",
    "- `object_class`\n",
    "\n",
    "Also, the boxes need to match. In this case, `predictions` and `targets` share the same object instances, \n",
    "so it's enough to match their indexes:\n",
    "- `graph_index`\n",
    "- `subject_index`\n",
    "- `object_index`\n",
    "\n",
    "Since the box indexes were offset when batching, `graph_index` is implicitly included in `subject_index` and `object_index`."
   ]
  },
  {
   "cell_type": "code",
   "execution_count": 3,
   "metadata": {},
   "outputs": [
    {
     "name": "stdout",
     "output_type": "stream",
     "text": [
      "g\tso_idx\tspo_class\t score\n",
      "--------------------------------------\n",
      "0\t(1, 1)\t(3, 0, 3)\t100.0%\n",
      "0\t(0, 1)\t(2, 1, 3)\t 65.4%\n",
      "0\t(2, 2)\t(0, 2, 0)\t 59.4%\n",
      "0\t(1, 2)\t(3, 2, 0)\t 33.4%\n",
      "0\t(1, 1)\t(3, 0, 3)\t 22.5%\n",
      "0\t(2, 0)\t(0, 1, 2)\t 18.2%\n",
      "0\t(0, 0)\t(2, 2, 2)\t 17.2%\n",
      "0\t(0, 2)\t(2, 0, 0)\t  7.6%\n",
      "0\t(1, 1)\t(3, 1, 3)\t  6.2%\n",
      "0\t(2, 0)\t(0, 2, 2)\t  3.4%\n",
      "1\t(3, 4)\t(1, 2, 3)\t 95.5%\n",
      "1\t(5, 6)\t(3, 1, 0)\t 95.5%\n",
      "1\t(7, 3)\t(0, 0, 1)\t 90.4%\n",
      "1\t(4, 4)\t(3, 0, 3)\t 75.8%\n",
      "1\t(5, 7)\t(3, 2, 0)\t 62.6%\n",
      "1\t(6, 3)\t(0, 1, 1)\t 44.5%\n",
      "1\t(4, 3)\t(3, 2, 1)\t 28.5%\n",
      "1\t(3, 7)\t(1, 2, 0)\t 13.3%\n",
      "1\t(4, 3)\t(3, 1, 1)\t 12.6%\n",
      "1\t(6, 5)\t(0, 0, 3)\t 10.4%\n"
     ]
    }
   ],
   "source": [
    "def prediction_using_gt_objects(num_relations, target: Data):\n",
    "    return Data(\n",
    "        num_nodes=target.num_nodes,\n",
    "        n_nodes=target.n_nodes,\n",
    "        n_edges=num_relations,\n",
    "        \n",
    "        object_classes=target.object_classes,\n",
    "        object_boxes=target.object_boxes,\n",
    "        \n",
    "        predicate_classes=torch.randint(C_predicates, size=(num_relations,)),\n",
    "        relation_indexes=torch.randint(target.num_nodes, size=(2, num_relations)),\n",
    "        relation_scores=torch.rand(size=(num_relations,)).sort(descending=True)[0],\n",
    "    )\n",
    "\n",
    "p1 = prediction_using_gt_objects(10, target=t1)\n",
    "p2 = prediction_using_gt_objects(10, target=t2)\n",
    "predictions = Batch.from_data_list([p1, p2])\n",
    "\n",
    "print('g', 'so_idx', 'spo_class', ' score', sep='\\t')\n",
    "print('--------------------------------------')\n",
    "for graph_idx, subj_idx, subj_class, predicate_class, obj_idx, obj_class, rel_score in zip(\n",
    "        predictions.batch[predictions.relation_indexes[0]].numpy(),\n",
    "        predictions.relation_indexes[0].numpy(),\n",
    "        predictions.object_classes[predictions.relation_indexes[0]].numpy(),\n",
    "        predictions.predicate_classes.numpy(),\n",
    "        predictions.relation_indexes[1].numpy(),\n",
    "        predictions.object_classes[predictions.relation_indexes[1]].numpy(),\n",
    "        predictions.relation_scores.numpy(),\n",
    "):\n",
    "    print(graph_idx, (subj_idx, obj_idx), (subj_class, predicate_class, obj_class), f'{rel_score:>6.1%}', sep='\\t')"
   ]
  },
  {
   "cell_type": "markdown",
   "metadata": {},
   "source": [
    "Use some broadcasting trick to compare all 5 fields across all `NxM` pairs at once.\n",
    "To have a match, all 5 fields must match."
   ]
  },
  {
   "cell_type": "code",
   "execution_count": 4,
   "metadata": {},
   "outputs": [],
   "source": [
    "# [E_t, 5]\n",
    "gt_matrix = torch.stack([\n",
    "    # subject_idx, object_idx\n",
    "    targets.batch[targets.relation_indexes[0]],\n",
    "    targets.batch[targets.relation_indexes[1]],\n",
    "    # subject_class, predicate_class, object_class\n",
    "    targets.object_classes[targets.relation_indexes[0]],\n",
    "    targets.predicate_classes,\n",
    "    targets.object_classes[targets.relation_indexes[1]],\n",
    "], dim=1)\n",
    "\n",
    "# [E_p, 5]\n",
    "pred_matrix = torch.stack([\n",
    "    # subject_idx, object_idx\n",
    "    predictions.batch[predictions.relation_indexes[0]],\n",
    "    predictions.batch[predictions.relation_indexes[1]],\n",
    "    # subject_class, predicate_class, object_class\n",
    "    predictions.object_classes[predictions.relation_indexes[0]],\n",
    "    predictions.predicate_classes,\n",
    "    predictions.object_classes[predictions.relation_indexes[1]],\n",
    "], dim=1)\n",
    "\n",
    "# Block matrix [E_p, E_t]\n",
    "matches = (gt_matrix[None, :, :] == pred_matrix[:, None, :]).all(dim=2)"
   ]
  },
  {
   "cell_type": "markdown",
   "metadata": {},
   "source": [
    "`matches`\n",
    "```\n",
    "                  Target relations\n",
    "\n",
    "            E_t_1 = 6      E_t_2 = 9\n",
    "          +-----------+-----------------+  \n",
    "          |x          |                 |  0\n",
    "P         |           |                 |\n",
    "r         |    x      |                 |\n",
    "e         |           |    Different    |\n",
    "d   E_p_1 |           |      graph      |\n",
    "i     =   |  x        |                 |\n",
    "c    10   |           |    NO MATCH     |\n",
    "t         |           |                 |\n",
    "e         |      x    |                 |\n",
    "d         |           |                 |  9\n",
    "          +-----------+-----------------+ \n",
    "r         |           |      x          | 10\n",
    "e         |           |  x              |\n",
    "l         |           |              x  |\n",
    "a         | Different |                 |\n",
    "t   E_p_2 |   graph   |            x    |\n",
    "i     =   |           |                 |\n",
    "o    10   | NO MATCH  |    x            |\n",
    "n         |           |                 |\n",
    "s         |           |                 |\n",
    "          |           |                 | 19\n",
    "          +-----------+-----------------+\n",
    "```       \n",
    "\n",
    "`offset`\n",
    "```\n",
    "          +-----------+-----------------+\n",
    "          |0 ....... 0|10 ........... 10|\n",
    "          +-----------+-----------------+\n",
    "```\n",
    "\n",
    "`matches.any(0)`\n",
    "```\n",
    "          +-----------+-----------------+\n",
    "          |x x x x - -|- x x x - - x x -|\n",
    "          +-----------+-----------------+\n",
    "```\n",
    "\n",
    "`matches.argmax(0) - offset`\n",
    "```\n",
    "          +-----------+-----------------+\n",
    "          |0 5 2 8 - -|- 1 6 0 - - 4 2 -|\n",
    "          +-----------+-----------------+\n",
    "```"
   ]
  },
  {
   "cell_type": "markdown",
   "metadata": {},
   "source": [
    "Were ground-truth relations retrieved among the predicted relations? \n",
    "\n",
    "If so, at what index in the list of predictions for that graph? (rank is zero-based)"
   ]
  },
  {
   "cell_type": "code",
   "execution_count": 5,
   "metadata": {},
   "outputs": [
    {
     "name": "stdout",
     "output_type": "stream",
     "text": [
      "g  retrieved  rank\n",
      "------------------\n",
      "0      ❌        \n",
      "0      👍       3\n",
      "0      ❌        \n",
      "0      ❌        \n",
      "1      ❌        \n",
      "1      ❌        \n",
      "1      ❌        \n",
      "1      ❌        \n",
      "1      ❌        \n",
      "1      👍       4\n",
      "1      ❌        \n",
      "1      ❌        \n"
     ]
    }
   ],
   "source": [
    "# matches.argmax(dim=0) will return the last index if no True value is found.\n",
    "# We can use matches.any(dim=0) to ignore those cases.\n",
    "# Also, we must account for the row offset in the matches matrix.\n",
    "gt_retrieved = matches.any(dim=0)\n",
    "\n",
    "offset = predictions.n_edges.cumsum(dim=0).repeat_interleave(targets.n_edges) - predictions.n_edges[0]\n",
    "gt_retrieved_rank = matches.int().argmax(dim=0) - offset\n",
    "\n",
    "gt_relation_to_graph_assignment = targets.batch[targets.relation_indexes[0]]\n",
    "\n",
    "print('g  retrieved  rank')\n",
    "print('------------------')\n",
    "for g, ret, rank in zip(gt_relation_to_graph_assignment.numpy(), gt_retrieved.numpy(), gt_retrieved_rank.numpy()):\n",
    "    print(f'{g}  {\"👍\" if ret else \"❌\":^10} {rank if ret else \"\":>2}')"
   ]
  },
  {
   "cell_type": "code",
   "execution_count": 6,
   "metadata": {},
   "outputs": [
    {
     "name": "stdout",
     "output_type": "stream",
     "text": [
      "g  recall\n",
      "---------\n",
      "0   25.0%\n",
      "1   12.5%\n"
     ]
    }
   ],
   "source": [
    "recall_per_graph = scatter_mean(gt_retrieved.float(), gt_relation_to_graph_assignment, dim=0, dim_size=targets.num_graphs)\n",
    "\n",
    "print('g  recall')\n",
    "print('---------')\n",
    "for g, rec in enumerate(recall_per_graph.numpy()):\n",
    "    print(f'{g}  {rec:>6.1%}')"
   ]
  },
  {
   "cell_type": "markdown",
   "metadata": {
    "toc-hr-collapsed": false
   },
   "source": [
    "## Phrase detection\n",
    "\n",
    "The first requirement for a match is that subject, object and predicate classes match:\n",
    "- `subject_class`\n",
    "- `predicate_class`\n",
    "- `object_class`\n",
    "\n",
    "Also, the union of subject and object boxes need to match with IoU > .5.\n",
    "- `graph_index`\n",
    "- `iou_union > .5`"
   ]
  },
  {
   "cell_type": "code",
   "execution_count": 7,
   "metadata": {},
   "outputs": [],
   "source": [
    "def noisy_boxes(boxes, H, W, scale=15):\n",
    "    \"\"\"Adds gaussian noise to the pixel coordinates\"\"\"\n",
    "    res = boxes + scale * torch.randn_like(boxes)\n",
    "    res[:, [0, 2]] = res[:, [0, 2]].clamp(min=0, max=W)\n",
    "    res[:, [1, 3]] = res[:, [1, 3]].clamp(min=0, max=H)\n",
    "    return res\n",
    "\n",
    "def noisy_classes(classes, C, p=.2):\n",
    "    \"\"\"With probability p, assigns a uniformly random class, otherwise keeps the original\"\"\"\n",
    "    return torch.where(\n",
    "        torch.rand_like(classes, dtype=torch.float) < p, \n",
    "        torch.randint_like(classes, C), \n",
    "        classes\n",
    "    )\n",
    "\n",
    "def noisy_prediction(target: Data, topk: int):\n",
    "    # For every object box, simulate 2 noisy detections\n",
    "    object_boxes = noisy_boxes(target.object_boxes.repeat(2, 1), H, W)\n",
    "    object_classes = noisy_classes(target.object_classes.repeat(2), C_objects)\n",
    "    \n",
    "    \n",
    "    num_relations = C_predicates * len(object_boxes) * (len(object_boxes) - 1)\n",
    "    predicate_classes=torch.randint(C_predicates, size=(num_relations,))\n",
    "    relation_indexes=torch.randint(len(object_boxes), size=(2, num_relations))\n",
    "    relation_scores=torch.rand(size=(len(predicate_classes),))\n",
    "    relation_scores, topk_index = torch.topk(relation_scores, k=topk, dim=0)\n",
    "    \n",
    "    return Data(\n",
    "        num_nodes=len(object_boxes),\n",
    "        n_nodes=len(object_boxes),\n",
    "        n_edges=len(relation_scores),\n",
    "\n",
    "        object_classes=object_classes,\n",
    "        object_boxes=object_boxes,\n",
    "\n",
    "        predicate_classes=predicate_classes[topk_index],\n",
    "        relation_indexes=relation_indexes[:, topk_index],\n",
    "        relation_scores=relation_scores,\n",
    "    )\n",
    "\n",
    "p1 = noisy_prediction(t1, topk=20)\n",
    "p2 = noisy_prediction(t2, topk=20)\n",
    "predictions = Batch.from_data_list([p1, p2])"
   ]
  },
  {
   "cell_type": "markdown",
   "metadata": {},
   "source": [
    "Matching subject, object and predicate classes same as before, but now we include `graph_idx` to distinghuish graphs."
   ]
  },
  {
   "cell_type": "code",
   "execution_count": 8,
   "metadata": {},
   "outputs": [],
   "source": [
    "# [E_p, 4]\n",
    "pred_matrix = torch.stack([\n",
    "    # graph_idx\n",
    "    predictions.batch[predictions.relation_indexes[0]],\n",
    "    # subject_class, predicate_class, object_class\n",
    "    predictions.object_classes[predictions.relation_indexes[0]],\n",
    "    predictions.predicate_classes,\n",
    "    predictions.object_classes[predictions.relation_indexes[1]],\n",
    "], dim=1)\n",
    "\n",
    "# [E_t, 4]\n",
    "gt_matrix = torch.stack([\n",
    "    # graph_idx\n",
    "    targets.batch[targets.relation_indexes[0]],\n",
    "    # subject_class, predicate_class, object_class\n",
    "    targets.object_classes[targets.relation_indexes[0]],\n",
    "    targets.predicate_classes,\n",
    "    targets.object_classes[targets.relation_indexes[1]],\n",
    "], dim=1)\n",
    "\n",
    "# Block matrix [E_p, E_t]\n",
    "matches_class = (gt_matrix[None, :, :] == pred_matrix[:, None, :]).all(dim=2)"
   ]
  },
  {
   "cell_type": "markdown",
   "metadata": {},
   "source": [
    "Compute the union box between corresponding boxes:\n",
    "```\n",
    "0------------------------------------>     0------------------------------------>\n",
    "|                                    x     |                                    x\n",
    "|   x1, y1 ------------+                   |   u1, u1 ---------------------+\n",
    "|     |                |                   |     |                         |\n",
    "|     |     x1, y1 ----|--------+      =>  |     |                         |\n",
    "|     | a     |        |        |          |     |                         |\n",
    "|     +------------- x2, y2     |          |     |                         |\n",
    "|             |             b   |          |     |                         |\n",
    "|             +-------------- x2, y2       |     +---------------------- u2, u2\n",
    "V y                                        V y\n",
    "```"
   ]
  },
  {
   "cell_type": "code",
   "execution_count": 9,
   "metadata": {},
   "outputs": [],
   "source": [
    "def matched_boxlist_union(a, b):\n",
    "    # Boxes are represented as [N, 4] tensors,\n",
    "    # where the 4 corrdinates are in order (x1, y1, x2, y2)\n",
    "    assert a.shape[0] == b.shape[0]\n",
    "    assert a.shape[1] == b.shape[1] == 4\n",
    "    \n",
    "    union_top_left = torch.min(a[:, :2], b[:, :2])  # N x (x1, y1)\n",
    "    union_bottom_right = torch.max(a[:, 2:], b[:, 2:])  # N x (x2, y2)\n",
    "    boxes_union = torch.cat((union_top_left, union_bottom_right), dim=1)\n",
    "\n",
    "    return boxes_union\n",
    "\n",
    "# [E_p, 4]\n",
    "pred_union_boxes = matched_boxlist_union(\n",
    "    predictions.object_boxes[predictions.relation_indexes[0]],  # subj\n",
    "    predictions.object_boxes[predictions.relation_indexes[1]],  # obj\n",
    ")\n",
    "\n",
    "# [E_t, 4]\n",
    "gt_union_boxes = matched_boxlist_union(\n",
    "    targets.object_boxes[targets.relation_indexes[0]],  # subj\n",
    "    targets.object_boxes[targets.relation_indexes[1]],  # obj\n",
    ")\n",
    "\n",
    "# Full matrix [E_p, E_t]\n",
    "iou_union = box_iou(pred_union_boxes, gt_union_boxes)\n",
    "matches_iou_union = iou_union > .5\n",
    "\n",
    "# Block matrix [E_p, E_t]\n",
    "matches = matches_class & matches_iou_union"
   ]
  },
  {
   "cell_type": "code",
   "execution_count": 10,
   "metadata": {},
   "outputs": [
    {
     "name": "stdout",
     "output_type": "stream",
     "text": [
      "gt\tpred\tspo_class\t  t/p union box (iou)\n",
      "=========================================================\n",
      "0\t\t(3, 1, 0)\t[372 118 584 472]\n",
      "---------------------------------------------------------\n",
      "1\t\t(3, 2, 0)\t[372 118 584 472]\n",
      ">\t  5\t(3, 2, 0)\t[387 109 591 480] (86.3%)\n",
      "---------------------------------------------------------\n",
      "2\t\t(0, 1, 3)\t[372 118 584 472]\n",
      "---------------------------------------------------------\n",
      "3\t\t(3, 0, 0)\t[372 118 584 472]\n",
      ">\t  4\t(3, 0, 0)\t[344 121 539 430] (81.2%)\n",
      ">\t 18\t(3, 0, 0)\t[344 121 539 430] (83.3%)\n",
      "---------------------------------------------------------\n",
      "4\t\t(3, 1, 3)\t[209 372 553 416]\n",
      "---------------------------------------------------------\n",
      "5\t\t(1, 0, 3)\t[209 268 619 469]\n",
      "---------------------------------------------------------\n",
      "6\t\t(1, 1, 3)\t[358 268 619 469]\n",
      ">\t 32\t(1, 1, 3)\t[469 421 591 480] (57.2%)\n",
      "---------------------------------------------------------\n",
      "7\t\t(1, 1, 0)\t[393 167 619 469]\n",
      "---------------------------------------------------------\n",
      "8\t\t(1, 1, 0)\t[393 167 619 469]\n",
      "---------------------------------------------------------\n",
      "9\t\t(3, 2, 0)\t[209 157 572 416]\n",
      "---------------------------------------------------------\n",
      "10\t\t(0, 2, 0)\t[343 157 572 236]\n",
      "---------------------------------------------------------\n",
      "11\t\t(1, 0, 0)\t[393 167 619 469]\n",
      ">\t 37\t(1, 0, 0)\t[605 202 596 449] (79.0%)\n",
      "---------------------------------------------------------\n"
     ]
    }
   ],
   "source": [
    "print('gt', 'pred', 'spo_class', '  t/p union box (iou)', sep='\\t')\n",
    "print('='*57)\n",
    "for t in range(targets.n_edges.sum()):\n",
    "    print(\n",
    "        t,\n",
    "        '',\n",
    "        (\n",
    "            targets.object_classes[targets.relation_indexes[0, t]].item(),\n",
    "            targets.predicate_classes[t].item(),\n",
    "            targets.object_classes[targets.relation_indexes[1, t]].item()\n",
    "        ),\n",
    "        f'{gt_union_boxes[t].int().numpy()}',\n",
    "        sep='\\t'\n",
    "    )\n",
    "    \n",
    "    for p in matches[: ,t].nonzero().flatten().tolist():\n",
    "        print(\n",
    "            '>',\n",
    "            f'{p:3d}',\n",
    "            (\n",
    "                predictions.object_classes[predictions.relation_indexes[0, p]].item(),\n",
    "                predictions.predicate_classes[p].item(),\n",
    "                predictions.object_classes[predictions.relation_indexes[1, p]].item()\n",
    "            ),\n",
    "            f'{pred_union_boxes[t].int().numpy()} '\n",
    "            f'({iou_union[p, t]:.1%})',\n",
    "            sep='\\t'\n",
    "        )\n",
    "    print('-'*57)"
   ]
  },
  {
   "cell_type": "code",
   "execution_count": 11,
   "metadata": {},
   "outputs": [
    {
     "name": "stdout",
     "output_type": "stream",
     "text": [
      "g  retrieved  rank\n",
      "------------------\n",
      "0      ❌        \n",
      "0      👍       5\n",
      "0      ❌        \n",
      "0      👍      18\n",
      "1      ❌        \n",
      "1      ❌        \n",
      "1      👍      12\n",
      "1      ❌        \n",
      "1      ❌        \n",
      "1      ❌        \n",
      "1      ❌        \n",
      "1      👍      17\n"
     ]
    }
   ],
   "source": [
    "# matches.argmax(dim=0) will return the last index if no True value is found.\n",
    "# We can use matches.any(dim=0) to ignore those cases.\n",
    "# Also, we must account for the row offset in the matches matrix.\n",
    "gt_retrieved = matches.any(dim=0)\n",
    "\n",
    "offset = predictions.n_edges.cumsum(dim=0).repeat_interleave(targets.n_edges) - predictions.n_edges[0]\n",
    "gt_retrieved_rank = matches.int().argmax(dim=0) - offset\n",
    "\n",
    "gt_relation_to_graph_assignment = targets.batch[targets.relation_indexes[0]]\n",
    "\n",
    "print('g  retrieved  rank')\n",
    "print('------------------')\n",
    "for g, ret, rank in zip(gt_relation_to_graph_assignment.numpy(), gt_retrieved.numpy(), gt_retrieved_rank.numpy()):\n",
    "    print(f'{g}  {\"👍\" if ret else \"❌\":^10} {rank if ret else \"\":>2}')"
   ]
  },
  {
   "cell_type": "code",
   "execution_count": 12,
   "metadata": {},
   "outputs": [
    {
     "name": "stdout",
     "output_type": "stream",
     "text": [
      "g  recall\n",
      "---------\n",
      "0   50.0%\n",
      "1   25.0%\n"
     ]
    }
   ],
   "source": [
    "recall_per_graph = scatter_mean(gt_retrieved.float(), gt_relation_to_graph_assignment, dim=0, dim_size=targets.num_graphs)\n",
    "\n",
    "print('g  recall')\n",
    "print('---------')\n",
    "for g, rec in enumerate(recall_per_graph.numpy()):\n",
    "    print(f'{g}  {rec:>6.1%}')"
   ]
  },
  {
   "cell_type": "markdown",
   "metadata": {
    "toc-hr-collapsed": false
   },
   "source": [
    "## Relationship detection\n",
    "\n",
    "The first requirement for a match is that subject, object and predicate classes match:\n",
    "- `subject_class`\n",
    "- `predicate_class`\n",
    "- `object_class`\n",
    "\n",
    "Also, the predicted subject/object boxes need to match with the ground-truth subject/object boxes with IoU > .5.\n",
    "- `iou_subject > .5`\n",
    "- `iou_object > .5`"
   ]
  },
  {
   "cell_type": "code",
   "execution_count": 13,
   "metadata": {},
   "outputs": [],
   "source": [
    "p1 = noisy_prediction(t1, topk=50)\n",
    "p2 = noisy_prediction(t2, topk=50)\n",
    "predictions = Batch.from_data_list([p1, p2])"
   ]
  },
  {
   "cell_type": "code",
   "execution_count": 14,
   "metadata": {},
   "outputs": [],
   "source": [
    "# [E_p, 4]\n",
    "pred_matrix = torch.stack([\n",
    "    # graph_idx\n",
    "    predictions.batch[predictions.relation_indexes[0]],\n",
    "    # subject_class, predicate_class, object_class\n",
    "    predictions.object_classes[predictions.relation_indexes[0]],\n",
    "    predictions.predicate_classes,\n",
    "    predictions.object_classes[predictions.relation_indexes[1]],\n",
    "], dim=1)\n",
    "\n",
    "# [E_t, 4]\n",
    "gt_matrix = torch.stack([\n",
    "    # graph_idx\n",
    "    targets.batch[targets.relation_indexes[0]],\n",
    "    # subject_class, predicate_class, object_class\n",
    "    targets.object_classes[targets.relation_indexes[0]],\n",
    "    targets.predicate_classes,\n",
    "    targets.object_classes[targets.relation_indexes[1]],\n",
    "], dim=1)\n",
    "\n",
    "# Block matrix [E_p, E_t]\n",
    "matches_class = (gt_matrix[None, :, :] == pred_matrix[:, None, :]).all(dim=2)\n",
    "\n",
    "# Two full matrices [E_p, E_t]\n",
    "iou_subject = box_iou(\n",
    "    predictions.object_boxes[predictions.relation_indexes[0]], \n",
    "    targets.object_boxes[targets.relation_indexes[0]]\n",
    ")\n",
    "iou_object = box_iou(\n",
    "    predictions.object_boxes[predictions.relation_indexes[1]], \n",
    "    targets.object_boxes[targets.relation_indexes[1]]\n",
    ")\n",
    "\n",
    "# Block matrix [E_p, E_t]\n",
    "matches = matches_class & (iou_subject > .5) & (iou_object > .5)"
   ]
  },
  {
   "cell_type": "code",
   "execution_count": 15,
   "metadata": {},
   "outputs": [
    {
     "name": "stdout",
     "output_type": "stream",
     "text": [
      "gt\tpred\tspo_class\tt/p subject box (iou)    \tt/p object box (iou)\n",
      "===============================================================================================\n",
      "0\t\t(3, 1, 0)\t[372 118 539 435]        \t[492 432 584 472]        \n",
      "-----------------------------------------------------------------------------------------------\n",
      "1\t\t(3, 2, 0)\t[372 118 539 435]        \t[492 432 584 472]        \n",
      ">\t 38\t(3, 2, 0)\t[365 138 503 434] (70.2%)\t[508 433 603 480]\t(58.3%)\n",
      "-----------------------------------------------------------------------------------------------\n",
      "2\t\t(0, 1, 3)\t[492 432 584 472]        \t[372 118 539 435]        \n",
      ">\t  7\t(0, 1, 3)\t[508 433 603 480] (58.3%)\t[365 138 503 434]\t(70.2%)\n",
      ">\t 36\t(0, 1, 3)\t[508 433 603 480] (58.3%)\t[365 138 503 434]\t(70.2%)\n",
      "-----------------------------------------------------------------------------------------------\n",
      "3\t\t(3, 0, 0)\t[372 118 539 435]        \t[492 432 584 472]        \n",
      ">\t  5\t(3, 0, 0)\t[365 138 503 434] (70.2%)\t[508 433 603 480]\t(58.3%)\n",
      "-----------------------------------------------------------------------------------------------\n",
      "4\t\t(3, 1, 3)\t[209 372 553 416]        \t[209 372 553 416]        \n",
      ">\t 62\t(3, 1, 3)\t[187 358 553 426] (62.5%)\t[187 358 553 426]\t(62.5%)\n",
      "-----------------------------------------------------------------------------------------------\n",
      "5\t\t(1, 0, 3)\t[549 268 619 469]        \t[209 372 553 416]        \n",
      ">\t 54\t(1, 0, 3)\t[553 272 603 480] (66.8%)\t[187 358 553 426]\t(62.5%)\n",
      ">\t 59\t(1, 0, 3)\t[553 272 603 480] (66.8%)\t[187 358 553 426]\t(62.5%)\n",
      ">\t 61\t(1, 0, 3)\t[574 239 628 462] (50.4%)\t[187 358 553 426]\t(62.5%)\n",
      ">\t 78\t(1, 0, 3)\t[553 272 603 480] (66.8%)\t[187 358 553 426]\t(62.5%)\n",
      "-----------------------------------------------------------------------------------------------\n",
      "6\t\t(1, 1, 3)\t[549 268 619 469]        \t[358 415 584 461]        \n",
      ">\t 96\t(1, 1, 3)\t[553 272 603 480] (66.8%)\t[332 415 576 465]\t(79.2%)\n",
      "-----------------------------------------------------------------------------------------------\n",
      "7\t\t(1, 1, 0)\t[549 268 619 469]        \t[393 167 414 277]        \n",
      "-----------------------------------------------------------------------------------------------\n",
      "8\t\t(1, 1, 0)\t[549 268 619 469]        \t[393 167 414 277]        \n",
      "-----------------------------------------------------------------------------------------------\n",
      "9\t\t(3, 2, 0)\t[209 372 553 416]        \t[343 157 572 236]        \n",
      ">\t 99\t(3, 2, 0)\t[187 358 553 426] (62.5%)\t[320 154 570 240]\t(83.1%)\n",
      "-----------------------------------------------------------------------------------------------\n",
      "10\t\t(0, 2, 0)\t[343 157 572 236]        \t[343 157 572 236]        \n",
      "-----------------------------------------------------------------------------------------------\n",
      "11\t\t(1, 0, 0)\t[549 268 619 469]        \t[393 167 414 277]        \n",
      "-----------------------------------------------------------------------------------------------\n"
     ]
    }
   ],
   "source": [
    "print('gt', 'pred', 'spo_class', 't/p subject box (iou)    ', 't/p object box (iou)', sep='\\t')\n",
    "print('='*95)\n",
    "for t in range(targets.n_edges.sum()):\n",
    "    print(\n",
    "        t,\n",
    "        '',\n",
    "        (\n",
    "            targets.object_classes[targets.relation_indexes[0, t]].item(),\n",
    "            targets.predicate_classes[t].item(),\n",
    "            targets.object_classes[targets.relation_indexes[1, t]].item()\n",
    "        ),\n",
    "        f'{targets.object_boxes[targets.relation_indexes[0, t]].int().numpy()}        ',\n",
    "        f'{targets.object_boxes[targets.relation_indexes[1, t]].int().numpy()}        ',\n",
    "        sep='\\t'\n",
    "    )\n",
    "    \n",
    "    for p in matches[: ,t].nonzero().flatten().tolist():\n",
    "        print(\n",
    "            '>',\n",
    "            f'{p:3d}',\n",
    "            (\n",
    "                predictions.object_classes[predictions.relation_indexes[0, p]].item(),\n",
    "                predictions.predicate_classes[p].item(),\n",
    "                predictions.object_classes[predictions.relation_indexes[1, p]].item()\n",
    "            ),\n",
    "            f'{predictions.object_boxes[predictions.relation_indexes[0, p]].int().numpy()} '\n",
    "            f'({iou_subject[p, t]:.1%})',\n",
    "            f'{predictions.object_boxes[predictions.relation_indexes[1, p]].int().numpy()}',\n",
    "            f'({iou_object[p, t]:.1%})',\n",
    "            sep='\\t'\n",
    "        )\n",
    "    print('-'*95)"
   ]
  },
  {
   "cell_type": "code",
   "execution_count": 16,
   "metadata": {},
   "outputs": [
    {
     "name": "stdout",
     "output_type": "stream",
     "text": [
      "g  retrieved  rank\n",
      "------------------\n",
      "0      ❌        \n",
      "0      👍      38\n",
      "0      👍      36\n",
      "0      👍       5\n",
      "1      👍      12\n",
      "1      👍      28\n",
      "1      👍      46\n",
      "1      ❌        \n",
      "1      ❌        \n",
      "1      👍      49\n",
      "1      ❌        \n",
      "1      ❌        \n"
     ]
    }
   ],
   "source": [
    "# matches.argmax(dim=0) will return the last index if no True value is found.\n",
    "# We can use matches.any(dim=0) to ignore those cases.\n",
    "# Also, we must account for the row offset in the matches matrix.\n",
    "\n",
    "# [E_t]\n",
    "gt_retrieved = matches.any(dim=0)\n",
    "\n",
    "offset = predictions.n_edges.cumsum(dim=0).repeat_interleave(targets.n_edges) - predictions.n_edges[0]\n",
    "gt_retrieved_rank = matches.int().argmax(dim=0) - offset\n",
    "\n",
    "gt_relation_to_graph_assignment = targets.batch[targets.relation_indexes[0]]\n",
    "\n",
    "print('g  retrieved  rank')\n",
    "print('------------------')\n",
    "for g, ret, rank in zip(gt_relation_to_graph_assignment.numpy(), gt_retrieved.numpy(), gt_retrieved_rank.numpy()):\n",
    "    print(f'{g}  {\"👍\" if ret else \"❌\":^10} {rank if ret else \"\":>2}')"
   ]
  },
  {
   "cell_type": "code",
   "execution_count": 17,
   "metadata": {},
   "outputs": [
    {
     "name": "stdout",
     "output_type": "stream",
     "text": [
      "g  recall\n",
      "---------\n",
      "0   75.0%\n",
      "1   50.0%\n"
     ]
    }
   ],
   "source": [
    "recall_per_graph = scatter_mean(gt_retrieved.float(), gt_relation_to_graph_assignment, dim=0, dim_size=targets.num_graphs)\n",
    "\n",
    "print('g  recall')\n",
    "print('---------')\n",
    "for g, rec in enumerate(recall_per_graph.numpy()):\n",
    "    print(f'{g}  {rec:>6.1%}')"
   ]
  },
  {
   "cell_type": "markdown",
   "metadata": {},
   "source": [
    "Let's also compute recall at various choices of `k` (using broadcasting)."
   ]
  },
  {
   "cell_type": "code",
   "execution_count": 18,
   "metadata": {},
   "outputs": [
    {
     "name": "stdout",
     "output_type": "stream",
     "text": [
      "g   R@5    R@10   R@15   R@25   R@30   R@50\n",
      "-------------------------------------------\n",
      "0   0.0%  25.0%  25.0%  25.0%  25.0%  75.0%\n",
      "1   0.0%   0.0%  12.5%  12.5%  25.0%  50.0%\n"
     ]
    }
   ],
   "source": [
    "K = torch.tensor([5, 10, 15, 25, 30, 50])\n",
    "\n",
    "# [K, E_t]\n",
    "gt_retrieved_at = (gt_retrieved_rank[None, :] < K[:, None]) & gt_retrieved[None, :]\n",
    "\n",
    "# [K, num_graphs]\n",
    "recall_at_per_graph = scatter_mean(gt_retrieved_at.float(), gt_relation_to_graph_assignment, dim=1, dim_size=targets.num_graphs)\n",
    "\n",
    "print('g', *(f'  R@{k:<2}' for k in K))\n",
    "print('-' * 43)\n",
    "for g, rec in enumerate(recall_at_per_graph.unbind(dim=1)):\n",
    "    print(g, *(f'{r:>6.1%}' for r in rec.numpy()))"
   ]
  }
 ],
 "metadata": {
  "kernelspec": {
   "display_name": "Python [conda env:eccv]",
   "language": "python",
   "name": "conda-env-eccv-py"
  },
  "language_info": {
   "codemirror_mode": {
    "name": "ipython",
    "version": 3
   },
   "file_extension": ".py",
   "mimetype": "text/x-python",
   "name": "python",
   "nbconvert_exporter": "python",
   "pygments_lexer": "ipython3",
   "version": "3.7.6"
  }
 },
 "nbformat": 4,
 "nbformat_minor": 2
}
