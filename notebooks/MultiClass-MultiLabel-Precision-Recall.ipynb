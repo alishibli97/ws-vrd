{
 "cells": [
  {
   "cell_type": "markdown",
   "metadata": {},
   "source": [
    "# Precision and Recall in a multi-class multi-label setting\n",
    "From Wikipedia (CC BY-SA 4.0):\n",
    "<img \n",
    "     src=\"https://upload.wikimedia.org/wikipedia/commons/2/26/Precisionrecall.svg\" \n",
    "     alt=\"Precision and Recall\"\n",
    "     width=\"25%\"\n",
    "/>"
   ]
  },
  {
   "cell_type": "code",
   "execution_count": 1,
   "metadata": {},
   "outputs": [],
   "source": [
    "%matplotlib inline\n",
    "\n",
    "import numpy as np\n",
    "import pandas as pd\n",
    "import sklearn.metrics\n",
    "import matplotlib.pyplot as plt\n",
    "\n",
    "from itertools import product\n",
    "from IPython.display import display, Markdown\n",
    "\n",
    "n_classes = 5\n",
    "n_samples = 10\n",
    "rg = np.random.default_rng(42)\n",
    "np.set_printoptions(precision=2)\n",
    "np.seterr(invalid='ignore', divide='ignore');"
   ]
  },
  {
   "cell_type": "markdown",
   "metadata": {},
   "source": [
    "## Dataset\n",
    "Multi-class multi-label classification problem:\n",
    "- Each sample can have multiple labels\n",
    "- Predictions are made e.g. by applying a sigmoid activation"
   ]
  },
  {
   "cell_type": "code",
   "execution_count": 2,
   "metadata": {},
   "outputs": [
    {
     "data": {
      "text/html": [
       "<style  type=\"text/css\" >\n",
       "    #T_9bc1fe1c_48cb_11ea_8f2b_2985bacae9f3row0_col0 {\n",
       "            background-color:  #056aa6;\n",
       "            color:  #f1f1f1;\n",
       "        }    #T_9bc1fe1c_48cb_11ea_8f2b_2985bacae9f3row0_col1 {\n",
       "            background-color:  #93b5d6;\n",
       "            color:  #000000;\n",
       "        }    #T_9bc1fe1c_48cb_11ea_8f2b_2985bacae9f3row0_col2 {\n",
       "            background-color:  #045a8d;\n",
       "            color:  #f1f1f1;\n",
       "        }    #T_9bc1fe1c_48cb_11ea_8f2b_2985bacae9f3row0_col3 {\n",
       "            background-color:  #187cb6;\n",
       "            color:  #000000;\n",
       "        }    #T_9bc1fe1c_48cb_11ea_8f2b_2985bacae9f3row0_col4 {\n",
       "            background-color:  #f7f0f7;\n",
       "            color:  #000000;\n",
       "        }    #T_9bc1fe1c_48cb_11ea_8f2b_2985bacae9f3row1_col0 {\n",
       "            background-color:  #023858;\n",
       "            color:  #f1f1f1;\n",
       "        }    #T_9bc1fe1c_48cb_11ea_8f2b_2985bacae9f3row1_col1 {\n",
       "            background-color:  #056caa;\n",
       "            color:  #f1f1f1;\n",
       "        }    #T_9bc1fe1c_48cb_11ea_8f2b_2985bacae9f3row1_col2 {\n",
       "            background-color:  #0568a3;\n",
       "            color:  #f1f1f1;\n",
       "        }    #T_9bc1fe1c_48cb_11ea_8f2b_2985bacae9f3row1_col3 {\n",
       "            background-color:  #f1ebf5;\n",
       "            color:  #000000;\n",
       "        }    #T_9bc1fe1c_48cb_11ea_8f2b_2985bacae9f3row1_col4 {\n",
       "            background-color:  #8eb3d5;\n",
       "            color:  #000000;\n",
       "        }    #T_9bc1fe1c_48cb_11ea_8f2b_2985bacae9f3row2_col0 {\n",
       "            background-color:  #afc1dd;\n",
       "            color:  #000000;\n",
       "        }    #T_9bc1fe1c_48cb_11ea_8f2b_2985bacae9f3row2_col1 {\n",
       "            background-color:  #03466e;\n",
       "            color:  #f1f1f1;\n",
       "        }    #T_9bc1fe1c_48cb_11ea_8f2b_2985bacae9f3row2_col2 {\n",
       "            background-color:  #2f8bbe;\n",
       "            color:  #000000;\n",
       "        }    #T_9bc1fe1c_48cb_11ea_8f2b_2985bacae9f3row2_col3 {\n",
       "            background-color:  #046097;\n",
       "            color:  #f1f1f1;\n",
       "        }    #T_9bc1fe1c_48cb_11ea_8f2b_2985bacae9f3row2_col4 {\n",
       "            background-color:  #91b5d6;\n",
       "            color:  #000000;\n",
       "        }    #T_9bc1fe1c_48cb_11ea_8f2b_2985bacae9f3row3_col0 {\n",
       "            background-color:  #dcdaeb;\n",
       "            color:  #000000;\n",
       "        }    #T_9bc1fe1c_48cb_11ea_8f2b_2985bacae9f3row3_col1 {\n",
       "            background-color:  #5c9fc9;\n",
       "            color:  #000000;\n",
       "        }    #T_9bc1fe1c_48cb_11ea_8f2b_2985bacae9f3row3_col2 {\n",
       "            background-color:  #fcf4fa;\n",
       "            color:  #000000;\n",
       "        }    #T_9bc1fe1c_48cb_11ea_8f2b_2985bacae9f3row3_col3 {\n",
       "            background-color:  #046096;\n",
       "            color:  #f1f1f1;\n",
       "        }    #T_9bc1fe1c_48cb_11ea_8f2b_2985bacae9f3row3_col4 {\n",
       "            background-color:  #348ebf;\n",
       "            color:  #000000;\n",
       "        }    #T_9bc1fe1c_48cb_11ea_8f2b_2985bacae9f3row4_col0 {\n",
       "            background-color:  #056dab;\n",
       "            color:  #f1f1f1;\n",
       "        }    #T_9bc1fe1c_48cb_11ea_8f2b_2985bacae9f3row4_col1 {\n",
       "            background-color:  #b4c4df;\n",
       "            color:  #000000;\n",
       "        }    #T_9bc1fe1c_48cb_11ea_8f2b_2985bacae9f3row4_col2 {\n",
       "            background-color:  #02395a;\n",
       "            color:  #f1f1f1;\n",
       "        }    #T_9bc1fe1c_48cb_11ea_8f2b_2985bacae9f3row4_col3 {\n",
       "            background-color:  #034f7d;\n",
       "            color:  #f1f1f1;\n",
       "        }    #T_9bc1fe1c_48cb_11ea_8f2b_2985bacae9f3row4_col4 {\n",
       "            background-color:  #0569a5;\n",
       "            color:  #f1f1f1;\n",
       "        }    #T_9bc1fe1c_48cb_11ea_8f2b_2985bacae9f3row5_col0 {\n",
       "            background-color:  #e4e1ef;\n",
       "            color:  #000000;\n",
       "        }    #T_9bc1fe1c_48cb_11ea_8f2b_2985bacae9f3row5_col1 {\n",
       "            background-color:  #86b0d3;\n",
       "            color:  #000000;\n",
       "        }    #T_9bc1fe1c_48cb_11ea_8f2b_2985bacae9f3row5_col2 {\n",
       "            background-color:  #fff7fb;\n",
       "            color:  #000000;\n",
       "        }    #T_9bc1fe1c_48cb_11ea_8f2b_2985bacae9f3row5_col3 {\n",
       "            background-color:  #ede8f3;\n",
       "            color:  #000000;\n",
       "        }    #T_9bc1fe1c_48cb_11ea_8f2b_2985bacae9f3row5_col4 {\n",
       "            background-color:  #1e80b8;\n",
       "            color:  #000000;\n",
       "        }    #T_9bc1fe1c_48cb_11ea_8f2b_2985bacae9f3row6_col0 {\n",
       "            background-color:  #056faf;\n",
       "            color:  #f1f1f1;\n",
       "        }    #T_9bc1fe1c_48cb_11ea_8f2b_2985bacae9f3row6_col1 {\n",
       "            background-color:  #023a5b;\n",
       "            color:  #f1f1f1;\n",
       "        }    #T_9bc1fe1c_48cb_11ea_8f2b_2985bacae9f3row6_col2 {\n",
       "            background-color:  #bfc9e1;\n",
       "            color:  #000000;\n",
       "        }    #T_9bc1fe1c_48cb_11ea_8f2b_2985bacae9f3row6_col3 {\n",
       "            background-color:  #afc1dd;\n",
       "            color:  #000000;\n",
       "        }    #T_9bc1fe1c_48cb_11ea_8f2b_2985bacae9f3row6_col4 {\n",
       "            background-color:  #86b0d3;\n",
       "            color:  #000000;\n",
       "        }    #T_9bc1fe1c_48cb_11ea_8f2b_2985bacae9f3row7_col0 {\n",
       "            background-color:  #e5e1ef;\n",
       "            color:  #000000;\n",
       "        }    #T_9bc1fe1c_48cb_11ea_8f2b_2985bacae9f3row7_col1 {\n",
       "            background-color:  #f1ebf5;\n",
       "            color:  #000000;\n",
       "        }    #T_9bc1fe1c_48cb_11ea_8f2b_2985bacae9f3row7_col2 {\n",
       "            background-color:  #83afd3;\n",
       "            color:  #000000;\n",
       "        }    #T_9bc1fe1c_48cb_11ea_8f2b_2985bacae9f3row7_col3 {\n",
       "            background-color:  #dcdaeb;\n",
       "            color:  #000000;\n",
       "        }    #T_9bc1fe1c_48cb_11ea_8f2b_2985bacae9f3row7_col4 {\n",
       "            background-color:  #2484ba;\n",
       "            color:  #000000;\n",
       "        }    #T_9bc1fe1c_48cb_11ea_8f2b_2985bacae9f3row8_col0 {\n",
       "            background-color:  #f1ebf5;\n",
       "            color:  #000000;\n",
       "        }    #T_9bc1fe1c_48cb_11ea_8f2b_2985bacae9f3row8_col1 {\n",
       "            background-color:  #d7d6e9;\n",
       "            color:  #000000;\n",
       "        }    #T_9bc1fe1c_48cb_11ea_8f2b_2985bacae9f3row8_col2 {\n",
       "            background-color:  #e0deed;\n",
       "            color:  #000000;\n",
       "        }    #T_9bc1fe1c_48cb_11ea_8f2b_2985bacae9f3row8_col3 {\n",
       "            background-color:  #f7f0f7;\n",
       "            color:  #000000;\n",
       "        }    #T_9bc1fe1c_48cb_11ea_8f2b_2985bacae9f3row8_col4 {\n",
       "            background-color:  #d7d6e9;\n",
       "            color:  #000000;\n",
       "        }    #T_9bc1fe1c_48cb_11ea_8f2b_2985bacae9f3row9_col0 {\n",
       "            background-color:  #056dab;\n",
       "            color:  #f1f1f1;\n",
       "        }    #T_9bc1fe1c_48cb_11ea_8f2b_2985bacae9f3row9_col1 {\n",
       "            background-color:  #045382;\n",
       "            color:  #f1f1f1;\n",
       "        }    #T_9bc1fe1c_48cb_11ea_8f2b_2985bacae9f3row9_col2 {\n",
       "            background-color:  #034a74;\n",
       "            color:  #f1f1f1;\n",
       "        }    #T_9bc1fe1c_48cb_11ea_8f2b_2985bacae9f3row9_col3 {\n",
       "            background-color:  #0566a0;\n",
       "            color:  #f1f1f1;\n",
       "        }    #T_9bc1fe1c_48cb_11ea_8f2b_2985bacae9f3row9_col4 {\n",
       "            background-color:  #023c5f;\n",
       "            color:  #f1f1f1;\n",
       "        }</style><table id=\"T_9bc1fe1c_48cb_11ea_8f2b_2985bacae9f3\" ><thead>    <tr>        <th class=\"index_name level0\" >Classes</th>        <th class=\"col_heading level0 col0\" >0</th>        <th class=\"col_heading level0 col1\" >1</th>        <th class=\"col_heading level0 col2\" >2</th>        <th class=\"col_heading level0 col3\" >3</th>        <th class=\"col_heading level0 col4\" >4</th>    </tr>    <tr>        <th class=\"index_name level0\" >Samples</th>        <th class=\"blank\" ></th>        <th class=\"blank\" ></th>        <th class=\"blank\" ></th>        <th class=\"blank\" ></th>        <th class=\"blank\" ></th>    </tr></thead><tbody>\n",
       "                <tr>\n",
       "                        <th id=\"T_9bc1fe1c_48cb_11ea_8f2b_2985bacae9f3level0_row0\" class=\"row_heading level0 row0\" >0</th>\n",
       "                        <td id=\"T_9bc1fe1c_48cb_11ea_8f2b_2985bacae9f3row0_col0\" class=\"data row0 col0\" >77%</td>\n",
       "                        <td id=\"T_9bc1fe1c_48cb_11ea_8f2b_2985bacae9f3row0_col1\" class=\"data row0 col1\" >44%</td>\n",
       "                        <td id=\"T_9bc1fe1c_48cb_11ea_8f2b_2985bacae9f3row0_col2\" class=\"data row0 col2\" >86%</td>\n",
       "                        <td id=\"T_9bc1fe1c_48cb_11ea_8f2b_2985bacae9f3row0_col3\" class=\"data row0 col3\" >70%</td>\n",
       "                        <td id=\"T_9bc1fe1c_48cb_11ea_8f2b_2985bacae9f3row0_col4\" class=\"data row0 col4\" >9%</td>\n",
       "            </tr>\n",
       "            <tr>\n",
       "                        <th id=\"T_9bc1fe1c_48cb_11ea_8f2b_2985bacae9f3level0_row1\" class=\"row_heading level0 row1\" >1</th>\n",
       "                        <td id=\"T_9bc1fe1c_48cb_11ea_8f2b_2985bacae9f3row1_col0\" class=\"data row1 col0\" >98%</td>\n",
       "                        <td id=\"T_9bc1fe1c_48cb_11ea_8f2b_2985bacae9f3row1_col1\" class=\"data row1 col1\" >76%</td>\n",
       "                        <td id=\"T_9bc1fe1c_48cb_11ea_8f2b_2985bacae9f3row1_col2\" class=\"data row1 col2\" >79%</td>\n",
       "                        <td id=\"T_9bc1fe1c_48cb_11ea_8f2b_2985bacae9f3row1_col3\" class=\"data row1 col3\" >13%</td>\n",
       "                        <td id=\"T_9bc1fe1c_48cb_11ea_8f2b_2985bacae9f3row1_col4\" class=\"data row1 col4\" >45%</td>\n",
       "            </tr>\n",
       "            <tr>\n",
       "                        <th id=\"T_9bc1fe1c_48cb_11ea_8f2b_2985bacae9f3level0_row2\" class=\"row_heading level0 row2\" >2</th>\n",
       "                        <td id=\"T_9bc1fe1c_48cb_11ea_8f2b_2985bacae9f3row2_col0\" class=\"data row2 col0\" >37%</td>\n",
       "                        <td id=\"T_9bc1fe1c_48cb_11ea_8f2b_2985bacae9f3row2_col1\" class=\"data row2 col1\" >93%</td>\n",
       "                        <td id=\"T_9bc1fe1c_48cb_11ea_8f2b_2985bacae9f3row2_col2\" class=\"data row2 col2\" >64%</td>\n",
       "                        <td id=\"T_9bc1fe1c_48cb_11ea_8f2b_2985bacae9f3row2_col3\" class=\"data row2 col3\" >82%</td>\n",
       "                        <td id=\"T_9bc1fe1c_48cb_11ea_8f2b_2985bacae9f3row2_col4\" class=\"data row2 col4\" >44%</td>\n",
       "            </tr>\n",
       "            <tr>\n",
       "                        <th id=\"T_9bc1fe1c_48cb_11ea_8f2b_2985bacae9f3level0_row3\" class=\"row_heading level0 row3\" >3</th>\n",
       "                        <td id=\"T_9bc1fe1c_48cb_11ea_8f2b_2985bacae9f3row3_col0\" class=\"data row3 col0\" >23%</td>\n",
       "                        <td id=\"T_9bc1fe1c_48cb_11ea_8f2b_2985bacae9f3row3_col1\" class=\"data row3 col1\" >55%</td>\n",
       "                        <td id=\"T_9bc1fe1c_48cb_11ea_8f2b_2985bacae9f3row3_col2\" class=\"data row3 col2\" >6%</td>\n",
       "                        <td id=\"T_9bc1fe1c_48cb_11ea_8f2b_2985bacae9f3row3_col3\" class=\"data row3 col3\" >83%</td>\n",
       "                        <td id=\"T_9bc1fe1c_48cb_11ea_8f2b_2985bacae9f3row3_col4\" class=\"data row3 col4\" >63%</td>\n",
       "            </tr>\n",
       "            <tr>\n",
       "                        <th id=\"T_9bc1fe1c_48cb_11ea_8f2b_2985bacae9f3level0_row4\" class=\"row_heading level0 row4\" >4</th>\n",
       "                        <td id=\"T_9bc1fe1c_48cb_11ea_8f2b_2985bacae9f3row4_col0\" class=\"data row4 col0\" >76%</td>\n",
       "                        <td id=\"T_9bc1fe1c_48cb_11ea_8f2b_2985bacae9f3row4_col1\" class=\"data row4 col1\" >35%</td>\n",
       "                        <td id=\"T_9bc1fe1c_48cb_11ea_8f2b_2985bacae9f3row4_col2\" class=\"data row4 col2\" >97%</td>\n",
       "                        <td id=\"T_9bc1fe1c_48cb_11ea_8f2b_2985bacae9f3row4_col3\" class=\"data row4 col3\" >89%</td>\n",
       "                        <td id=\"T_9bc1fe1c_48cb_11ea_8f2b_2985bacae9f3row4_col4\" class=\"data row4 col4\" >78%</td>\n",
       "            </tr>\n",
       "            <tr>\n",
       "                        <th id=\"T_9bc1fe1c_48cb_11ea_8f2b_2985bacae9f3level0_row5\" class=\"row_heading level0 row5\" >5</th>\n",
       "                        <td id=\"T_9bc1fe1c_48cb_11ea_8f2b_2985bacae9f3row5_col0\" class=\"data row5 col0\" >19%</td>\n",
       "                        <td id=\"T_9bc1fe1c_48cb_11ea_8f2b_2985bacae9f3row5_col1\" class=\"data row5 col1\" >47%</td>\n",
       "                        <td id=\"T_9bc1fe1c_48cb_11ea_8f2b_2985bacae9f3row5_col2\" class=\"data row5 col2\" >4%</td>\n",
       "                        <td id=\"T_9bc1fe1c_48cb_11ea_8f2b_2985bacae9f3row5_col3\" class=\"data row5 col3\" >15%</td>\n",
       "                        <td id=\"T_9bc1fe1c_48cb_11ea_8f2b_2985bacae9f3row5_col4\" class=\"data row5 col4\" >68%</td>\n",
       "            </tr>\n",
       "            <tr>\n",
       "                        <th id=\"T_9bc1fe1c_48cb_11ea_8f2b_2985bacae9f3level0_row6\" class=\"row_heading level0 row6\" >6</th>\n",
       "                        <td id=\"T_9bc1fe1c_48cb_11ea_8f2b_2985bacae9f3row6_col0\" class=\"data row6 col0\" >74%</td>\n",
       "                        <td id=\"T_9bc1fe1c_48cb_11ea_8f2b_2985bacae9f3row6_col1\" class=\"data row6 col1\" >97%</td>\n",
       "                        <td id=\"T_9bc1fe1c_48cb_11ea_8f2b_2985bacae9f3row6_col2\" class=\"data row6 col2\" >33%</td>\n",
       "                        <td id=\"T_9bc1fe1c_48cb_11ea_8f2b_2985bacae9f3row6_col3\" class=\"data row6 col3\" >37%</td>\n",
       "                        <td id=\"T_9bc1fe1c_48cb_11ea_8f2b_2985bacae9f3row6_col4\" class=\"data row6 col4\" >47%</td>\n",
       "            </tr>\n",
       "            <tr>\n",
       "                        <th id=\"T_9bc1fe1c_48cb_11ea_8f2b_2985bacae9f3level0_row7\" class=\"row_heading level0 row7\" >7</th>\n",
       "                        <td id=\"T_9bc1fe1c_48cb_11ea_8f2b_2985bacae9f3row7_col0\" class=\"data row7 col0\" >19%</td>\n",
       "                        <td id=\"T_9bc1fe1c_48cb_11ea_8f2b_2985bacae9f3row7_col1\" class=\"data row7 col1\" >13%</td>\n",
       "                        <td id=\"T_9bc1fe1c_48cb_11ea_8f2b_2985bacae9f3row7_col2\" class=\"data row7 col2\" >48%</td>\n",
       "                        <td id=\"T_9bc1fe1c_48cb_11ea_8f2b_2985bacae9f3row7_col3\" class=\"data row7 col3\" >23%</td>\n",
       "                        <td id=\"T_9bc1fe1c_48cb_11ea_8f2b_2985bacae9f3row7_col4\" class=\"data row7 col4\" >67%</td>\n",
       "            </tr>\n",
       "            <tr>\n",
       "                        <th id=\"T_9bc1fe1c_48cb_11ea_8f2b_2985bacae9f3level0_row8\" class=\"row_heading level0 row8\" >8</th>\n",
       "                        <td id=\"T_9bc1fe1c_48cb_11ea_8f2b_2985bacae9f3row8_col0\" class=\"data row8 col0\" >13%</td>\n",
       "                        <td id=\"T_9bc1fe1c_48cb_11ea_8f2b_2985bacae9f3row8_col1\" class=\"data row8 col1\" >25%</td>\n",
       "                        <td id=\"T_9bc1fe1c_48cb_11ea_8f2b_2985bacae9f3row8_col2\" class=\"data row8 col2\" >21%</td>\n",
       "                        <td id=\"T_9bc1fe1c_48cb_11ea_8f2b_2985bacae9f3row8_col3\" class=\"data row8 col3\" >9%</td>\n",
       "                        <td id=\"T_9bc1fe1c_48cb_11ea_8f2b_2985bacae9f3row8_col4\" class=\"data row8 col4\" >25%</td>\n",
       "            </tr>\n",
       "            <tr>\n",
       "                        <th id=\"T_9bc1fe1c_48cb_11ea_8f2b_2985bacae9f3level0_row9\" class=\"row_heading level0 row9\" >9</th>\n",
       "                        <td id=\"T_9bc1fe1c_48cb_11ea_8f2b_2985bacae9f3row9_col0\" class=\"data row9 col0\" >76%</td>\n",
       "                        <td id=\"T_9bc1fe1c_48cb_11ea_8f2b_2985bacae9f3row9_col1\" class=\"data row9 col1\" >88%</td>\n",
       "                        <td id=\"T_9bc1fe1c_48cb_11ea_8f2b_2985bacae9f3row9_col2\" class=\"data row9 col2\" >91%</td>\n",
       "                        <td id=\"T_9bc1fe1c_48cb_11ea_8f2b_2985bacae9f3row9_col3\" class=\"data row9 col3\" >80%</td>\n",
       "                        <td id=\"T_9bc1fe1c_48cb_11ea_8f2b_2985bacae9f3row9_col4\" class=\"data row9 col4\" >96%</td>\n",
       "            </tr>\n",
       "    </tbody></table>"
      ],
      "text/plain": [
       "<pandas.io.formats.style.Styler at 0x7fd35ac68d10>"
      ]
     },
     "execution_count": 2,
     "metadata": {},
     "output_type": "execute_result"
    }
   ],
   "source": [
    "predictions = rg.random((n_samples, n_classes))\n",
    "\n",
    "# Sample 8: all classes have prob >  .5\n",
    "predictions[8] = predictions[8] * .3\n",
    "# Sample 9: all classes have prob <= .5\n",
    "predictions[9] = 1 - predictions[9] * .3\n",
    "\n",
    "pd.DataFrame(predictions) \\\n",
    "    .rename_axis(index='Samples', columns='Classes') \\\n",
    "    .style \\\n",
    "    .format('{:.0%}') \\\n",
    "    .background_gradient(axis=None)"
   ]
  },
  {
   "cell_type": "code",
   "execution_count": 3,
   "metadata": {},
   "outputs": [
    {
     "data": {
      "text/html": [
       "<style  type=\"text/css\" >\n",
       "    #T_9bc6fdf4_48cb_11ea_8f2b_2985bacae9f3row0_col0 {\n",
       "            background-color:  #fff7fb;\n",
       "            color:  #000000;\n",
       "        }    #T_9bc6fdf4_48cb_11ea_8f2b_2985bacae9f3row0_col1 {\n",
       "            background-color:  #fff7fb;\n",
       "            color:  #000000;\n",
       "        }    #T_9bc6fdf4_48cb_11ea_8f2b_2985bacae9f3row0_col2 {\n",
       "            background-color:  #023858;\n",
       "            color:  #f1f1f1;\n",
       "        }    #T_9bc6fdf4_48cb_11ea_8f2b_2985bacae9f3row0_col3 {\n",
       "            background-color:  #023858;\n",
       "            color:  #f1f1f1;\n",
       "        }    #T_9bc6fdf4_48cb_11ea_8f2b_2985bacae9f3row0_col4 {\n",
       "            background-color:  #023858;\n",
       "            color:  #f1f1f1;\n",
       "        }    #T_9bc6fdf4_48cb_11ea_8f2b_2985bacae9f3row1_col0 {\n",
       "            background-color:  #023858;\n",
       "            color:  #f1f1f1;\n",
       "        }    #T_9bc6fdf4_48cb_11ea_8f2b_2985bacae9f3row1_col1 {\n",
       "            background-color:  #fff7fb;\n",
       "            color:  #000000;\n",
       "        }    #T_9bc6fdf4_48cb_11ea_8f2b_2985bacae9f3row1_col2 {\n",
       "            background-color:  #023858;\n",
       "            color:  #f1f1f1;\n",
       "        }    #T_9bc6fdf4_48cb_11ea_8f2b_2985bacae9f3row1_col3 {\n",
       "            background-color:  #fff7fb;\n",
       "            color:  #000000;\n",
       "        }    #T_9bc6fdf4_48cb_11ea_8f2b_2985bacae9f3row1_col4 {\n",
       "            background-color:  #fff7fb;\n",
       "            color:  #000000;\n",
       "        }    #T_9bc6fdf4_48cb_11ea_8f2b_2985bacae9f3row2_col0 {\n",
       "            background-color:  #023858;\n",
       "            color:  #f1f1f1;\n",
       "        }    #T_9bc6fdf4_48cb_11ea_8f2b_2985bacae9f3row2_col1 {\n",
       "            background-color:  #fff7fb;\n",
       "            color:  #000000;\n",
       "        }    #T_9bc6fdf4_48cb_11ea_8f2b_2985bacae9f3row2_col2 {\n",
       "            background-color:  #023858;\n",
       "            color:  #f1f1f1;\n",
       "        }    #T_9bc6fdf4_48cb_11ea_8f2b_2985bacae9f3row2_col3 {\n",
       "            background-color:  #023858;\n",
       "            color:  #f1f1f1;\n",
       "        }    #T_9bc6fdf4_48cb_11ea_8f2b_2985bacae9f3row2_col4 {\n",
       "            background-color:  #023858;\n",
       "            color:  #f1f1f1;\n",
       "        }    #T_9bc6fdf4_48cb_11ea_8f2b_2985bacae9f3row3_col0 {\n",
       "            background-color:  #023858;\n",
       "            color:  #f1f1f1;\n",
       "        }    #T_9bc6fdf4_48cb_11ea_8f2b_2985bacae9f3row3_col1 {\n",
       "            background-color:  #023858;\n",
       "            color:  #f1f1f1;\n",
       "        }    #T_9bc6fdf4_48cb_11ea_8f2b_2985bacae9f3row3_col2 {\n",
       "            background-color:  #fff7fb;\n",
       "            color:  #000000;\n",
       "        }    #T_9bc6fdf4_48cb_11ea_8f2b_2985bacae9f3row3_col3 {\n",
       "            background-color:  #fff7fb;\n",
       "            color:  #000000;\n",
       "        }    #T_9bc6fdf4_48cb_11ea_8f2b_2985bacae9f3row3_col4 {\n",
       "            background-color:  #fff7fb;\n",
       "            color:  #000000;\n",
       "        }    #T_9bc6fdf4_48cb_11ea_8f2b_2985bacae9f3row4_col0 {\n",
       "            background-color:  #023858;\n",
       "            color:  #f1f1f1;\n",
       "        }    #T_9bc6fdf4_48cb_11ea_8f2b_2985bacae9f3row4_col1 {\n",
       "            background-color:  #023858;\n",
       "            color:  #f1f1f1;\n",
       "        }    #T_9bc6fdf4_48cb_11ea_8f2b_2985bacae9f3row4_col2 {\n",
       "            background-color:  #023858;\n",
       "            color:  #f1f1f1;\n",
       "        }    #T_9bc6fdf4_48cb_11ea_8f2b_2985bacae9f3row4_col3 {\n",
       "            background-color:  #023858;\n",
       "            color:  #f1f1f1;\n",
       "        }    #T_9bc6fdf4_48cb_11ea_8f2b_2985bacae9f3row4_col4 {\n",
       "            background-color:  #023858;\n",
       "            color:  #f1f1f1;\n",
       "        }    #T_9bc6fdf4_48cb_11ea_8f2b_2985bacae9f3row5_col0 {\n",
       "            background-color:  #fff7fb;\n",
       "            color:  #000000;\n",
       "        }    #T_9bc6fdf4_48cb_11ea_8f2b_2985bacae9f3row5_col1 {\n",
       "            background-color:  #fff7fb;\n",
       "            color:  #000000;\n",
       "        }    #T_9bc6fdf4_48cb_11ea_8f2b_2985bacae9f3row5_col2 {\n",
       "            background-color:  #fff7fb;\n",
       "            color:  #000000;\n",
       "        }    #T_9bc6fdf4_48cb_11ea_8f2b_2985bacae9f3row5_col3 {\n",
       "            background-color:  #fff7fb;\n",
       "            color:  #000000;\n",
       "        }    #T_9bc6fdf4_48cb_11ea_8f2b_2985bacae9f3row5_col4 {\n",
       "            background-color:  #fff7fb;\n",
       "            color:  #000000;\n",
       "        }    #T_9bc6fdf4_48cb_11ea_8f2b_2985bacae9f3row6_col0 {\n",
       "            background-color:  #023858;\n",
       "            color:  #f1f1f1;\n",
       "        }    #T_9bc6fdf4_48cb_11ea_8f2b_2985bacae9f3row6_col1 {\n",
       "            background-color:  #fff7fb;\n",
       "            color:  #000000;\n",
       "        }    #T_9bc6fdf4_48cb_11ea_8f2b_2985bacae9f3row6_col2 {\n",
       "            background-color:  #023858;\n",
       "            color:  #f1f1f1;\n",
       "        }    #T_9bc6fdf4_48cb_11ea_8f2b_2985bacae9f3row6_col3 {\n",
       "            background-color:  #fff7fb;\n",
       "            color:  #000000;\n",
       "        }    #T_9bc6fdf4_48cb_11ea_8f2b_2985bacae9f3row6_col4 {\n",
       "            background-color:  #fff7fb;\n",
       "            color:  #000000;\n",
       "        }    #T_9bc6fdf4_48cb_11ea_8f2b_2985bacae9f3row7_col0 {\n",
       "            background-color:  #fff7fb;\n",
       "            color:  #000000;\n",
       "        }    #T_9bc6fdf4_48cb_11ea_8f2b_2985bacae9f3row7_col1 {\n",
       "            background-color:  #023858;\n",
       "            color:  #f1f1f1;\n",
       "        }    #T_9bc6fdf4_48cb_11ea_8f2b_2985bacae9f3row7_col2 {\n",
       "            background-color:  #fff7fb;\n",
       "            color:  #000000;\n",
       "        }    #T_9bc6fdf4_48cb_11ea_8f2b_2985bacae9f3row7_col3 {\n",
       "            background-color:  #fff7fb;\n",
       "            color:  #000000;\n",
       "        }    #T_9bc6fdf4_48cb_11ea_8f2b_2985bacae9f3row7_col4 {\n",
       "            background-color:  #023858;\n",
       "            color:  #f1f1f1;\n",
       "        }    #T_9bc6fdf4_48cb_11ea_8f2b_2985bacae9f3row8_col0 {\n",
       "            background-color:  #fff7fb;\n",
       "            color:  #000000;\n",
       "        }    #T_9bc6fdf4_48cb_11ea_8f2b_2985bacae9f3row8_col1 {\n",
       "            background-color:  #023858;\n",
       "            color:  #f1f1f1;\n",
       "        }    #T_9bc6fdf4_48cb_11ea_8f2b_2985bacae9f3row8_col2 {\n",
       "            background-color:  #fff7fb;\n",
       "            color:  #000000;\n",
       "        }    #T_9bc6fdf4_48cb_11ea_8f2b_2985bacae9f3row8_col3 {\n",
       "            background-color:  #fff7fb;\n",
       "            color:  #000000;\n",
       "        }    #T_9bc6fdf4_48cb_11ea_8f2b_2985bacae9f3row8_col4 {\n",
       "            background-color:  #fff7fb;\n",
       "            color:  #000000;\n",
       "        }    #T_9bc6fdf4_48cb_11ea_8f2b_2985bacae9f3row9_col0 {\n",
       "            background-color:  #023858;\n",
       "            color:  #f1f1f1;\n",
       "        }    #T_9bc6fdf4_48cb_11ea_8f2b_2985bacae9f3row9_col1 {\n",
       "            background-color:  #fff7fb;\n",
       "            color:  #000000;\n",
       "        }    #T_9bc6fdf4_48cb_11ea_8f2b_2985bacae9f3row9_col2 {\n",
       "            background-color:  #fff7fb;\n",
       "            color:  #000000;\n",
       "        }    #T_9bc6fdf4_48cb_11ea_8f2b_2985bacae9f3row9_col3 {\n",
       "            background-color:  #fff7fb;\n",
       "            color:  #000000;\n",
       "        }    #T_9bc6fdf4_48cb_11ea_8f2b_2985bacae9f3row9_col4 {\n",
       "            background-color:  #023858;\n",
       "            color:  #f1f1f1;\n",
       "        }</style><table id=\"T_9bc6fdf4_48cb_11ea_8f2b_2985bacae9f3\" ><thead>    <tr>        <th class=\"index_name level0\" >Classes</th>        <th class=\"col_heading level0 col0\" >0</th>        <th class=\"col_heading level0 col1\" >1</th>        <th class=\"col_heading level0 col2\" >2</th>        <th class=\"col_heading level0 col3\" >3</th>        <th class=\"col_heading level0 col4\" >4</th>    </tr>    <tr>        <th class=\"index_name level0\" >Samples</th>        <th class=\"blank\" ></th>        <th class=\"blank\" ></th>        <th class=\"blank\" ></th>        <th class=\"blank\" ></th>        <th class=\"blank\" ></th>    </tr></thead><tbody>\n",
       "                <tr>\n",
       "                        <th id=\"T_9bc6fdf4_48cb_11ea_8f2b_2985bacae9f3level0_row0\" class=\"row_heading level0 row0\" >0</th>\n",
       "                        <td id=\"T_9bc6fdf4_48cb_11ea_8f2b_2985bacae9f3row0_col0\" class=\"data row0 col0\" >0</td>\n",
       "                        <td id=\"T_9bc6fdf4_48cb_11ea_8f2b_2985bacae9f3row0_col1\" class=\"data row0 col1\" >0</td>\n",
       "                        <td id=\"T_9bc6fdf4_48cb_11ea_8f2b_2985bacae9f3row0_col2\" class=\"data row0 col2\" >1</td>\n",
       "                        <td id=\"T_9bc6fdf4_48cb_11ea_8f2b_2985bacae9f3row0_col3\" class=\"data row0 col3\" >1</td>\n",
       "                        <td id=\"T_9bc6fdf4_48cb_11ea_8f2b_2985bacae9f3row0_col4\" class=\"data row0 col4\" >1</td>\n",
       "            </tr>\n",
       "            <tr>\n",
       "                        <th id=\"T_9bc6fdf4_48cb_11ea_8f2b_2985bacae9f3level0_row1\" class=\"row_heading level0 row1\" >1</th>\n",
       "                        <td id=\"T_9bc6fdf4_48cb_11ea_8f2b_2985bacae9f3row1_col0\" class=\"data row1 col0\" >1</td>\n",
       "                        <td id=\"T_9bc6fdf4_48cb_11ea_8f2b_2985bacae9f3row1_col1\" class=\"data row1 col1\" >0</td>\n",
       "                        <td id=\"T_9bc6fdf4_48cb_11ea_8f2b_2985bacae9f3row1_col2\" class=\"data row1 col2\" >1</td>\n",
       "                        <td id=\"T_9bc6fdf4_48cb_11ea_8f2b_2985bacae9f3row1_col3\" class=\"data row1 col3\" >0</td>\n",
       "                        <td id=\"T_9bc6fdf4_48cb_11ea_8f2b_2985bacae9f3row1_col4\" class=\"data row1 col4\" >0</td>\n",
       "            </tr>\n",
       "            <tr>\n",
       "                        <th id=\"T_9bc6fdf4_48cb_11ea_8f2b_2985bacae9f3level0_row2\" class=\"row_heading level0 row2\" >2</th>\n",
       "                        <td id=\"T_9bc6fdf4_48cb_11ea_8f2b_2985bacae9f3row2_col0\" class=\"data row2 col0\" >1</td>\n",
       "                        <td id=\"T_9bc6fdf4_48cb_11ea_8f2b_2985bacae9f3row2_col1\" class=\"data row2 col1\" >0</td>\n",
       "                        <td id=\"T_9bc6fdf4_48cb_11ea_8f2b_2985bacae9f3row2_col2\" class=\"data row2 col2\" >1</td>\n",
       "                        <td id=\"T_9bc6fdf4_48cb_11ea_8f2b_2985bacae9f3row2_col3\" class=\"data row2 col3\" >1</td>\n",
       "                        <td id=\"T_9bc6fdf4_48cb_11ea_8f2b_2985bacae9f3row2_col4\" class=\"data row2 col4\" >1</td>\n",
       "            </tr>\n",
       "            <tr>\n",
       "                        <th id=\"T_9bc6fdf4_48cb_11ea_8f2b_2985bacae9f3level0_row3\" class=\"row_heading level0 row3\" >3</th>\n",
       "                        <td id=\"T_9bc6fdf4_48cb_11ea_8f2b_2985bacae9f3row3_col0\" class=\"data row3 col0\" >1</td>\n",
       "                        <td id=\"T_9bc6fdf4_48cb_11ea_8f2b_2985bacae9f3row3_col1\" class=\"data row3 col1\" >1</td>\n",
       "                        <td id=\"T_9bc6fdf4_48cb_11ea_8f2b_2985bacae9f3row3_col2\" class=\"data row3 col2\" >0</td>\n",
       "                        <td id=\"T_9bc6fdf4_48cb_11ea_8f2b_2985bacae9f3row3_col3\" class=\"data row3 col3\" >0</td>\n",
       "                        <td id=\"T_9bc6fdf4_48cb_11ea_8f2b_2985bacae9f3row3_col4\" class=\"data row3 col4\" >0</td>\n",
       "            </tr>\n",
       "            <tr>\n",
       "                        <th id=\"T_9bc6fdf4_48cb_11ea_8f2b_2985bacae9f3level0_row4\" class=\"row_heading level0 row4\" >4</th>\n",
       "                        <td id=\"T_9bc6fdf4_48cb_11ea_8f2b_2985bacae9f3row4_col0\" class=\"data row4 col0\" >1</td>\n",
       "                        <td id=\"T_9bc6fdf4_48cb_11ea_8f2b_2985bacae9f3row4_col1\" class=\"data row4 col1\" >1</td>\n",
       "                        <td id=\"T_9bc6fdf4_48cb_11ea_8f2b_2985bacae9f3row4_col2\" class=\"data row4 col2\" >1</td>\n",
       "                        <td id=\"T_9bc6fdf4_48cb_11ea_8f2b_2985bacae9f3row4_col3\" class=\"data row4 col3\" >1</td>\n",
       "                        <td id=\"T_9bc6fdf4_48cb_11ea_8f2b_2985bacae9f3row4_col4\" class=\"data row4 col4\" >1</td>\n",
       "            </tr>\n",
       "            <tr>\n",
       "                        <th id=\"T_9bc6fdf4_48cb_11ea_8f2b_2985bacae9f3level0_row5\" class=\"row_heading level0 row5\" >5</th>\n",
       "                        <td id=\"T_9bc6fdf4_48cb_11ea_8f2b_2985bacae9f3row5_col0\" class=\"data row5 col0\" >0</td>\n",
       "                        <td id=\"T_9bc6fdf4_48cb_11ea_8f2b_2985bacae9f3row5_col1\" class=\"data row5 col1\" >0</td>\n",
       "                        <td id=\"T_9bc6fdf4_48cb_11ea_8f2b_2985bacae9f3row5_col2\" class=\"data row5 col2\" >0</td>\n",
       "                        <td id=\"T_9bc6fdf4_48cb_11ea_8f2b_2985bacae9f3row5_col3\" class=\"data row5 col3\" >0</td>\n",
       "                        <td id=\"T_9bc6fdf4_48cb_11ea_8f2b_2985bacae9f3row5_col4\" class=\"data row5 col4\" >0</td>\n",
       "            </tr>\n",
       "            <tr>\n",
       "                        <th id=\"T_9bc6fdf4_48cb_11ea_8f2b_2985bacae9f3level0_row6\" class=\"row_heading level0 row6\" >6</th>\n",
       "                        <td id=\"T_9bc6fdf4_48cb_11ea_8f2b_2985bacae9f3row6_col0\" class=\"data row6 col0\" >1</td>\n",
       "                        <td id=\"T_9bc6fdf4_48cb_11ea_8f2b_2985bacae9f3row6_col1\" class=\"data row6 col1\" >0</td>\n",
       "                        <td id=\"T_9bc6fdf4_48cb_11ea_8f2b_2985bacae9f3row6_col2\" class=\"data row6 col2\" >1</td>\n",
       "                        <td id=\"T_9bc6fdf4_48cb_11ea_8f2b_2985bacae9f3row6_col3\" class=\"data row6 col3\" >0</td>\n",
       "                        <td id=\"T_9bc6fdf4_48cb_11ea_8f2b_2985bacae9f3row6_col4\" class=\"data row6 col4\" >0</td>\n",
       "            </tr>\n",
       "            <tr>\n",
       "                        <th id=\"T_9bc6fdf4_48cb_11ea_8f2b_2985bacae9f3level0_row7\" class=\"row_heading level0 row7\" >7</th>\n",
       "                        <td id=\"T_9bc6fdf4_48cb_11ea_8f2b_2985bacae9f3row7_col0\" class=\"data row7 col0\" >0</td>\n",
       "                        <td id=\"T_9bc6fdf4_48cb_11ea_8f2b_2985bacae9f3row7_col1\" class=\"data row7 col1\" >1</td>\n",
       "                        <td id=\"T_9bc6fdf4_48cb_11ea_8f2b_2985bacae9f3row7_col2\" class=\"data row7 col2\" >0</td>\n",
       "                        <td id=\"T_9bc6fdf4_48cb_11ea_8f2b_2985bacae9f3row7_col3\" class=\"data row7 col3\" >0</td>\n",
       "                        <td id=\"T_9bc6fdf4_48cb_11ea_8f2b_2985bacae9f3row7_col4\" class=\"data row7 col4\" >1</td>\n",
       "            </tr>\n",
       "            <tr>\n",
       "                        <th id=\"T_9bc6fdf4_48cb_11ea_8f2b_2985bacae9f3level0_row8\" class=\"row_heading level0 row8\" >8</th>\n",
       "                        <td id=\"T_9bc6fdf4_48cb_11ea_8f2b_2985bacae9f3row8_col0\" class=\"data row8 col0\" >0</td>\n",
       "                        <td id=\"T_9bc6fdf4_48cb_11ea_8f2b_2985bacae9f3row8_col1\" class=\"data row8 col1\" >1</td>\n",
       "                        <td id=\"T_9bc6fdf4_48cb_11ea_8f2b_2985bacae9f3row8_col2\" class=\"data row8 col2\" >0</td>\n",
       "                        <td id=\"T_9bc6fdf4_48cb_11ea_8f2b_2985bacae9f3row8_col3\" class=\"data row8 col3\" >0</td>\n",
       "                        <td id=\"T_9bc6fdf4_48cb_11ea_8f2b_2985bacae9f3row8_col4\" class=\"data row8 col4\" >0</td>\n",
       "            </tr>\n",
       "            <tr>\n",
       "                        <th id=\"T_9bc6fdf4_48cb_11ea_8f2b_2985bacae9f3level0_row9\" class=\"row_heading level0 row9\" >9</th>\n",
       "                        <td id=\"T_9bc6fdf4_48cb_11ea_8f2b_2985bacae9f3row9_col0\" class=\"data row9 col0\" >1</td>\n",
       "                        <td id=\"T_9bc6fdf4_48cb_11ea_8f2b_2985bacae9f3row9_col1\" class=\"data row9 col1\" >0</td>\n",
       "                        <td id=\"T_9bc6fdf4_48cb_11ea_8f2b_2985bacae9f3row9_col2\" class=\"data row9 col2\" >0</td>\n",
       "                        <td id=\"T_9bc6fdf4_48cb_11ea_8f2b_2985bacae9f3row9_col3\" class=\"data row9 col3\" >0</td>\n",
       "                        <td id=\"T_9bc6fdf4_48cb_11ea_8f2b_2985bacae9f3row9_col4\" class=\"data row9 col4\" >1</td>\n",
       "            </tr>\n",
       "    </tbody></table>"
      ],
      "text/plain": [
       "<pandas.io.formats.style.Styler at 0x7fd35d57c8d0>"
      ]
     },
     "execution_count": 3,
     "metadata": {},
     "output_type": "execute_result"
    }
   ],
   "source": [
    "target = (rg.random(predictions.shape) > .5).astype(np.int)\n",
    "\n",
    "# Sample 4: all classes are positive\n",
    "target[4] = 1\n",
    "# Sample 5: all classes are negative\n",
    "target[5] = 0\n",
    "\n",
    "pd.DataFrame(target) \\\n",
    "    .rename_axis(index='Samples', columns='Classes') \\\n",
    "    .style \\\n",
    "    .background_gradient(axis=None)"
   ]
  },
  {
   "cell_type": "markdown",
   "metadata": {},
   "source": [
    "## Accuracy score\n",
    "In multilabel classification, this function computes subset accuracy: the set of labels predicted for a sample must exactly match the corresponding set of labels in `y_true`."
   ]
  },
  {
   "cell_type": "code",
   "execution_count": 4,
   "metadata": {},
   "outputs": [
    {
     "name": "stdout",
     "output_type": "stream",
     "text": [
      "Accuracy: 0.0\n",
      "Accuracy: 0.0\n"
     ]
    }
   ],
   "source": [
    "print('Accuracy:', sklearn.metrics.accuracy_score(\n",
    "    y_true=target,\n",
    "    y_pred=predictions > .5,\n",
    "))\n",
    "\n",
    "exact_matches = ((target == 1.) & (predictions > .5)).all(axis=1).sum()\n",
    "print('Accuracy:', exact_matches / n_samples)"
   ]
  },
  {
   "cell_type": "markdown",
   "metadata": {},
   "source": [
    "## Precision score\n",
    "Precision is the ratio `tp / (tp + fp)` where `tp` is the number of true positives and `fp` the number of false positives. \n",
    "\n",
    "Precision is intuitively the ability of the classifier not to label as positive a sample that is negative."
   ]
  },
  {
   "cell_type": "markdown",
   "metadata": {},
   "source": [
    "### Micro\n",
    "Calculate metrics globally by counting the total true positives, false negatives and false positives.\n",
    "\n",
    "Same as just considering all predictions as flattened."
   ]
  },
  {
   "cell_type": "code",
   "execution_count": 5,
   "metadata": {},
   "outputs": [
    {
     "name": "stdout",
     "output_type": "stream",
     "text": [
      "TP/(TP + FP): 0.6\n",
      "TP/(TP + FP): 0.6\n",
      "TP: 15\n",
      "FP: 10\n",
      "TP/(TP+FP): 0.6\n"
     ]
    }
   ],
   "source": [
    "print('TP/(TP + FP):', sklearn.metrics.precision_score(\n",
    "    y_true=target,\n",
    "    y_pred=predictions > .5,\n",
    "    average='micro'\n",
    "))\n",
    "\n",
    "print('TP/(TP + FP):', sklearn.metrics.precision_score(\n",
    "    y_true=target.ravel(),\n",
    "    y_pred=predictions.ravel() > .5,\n",
    "))\n",
    "\n",
    "# Find tp and fp across all samples and all classes\n",
    "tp = ((target == 1.) & (predictions > .5)).sum()\n",
    "fp = ((target == 0.) & (predictions > .5)).sum()\n",
    "\n",
    "print('TP:', tp)\n",
    "print('FP:', fp)\n",
    "print('TP/(TP+FP):', tp / (tp + fp))"
   ]
  },
  {
   "cell_type": "markdown",
   "metadata": {},
   "source": [
    "### Macro\n",
    "Calculate metrics for each label, and find their unweighted mean. This does not take label imbalance into account."
   ]
  },
  {
   "cell_type": "code",
   "execution_count": 6,
   "metadata": {},
   "outputs": [
    {
     "name": "stdout",
     "output_type": "stream",
     "text": [
      "TP/(TP + FP): 0.6\n"
     ]
    },
    {
     "data": {
      "text/html": [
       "<style  type=\"text/css\" >\n",
       "</style><table id=\"T_9bcf5616_48cb_11ea_8f2b_2985bacae9f3\" ><thead>    <tr>        <th class=\"index_name level0\" >Classes</th>        <th class=\"col_heading level0 col0\" >0</th>        <th class=\"col_heading level0 col1\" >1</th>        <th class=\"col_heading level0 col2\" >2</th>        <th class=\"col_heading level0 col3\" >3</th>        <th class=\"col_heading level0 col4\" >4</th>    </tr>    <tr>        <th class=\"index_name level0\" >/</th>        <th class=\"blank\" ></th>        <th class=\"blank\" ></th>        <th class=\"blank\" ></th>        <th class=\"blank\" ></th>        <th class=\"blank\" ></th>    </tr></thead><tbody>\n",
       "                <tr>\n",
       "                        <th id=\"T_9bcf5616_48cb_11ea_8f2b_2985bacae9f3level0_row0\" class=\"row_heading level0 row0\" >tp</th>\n",
       "                        <td id=\"T_9bcf5616_48cb_11ea_8f2b_2985bacae9f3row0_col0\" class=\"data row0 col0\" >4</td>\n",
       "                        <td id=\"T_9bcf5616_48cb_11ea_8f2b_2985bacae9f3row0_col1\" class=\"data row0 col1\" >1</td>\n",
       "                        <td id=\"T_9bcf5616_48cb_11ea_8f2b_2985bacae9f3row0_col2\" class=\"data row0 col2\" >4</td>\n",
       "                        <td id=\"T_9bcf5616_48cb_11ea_8f2b_2985bacae9f3row0_col3\" class=\"data row0 col3\" >3</td>\n",
       "                        <td id=\"T_9bcf5616_48cb_11ea_8f2b_2985bacae9f3row0_col4\" class=\"data row0 col4\" >3</td>\n",
       "            </tr>\n",
       "            <tr>\n",
       "                        <th id=\"T_9bcf5616_48cb_11ea_8f2b_2985bacae9f3level0_row1\" class=\"row_heading level0 row1\" >fp</th>\n",
       "                        <td id=\"T_9bcf5616_48cb_11ea_8f2b_2985bacae9f3row1_col0\" class=\"data row1 col0\" >1</td>\n",
       "                        <td id=\"T_9bcf5616_48cb_11ea_8f2b_2985bacae9f3row1_col1\" class=\"data row1 col1\" >4</td>\n",
       "                        <td id=\"T_9bcf5616_48cb_11ea_8f2b_2985bacae9f3row1_col2\" class=\"data row1 col2\" >1</td>\n",
       "                        <td id=\"T_9bcf5616_48cb_11ea_8f2b_2985bacae9f3row1_col3\" class=\"data row1 col3\" >2</td>\n",
       "                        <td id=\"T_9bcf5616_48cb_11ea_8f2b_2985bacae9f3row1_col4\" class=\"data row1 col4\" >2</td>\n",
       "            </tr>\n",
       "            <tr>\n",
       "                        <th id=\"T_9bcf5616_48cb_11ea_8f2b_2985bacae9f3level0_row2\" class=\"row_heading level0 row2\" >tp / (tp + fp)</th>\n",
       "                        <td id=\"T_9bcf5616_48cb_11ea_8f2b_2985bacae9f3row2_col0\" class=\"data row2 col0\" >80.0%</td>\n",
       "                        <td id=\"T_9bcf5616_48cb_11ea_8f2b_2985bacae9f3row2_col1\" class=\"data row2 col1\" >20.0%</td>\n",
       "                        <td id=\"T_9bcf5616_48cb_11ea_8f2b_2985bacae9f3row2_col2\" class=\"data row2 col2\" >80.0%</td>\n",
       "                        <td id=\"T_9bcf5616_48cb_11ea_8f2b_2985bacae9f3row2_col3\" class=\"data row2 col3\" >60.0%</td>\n",
       "                        <td id=\"T_9bcf5616_48cb_11ea_8f2b_2985bacae9f3row2_col4\" class=\"data row2 col4\" >60.0%</td>\n",
       "            </tr>\n",
       "    </tbody></table>"
      ],
      "text/plain": [
       "<pandas.io.formats.style.Styler at 0x7fd35a819290>"
      ]
     },
     "metadata": {},
     "output_type": "display_data"
    },
    {
     "name": "stdout",
     "output_type": "stream",
     "text": [
      "TP/(TP+FP): 0.6\n"
     ]
    }
   ],
   "source": [
    "print('TP/(TP + FP):', sklearn.metrics.precision_score(\n",
    "    y_true=target,\n",
    "    y_pred=predictions > .5,\n",
    "    average='macro'\n",
    "))\n",
    "\n",
    "# Find class-wise tp and fp across all samples\n",
    "tp = ((target == 1.) & (predictions > .5)).sum(axis=0, keepdims=True)\n",
    "fp = ((target == 0.) & (predictions > .5)).sum(axis=0, keepdims=True)\n",
    "\n",
    "display(\n",
    "    pd.DataFrame({\n",
    "        'tp': tp.squeeze(),\n",
    "        'fp': fp.squeeze(),\n",
    "        'tp / (tp + fp)': (tp / (tp + fp)).squeeze()\n",
    "    })\n",
    "    .rename_axis(index='Classes', columns='/')\n",
    "    .transpose()\n",
    "    .style\n",
    "    .format('{:.0f}', subset=pd.IndexSlice[['tp', 'fp'], :])\n",
    "    .format('{:.1%}', subset=pd.IndexSlice['tp / (tp + fp)', :])\n",
    ")\n",
    "\n",
    "print('TP/(TP+FP):', np.nan_to_num(tp / (tp + fp), nan=0.).mean(axis=1).item())"
   ]
  },
  {
   "cell_type": "markdown",
   "metadata": {},
   "source": [
    "### Sample\n",
    "Calculate metrics for each instance, and find their average (only meaningful for multilabel classification where this differs from accuracy_score)."
   ]
  },
  {
   "cell_type": "code",
   "execution_count": 7,
   "metadata": {},
   "outputs": [
    {
     "name": "stdout",
     "output_type": "stream",
     "text": [
      "TP/(TP + FP): 0.5233333333333333\n"
     ]
    },
    {
     "data": {
      "text/html": [
       "<style  type=\"text/css\" >\n",
       "</style><table id=\"T_9bd3fb26_48cb_11ea_8f2b_2985bacae9f3\" ><thead>    <tr>        <th class=\"blank level0\" ></th>        <th class=\"col_heading level0 col0\" >tp</th>        <th class=\"col_heading level0 col1\" >fp</th>        <th class=\"col_heading level0 col2\" >tp / (tp + fp)</th>    </tr>    <tr>        <th class=\"index_name level0\" >Samples</th>        <th class=\"blank\" ></th>        <th class=\"blank\" ></th>        <th class=\"blank\" ></th>    </tr></thead><tbody>\n",
       "                <tr>\n",
       "                        <th id=\"T_9bd3fb26_48cb_11ea_8f2b_2985bacae9f3level0_row0\" class=\"row_heading level0 row0\" >0</th>\n",
       "                        <td id=\"T_9bd3fb26_48cb_11ea_8f2b_2985bacae9f3row0_col0\" class=\"data row0 col0\" >2</td>\n",
       "                        <td id=\"T_9bd3fb26_48cb_11ea_8f2b_2985bacae9f3row0_col1\" class=\"data row0 col1\" >1</td>\n",
       "                        <td id=\"T_9bd3fb26_48cb_11ea_8f2b_2985bacae9f3row0_col2\" class=\"data row0 col2\" >66.7%</td>\n",
       "            </tr>\n",
       "            <tr>\n",
       "                        <th id=\"T_9bd3fb26_48cb_11ea_8f2b_2985bacae9f3level0_row1\" class=\"row_heading level0 row1\" >1</th>\n",
       "                        <td id=\"T_9bd3fb26_48cb_11ea_8f2b_2985bacae9f3row1_col0\" class=\"data row1 col0\" >2</td>\n",
       "                        <td id=\"T_9bd3fb26_48cb_11ea_8f2b_2985bacae9f3row1_col1\" class=\"data row1 col1\" >1</td>\n",
       "                        <td id=\"T_9bd3fb26_48cb_11ea_8f2b_2985bacae9f3row1_col2\" class=\"data row1 col2\" >66.7%</td>\n",
       "            </tr>\n",
       "            <tr>\n",
       "                        <th id=\"T_9bd3fb26_48cb_11ea_8f2b_2985bacae9f3level0_row2\" class=\"row_heading level0 row2\" >2</th>\n",
       "                        <td id=\"T_9bd3fb26_48cb_11ea_8f2b_2985bacae9f3row2_col0\" class=\"data row2 col0\" >2</td>\n",
       "                        <td id=\"T_9bd3fb26_48cb_11ea_8f2b_2985bacae9f3row2_col1\" class=\"data row2 col1\" >1</td>\n",
       "                        <td id=\"T_9bd3fb26_48cb_11ea_8f2b_2985bacae9f3row2_col2\" class=\"data row2 col2\" >66.7%</td>\n",
       "            </tr>\n",
       "            <tr>\n",
       "                        <th id=\"T_9bd3fb26_48cb_11ea_8f2b_2985bacae9f3level0_row3\" class=\"row_heading level0 row3\" >3</th>\n",
       "                        <td id=\"T_9bd3fb26_48cb_11ea_8f2b_2985bacae9f3row3_col0\" class=\"data row3 col0\" >1</td>\n",
       "                        <td id=\"T_9bd3fb26_48cb_11ea_8f2b_2985bacae9f3row3_col1\" class=\"data row3 col1\" >2</td>\n",
       "                        <td id=\"T_9bd3fb26_48cb_11ea_8f2b_2985bacae9f3row3_col2\" class=\"data row3 col2\" >33.3%</td>\n",
       "            </tr>\n",
       "            <tr>\n",
       "                        <th id=\"T_9bd3fb26_48cb_11ea_8f2b_2985bacae9f3level0_row4\" class=\"row_heading level0 row4\" >4</th>\n",
       "                        <td id=\"T_9bd3fb26_48cb_11ea_8f2b_2985bacae9f3row4_col0\" class=\"data row4 col0\" >4</td>\n",
       "                        <td id=\"T_9bd3fb26_48cb_11ea_8f2b_2985bacae9f3row4_col1\" class=\"data row4 col1\" >0</td>\n",
       "                        <td id=\"T_9bd3fb26_48cb_11ea_8f2b_2985bacae9f3row4_col2\" class=\"data row4 col2\" >100.0%</td>\n",
       "            </tr>\n",
       "            <tr>\n",
       "                        <th id=\"T_9bd3fb26_48cb_11ea_8f2b_2985bacae9f3level0_row5\" class=\"row_heading level0 row5\" >5</th>\n",
       "                        <td id=\"T_9bd3fb26_48cb_11ea_8f2b_2985bacae9f3row5_col0\" class=\"data row5 col0\" >0</td>\n",
       "                        <td id=\"T_9bd3fb26_48cb_11ea_8f2b_2985bacae9f3row5_col1\" class=\"data row5 col1\" >1</td>\n",
       "                        <td id=\"T_9bd3fb26_48cb_11ea_8f2b_2985bacae9f3row5_col2\" class=\"data row5 col2\" >0.0%</td>\n",
       "            </tr>\n",
       "            <tr>\n",
       "                        <th id=\"T_9bd3fb26_48cb_11ea_8f2b_2985bacae9f3level0_row6\" class=\"row_heading level0 row6\" >6</th>\n",
       "                        <td id=\"T_9bd3fb26_48cb_11ea_8f2b_2985bacae9f3row6_col0\" class=\"data row6 col0\" >1</td>\n",
       "                        <td id=\"T_9bd3fb26_48cb_11ea_8f2b_2985bacae9f3row6_col1\" class=\"data row6 col1\" >1</td>\n",
       "                        <td id=\"T_9bd3fb26_48cb_11ea_8f2b_2985bacae9f3row6_col2\" class=\"data row6 col2\" >50.0%</td>\n",
       "            </tr>\n",
       "            <tr>\n",
       "                        <th id=\"T_9bd3fb26_48cb_11ea_8f2b_2985bacae9f3level0_row7\" class=\"row_heading level0 row7\" >7</th>\n",
       "                        <td id=\"T_9bd3fb26_48cb_11ea_8f2b_2985bacae9f3row7_col0\" class=\"data row7 col0\" >1</td>\n",
       "                        <td id=\"T_9bd3fb26_48cb_11ea_8f2b_2985bacae9f3row7_col1\" class=\"data row7 col1\" >0</td>\n",
       "                        <td id=\"T_9bd3fb26_48cb_11ea_8f2b_2985bacae9f3row7_col2\" class=\"data row7 col2\" >100.0%</td>\n",
       "            </tr>\n",
       "            <tr>\n",
       "                        <th id=\"T_9bd3fb26_48cb_11ea_8f2b_2985bacae9f3level0_row8\" class=\"row_heading level0 row8\" >8</th>\n",
       "                        <td id=\"T_9bd3fb26_48cb_11ea_8f2b_2985bacae9f3row8_col0\" class=\"data row8 col0\" >0</td>\n",
       "                        <td id=\"T_9bd3fb26_48cb_11ea_8f2b_2985bacae9f3row8_col1\" class=\"data row8 col1\" >0</td>\n",
       "                        <td id=\"T_9bd3fb26_48cb_11ea_8f2b_2985bacae9f3row8_col2\" class=\"data row8 col2\" >nan%</td>\n",
       "            </tr>\n",
       "            <tr>\n",
       "                        <th id=\"T_9bd3fb26_48cb_11ea_8f2b_2985bacae9f3level0_row9\" class=\"row_heading level0 row9\" >9</th>\n",
       "                        <td id=\"T_9bd3fb26_48cb_11ea_8f2b_2985bacae9f3row9_col0\" class=\"data row9 col0\" >2</td>\n",
       "                        <td id=\"T_9bd3fb26_48cb_11ea_8f2b_2985bacae9f3row9_col1\" class=\"data row9 col1\" >3</td>\n",
       "                        <td id=\"T_9bd3fb26_48cb_11ea_8f2b_2985bacae9f3row9_col2\" class=\"data row9 col2\" >40.0%</td>\n",
       "            </tr>\n",
       "    </tbody></table>"
      ],
      "text/plain": [
       "<pandas.io.formats.style.Styler at 0x7fd35a815750>"
      ]
     },
     "metadata": {},
     "output_type": "display_data"
    },
    {
     "name": "stdout",
     "output_type": "stream",
     "text": [
      "TP/(TP+FP): 0.5233333333333333\n"
     ]
    }
   ],
   "source": [
    "print('TP/(TP + FP):', sklearn.metrics.precision_score(\n",
    "    y_true=target,\n",
    "    y_pred=predictions > .5,\n",
    "    average='samples',\n",
    "    zero_division=0\n",
    "))\n",
    "\n",
    "# Find sample-wise tp and fp across all classes\n",
    "tp = ((target == 1.) & (predictions > .5)).sum(axis=1, keepdims=True)\n",
    "fp = ((target == 0.) & (predictions > .5)).sum(axis=1, keepdims=True)\n",
    "\n",
    "display(\n",
    "    pd.DataFrame({\n",
    "        'tp': tp.squeeze(),\n",
    "        'fp': fp.squeeze(),\n",
    "        'tp / (tp + fp)': (tp / (tp + fp)).squeeze()\n",
    "    })\n",
    "    .rename_axis(index='Samples')\n",
    "    .style\n",
    "    .format('{:.0f}', subset=pd.IndexSlice[:, ['tp', 'fp']])\n",
    "    .format('{:.1%}', subset=pd.IndexSlice[:, 'tp / (tp + fp)'])\n",
    ")\n",
    "\n",
    "print('TP/(TP+FP):', np.nan_to_num(tp / (tp + fp), nan=0.).mean(axis=0).item())"
   ]
  },
  {
   "cell_type": "markdown",
   "metadata": {},
   "source": [
    "## Recall score\n",
    "Recall is the ratio `tp / (tp + fn)` where `tp` is the number of true positives and `fn` the number of false negatives. \n",
    "\n",
    "Recall is intuitively the ability of the classifier to find all the positive samples."
   ]
  },
  {
   "cell_type": "markdown",
   "metadata": {},
   "source": [
    "### Micro\n",
    "Calculate metrics globally by counting the total true positives, false negatives and false positives.\n",
    "\n",
    "Same as just considering all predictions as flattened."
   ]
  },
  {
   "cell_type": "code",
   "execution_count": 8,
   "metadata": {},
   "outputs": [
    {
     "name": "stdout",
     "output_type": "stream",
     "text": [
      "TP/(TP + FN): 0.6521739130434783\n",
      "TP/(TP + FN): 0.6521739130434783\n",
      "TP: 15\n",
      "FN: 8\n",
      "TP/(TP+FN): 0.6521739130434783\n"
     ]
    }
   ],
   "source": [
    "print('TP/(TP + FN):', sklearn.metrics.recall_score(\n",
    "    y_true=target,\n",
    "    y_pred=predictions > .5,\n",
    "    average='micro'\n",
    "))\n",
    "\n",
    "print('TP/(TP + FN):', sklearn.metrics.recall_score(\n",
    "    y_true=target.ravel(),\n",
    "    y_pred=predictions.ravel() > .5,\n",
    "))\n",
    "\n",
    "# Find tp and fn across all samples and all classes\n",
    "tp = ((target == 1.) & (predictions > .5)).sum()\n",
    "fn = ((target == 1.) & (predictions <= .5)).sum()\n",
    "\n",
    "print('TP:', tp)\n",
    "print('FN:', fn)\n",
    "print('TP/(TP+FN):', tp / (tp + fn))"
   ]
  },
  {
   "cell_type": "markdown",
   "metadata": {},
   "source": [
    "### Macro\n",
    "Calculate metrics for each label, and find their unweighted mean. This does not take label imbalance into account."
   ]
  },
  {
   "cell_type": "code",
   "execution_count": 9,
   "metadata": {},
   "outputs": [
    {
     "name": "stdout",
     "output_type": "stream",
     "text": [
      "TP/(TP + FN): 0.6633333333333333\n"
     ]
    },
    {
     "data": {
      "text/html": [
       "<style  type=\"text/css\" >\n",
       "</style><table id=\"T_9bdca56e_48cb_11ea_8f2b_2985bacae9f3\" ><thead>    <tr>        <th class=\"index_name level0\" >Classes</th>        <th class=\"col_heading level0 col0\" >0</th>        <th class=\"col_heading level0 col1\" >1</th>        <th class=\"col_heading level0 col2\" >2</th>        <th class=\"col_heading level0 col3\" >3</th>        <th class=\"col_heading level0 col4\" >4</th>    </tr>    <tr>        <th class=\"index_name level0\" >/</th>        <th class=\"blank\" ></th>        <th class=\"blank\" ></th>        <th class=\"blank\" ></th>        <th class=\"blank\" ></th>        <th class=\"blank\" ></th>    </tr></thead><tbody>\n",
       "                <tr>\n",
       "                        <th id=\"T_9bdca56e_48cb_11ea_8f2b_2985bacae9f3level0_row0\" class=\"row_heading level0 row0\" >tp</th>\n",
       "                        <td id=\"T_9bdca56e_48cb_11ea_8f2b_2985bacae9f3row0_col0\" class=\"data row0 col0\" >4</td>\n",
       "                        <td id=\"T_9bdca56e_48cb_11ea_8f2b_2985bacae9f3row0_col1\" class=\"data row0 col1\" >1</td>\n",
       "                        <td id=\"T_9bdca56e_48cb_11ea_8f2b_2985bacae9f3row0_col2\" class=\"data row0 col2\" >4</td>\n",
       "                        <td id=\"T_9bdca56e_48cb_11ea_8f2b_2985bacae9f3row0_col3\" class=\"data row0 col3\" >3</td>\n",
       "                        <td id=\"T_9bdca56e_48cb_11ea_8f2b_2985bacae9f3row0_col4\" class=\"data row0 col4\" >3</td>\n",
       "            </tr>\n",
       "            <tr>\n",
       "                        <th id=\"T_9bdca56e_48cb_11ea_8f2b_2985bacae9f3level0_row1\" class=\"row_heading level0 row1\" >fn</th>\n",
       "                        <td id=\"T_9bdca56e_48cb_11ea_8f2b_2985bacae9f3row1_col0\" class=\"data row1 col0\" >2</td>\n",
       "                        <td id=\"T_9bdca56e_48cb_11ea_8f2b_2985bacae9f3row1_col1\" class=\"data row1 col1\" >3</td>\n",
       "                        <td id=\"T_9bdca56e_48cb_11ea_8f2b_2985bacae9f3row1_col2\" class=\"data row1 col2\" >1</td>\n",
       "                        <td id=\"T_9bdca56e_48cb_11ea_8f2b_2985bacae9f3row1_col3\" class=\"data row1 col3\" >0</td>\n",
       "                        <td id=\"T_9bdca56e_48cb_11ea_8f2b_2985bacae9f3row1_col4\" class=\"data row1 col4\" >2</td>\n",
       "            </tr>\n",
       "            <tr>\n",
       "                        <th id=\"T_9bdca56e_48cb_11ea_8f2b_2985bacae9f3level0_row2\" class=\"row_heading level0 row2\" >tp / (tp + fn)</th>\n",
       "                        <td id=\"T_9bdca56e_48cb_11ea_8f2b_2985bacae9f3row2_col0\" class=\"data row2 col0\" >66.7%</td>\n",
       "                        <td id=\"T_9bdca56e_48cb_11ea_8f2b_2985bacae9f3row2_col1\" class=\"data row2 col1\" >25.0%</td>\n",
       "                        <td id=\"T_9bdca56e_48cb_11ea_8f2b_2985bacae9f3row2_col2\" class=\"data row2 col2\" >80.0%</td>\n",
       "                        <td id=\"T_9bdca56e_48cb_11ea_8f2b_2985bacae9f3row2_col3\" class=\"data row2 col3\" >100.0%</td>\n",
       "                        <td id=\"T_9bdca56e_48cb_11ea_8f2b_2985bacae9f3row2_col4\" class=\"data row2 col4\" >60.0%</td>\n",
       "            </tr>\n",
       "    </tbody></table>"
      ],
      "text/plain": [
       "<pandas.io.formats.style.Styler at 0x7fd35efaccd0>"
      ]
     },
     "metadata": {},
     "output_type": "display_data"
    },
    {
     "name": "stdout",
     "output_type": "stream",
     "text": [
      "TP/(TP+FN): 0.6633333333333333\n"
     ]
    }
   ],
   "source": [
    "print('TP/(TP + FN):', sklearn.metrics.recall_score(\n",
    "    y_true=target,\n",
    "    y_pred=predictions > .5,\n",
    "    average='macro'\n",
    "))\n",
    "\n",
    "# Find class-wise tp and fn across all samples\n",
    "tp = ((target == 1.) & (predictions > .5)).sum(axis=0, keepdims=True)\n",
    "fn = ((target == 1.) & (predictions <= .5)).sum(axis=0, keepdims=True)\n",
    "\n",
    "display(\n",
    "    pd.DataFrame({\n",
    "        'tp': tp.squeeze(),\n",
    "        'fn': fn.squeeze(),\n",
    "        'tp / (tp + fn)': (tp / (tp + fn)).squeeze()\n",
    "    })\n",
    "    .rename_axis(index='Classes', columns='/')\n",
    "    .transpose()\n",
    "    .style\n",
    "    .format('{:.0f}', subset=pd.IndexSlice[['tp', 'fn'], :])\n",
    "    .format('{:.1%}', subset=pd.IndexSlice['tp / (tp + fn)', :])\n",
    ")\n",
    "\n",
    "print('TP/(TP+FN):', np.nan_to_num(tp / (tp + fn), nan=0.).mean(axis=1).item())"
   ]
  },
  {
   "cell_type": "markdown",
   "metadata": {},
   "source": [
    "### Sample\n",
    "Calculate metrics for each instance, and find their average (only meaningful for multilabel classification where this differs from accuracy_score)."
   ]
  },
  {
   "cell_type": "code",
   "execution_count": 10,
   "metadata": {},
   "outputs": [
    {
     "name": "stdout",
     "output_type": "stream",
     "text": [
      "TP/(TP + FN): 0.5466666666666666\n"
     ]
    },
    {
     "data": {
      "text/html": [
       "<style  type=\"text/css\" >\n",
       "</style><table id=\"T_9be0ebec_48cb_11ea_8f2b_2985bacae9f3\" ><thead>    <tr>        <th class=\"blank level0\" ></th>        <th class=\"col_heading level0 col0\" >tp</th>        <th class=\"col_heading level0 col1\" >fn</th>        <th class=\"col_heading level0 col2\" >tp / (tp + fn)</th>    </tr>    <tr>        <th class=\"index_name level0\" >Samples</th>        <th class=\"blank\" ></th>        <th class=\"blank\" ></th>        <th class=\"blank\" ></th>    </tr></thead><tbody>\n",
       "                <tr>\n",
       "                        <th id=\"T_9be0ebec_48cb_11ea_8f2b_2985bacae9f3level0_row0\" class=\"row_heading level0 row0\" >0</th>\n",
       "                        <td id=\"T_9be0ebec_48cb_11ea_8f2b_2985bacae9f3row0_col0\" class=\"data row0 col0\" >2</td>\n",
       "                        <td id=\"T_9be0ebec_48cb_11ea_8f2b_2985bacae9f3row0_col1\" class=\"data row0 col1\" >1</td>\n",
       "                        <td id=\"T_9be0ebec_48cb_11ea_8f2b_2985bacae9f3row0_col2\" class=\"data row0 col2\" >66.7%</td>\n",
       "            </tr>\n",
       "            <tr>\n",
       "                        <th id=\"T_9be0ebec_48cb_11ea_8f2b_2985bacae9f3level0_row1\" class=\"row_heading level0 row1\" >1</th>\n",
       "                        <td id=\"T_9be0ebec_48cb_11ea_8f2b_2985bacae9f3row1_col0\" class=\"data row1 col0\" >2</td>\n",
       "                        <td id=\"T_9be0ebec_48cb_11ea_8f2b_2985bacae9f3row1_col1\" class=\"data row1 col1\" >0</td>\n",
       "                        <td id=\"T_9be0ebec_48cb_11ea_8f2b_2985bacae9f3row1_col2\" class=\"data row1 col2\" >100.0%</td>\n",
       "            </tr>\n",
       "            <tr>\n",
       "                        <th id=\"T_9be0ebec_48cb_11ea_8f2b_2985bacae9f3level0_row2\" class=\"row_heading level0 row2\" >2</th>\n",
       "                        <td id=\"T_9be0ebec_48cb_11ea_8f2b_2985bacae9f3row2_col0\" class=\"data row2 col0\" >2</td>\n",
       "                        <td id=\"T_9be0ebec_48cb_11ea_8f2b_2985bacae9f3row2_col1\" class=\"data row2 col1\" >2</td>\n",
       "                        <td id=\"T_9be0ebec_48cb_11ea_8f2b_2985bacae9f3row2_col2\" class=\"data row2 col2\" >50.0%</td>\n",
       "            </tr>\n",
       "            <tr>\n",
       "                        <th id=\"T_9be0ebec_48cb_11ea_8f2b_2985bacae9f3level0_row3\" class=\"row_heading level0 row3\" >3</th>\n",
       "                        <td id=\"T_9be0ebec_48cb_11ea_8f2b_2985bacae9f3row3_col0\" class=\"data row3 col0\" >1</td>\n",
       "                        <td id=\"T_9be0ebec_48cb_11ea_8f2b_2985bacae9f3row3_col1\" class=\"data row3 col1\" >1</td>\n",
       "                        <td id=\"T_9be0ebec_48cb_11ea_8f2b_2985bacae9f3row3_col2\" class=\"data row3 col2\" >50.0%</td>\n",
       "            </tr>\n",
       "            <tr>\n",
       "                        <th id=\"T_9be0ebec_48cb_11ea_8f2b_2985bacae9f3level0_row4\" class=\"row_heading level0 row4\" >4</th>\n",
       "                        <td id=\"T_9be0ebec_48cb_11ea_8f2b_2985bacae9f3row4_col0\" class=\"data row4 col0\" >4</td>\n",
       "                        <td id=\"T_9be0ebec_48cb_11ea_8f2b_2985bacae9f3row4_col1\" class=\"data row4 col1\" >1</td>\n",
       "                        <td id=\"T_9be0ebec_48cb_11ea_8f2b_2985bacae9f3row4_col2\" class=\"data row4 col2\" >80.0%</td>\n",
       "            </tr>\n",
       "            <tr>\n",
       "                        <th id=\"T_9be0ebec_48cb_11ea_8f2b_2985bacae9f3level0_row5\" class=\"row_heading level0 row5\" >5</th>\n",
       "                        <td id=\"T_9be0ebec_48cb_11ea_8f2b_2985bacae9f3row5_col0\" class=\"data row5 col0\" >0</td>\n",
       "                        <td id=\"T_9be0ebec_48cb_11ea_8f2b_2985bacae9f3row5_col1\" class=\"data row5 col1\" >0</td>\n",
       "                        <td id=\"T_9be0ebec_48cb_11ea_8f2b_2985bacae9f3row5_col2\" class=\"data row5 col2\" >nan%</td>\n",
       "            </tr>\n",
       "            <tr>\n",
       "                        <th id=\"T_9be0ebec_48cb_11ea_8f2b_2985bacae9f3level0_row6\" class=\"row_heading level0 row6\" >6</th>\n",
       "                        <td id=\"T_9be0ebec_48cb_11ea_8f2b_2985bacae9f3row6_col0\" class=\"data row6 col0\" >1</td>\n",
       "                        <td id=\"T_9be0ebec_48cb_11ea_8f2b_2985bacae9f3row6_col1\" class=\"data row6 col1\" >1</td>\n",
       "                        <td id=\"T_9be0ebec_48cb_11ea_8f2b_2985bacae9f3row6_col2\" class=\"data row6 col2\" >50.0%</td>\n",
       "            </tr>\n",
       "            <tr>\n",
       "                        <th id=\"T_9be0ebec_48cb_11ea_8f2b_2985bacae9f3level0_row7\" class=\"row_heading level0 row7\" >7</th>\n",
       "                        <td id=\"T_9be0ebec_48cb_11ea_8f2b_2985bacae9f3row7_col0\" class=\"data row7 col0\" >1</td>\n",
       "                        <td id=\"T_9be0ebec_48cb_11ea_8f2b_2985bacae9f3row7_col1\" class=\"data row7 col1\" >1</td>\n",
       "                        <td id=\"T_9be0ebec_48cb_11ea_8f2b_2985bacae9f3row7_col2\" class=\"data row7 col2\" >50.0%</td>\n",
       "            </tr>\n",
       "            <tr>\n",
       "                        <th id=\"T_9be0ebec_48cb_11ea_8f2b_2985bacae9f3level0_row8\" class=\"row_heading level0 row8\" >8</th>\n",
       "                        <td id=\"T_9be0ebec_48cb_11ea_8f2b_2985bacae9f3row8_col0\" class=\"data row8 col0\" >0</td>\n",
       "                        <td id=\"T_9be0ebec_48cb_11ea_8f2b_2985bacae9f3row8_col1\" class=\"data row8 col1\" >1</td>\n",
       "                        <td id=\"T_9be0ebec_48cb_11ea_8f2b_2985bacae9f3row8_col2\" class=\"data row8 col2\" >0.0%</td>\n",
       "            </tr>\n",
       "            <tr>\n",
       "                        <th id=\"T_9be0ebec_48cb_11ea_8f2b_2985bacae9f3level0_row9\" class=\"row_heading level0 row9\" >9</th>\n",
       "                        <td id=\"T_9be0ebec_48cb_11ea_8f2b_2985bacae9f3row9_col0\" class=\"data row9 col0\" >2</td>\n",
       "                        <td id=\"T_9be0ebec_48cb_11ea_8f2b_2985bacae9f3row9_col1\" class=\"data row9 col1\" >0</td>\n",
       "                        <td id=\"T_9be0ebec_48cb_11ea_8f2b_2985bacae9f3row9_col2\" class=\"data row9 col2\" >100.0%</td>\n",
       "            </tr>\n",
       "    </tbody></table>"
      ],
      "text/plain": [
       "<pandas.io.formats.style.Styler at 0x7fd35a804f90>"
      ]
     },
     "metadata": {},
     "output_type": "display_data"
    },
    {
     "name": "stdout",
     "output_type": "stream",
     "text": [
      "TP/(TP+FN): 0.5466666666666666\n"
     ]
    }
   ],
   "source": [
    "print('TP/(TP + FN):', sklearn.metrics.recall_score(\n",
    "    y_true=target,\n",
    "    y_pred=predictions > .5,\n",
    "    average='samples',\n",
    "    zero_division=0\n",
    "))\n",
    "\n",
    "# Find sample-wise tp and fn across all classes\n",
    "tp = ((target == 1.) & (predictions > .5)).sum(axis=1, keepdims=True)\n",
    "fn = ((target == 1.) & (predictions <= .5)).sum(axis=1, keepdims=True)\n",
    "\n",
    "display(\n",
    "    pd.DataFrame({\n",
    "        'tp': tp.squeeze(),\n",
    "        'fn': fn.squeeze(),\n",
    "        'tp / (tp + fn)': (tp / (tp + fn)).squeeze()\n",
    "    })\n",
    "    .rename_axis(index='Samples')\n",
    "    .style\n",
    "    .format('{:.0f}', subset=pd.IndexSlice[:, ['tp', 'fn']])\n",
    "    .format('{:.1%}', subset=pd.IndexSlice[:, 'tp / (tp + fn)'])\n",
    ")\n",
    "\n",
    "print('TP/(TP+FN):', np.nan_to_num(tp / (tp + fn), nan=0.).mean(axis=0).item())"
   ]
  },
  {
   "cell_type": "markdown",
   "metadata": {},
   "source": [
    "## Average precision score\n",
    "AP summarizes a precision-recall curve as the weighted mean of precisions achieved at each threshold, with the increase in recall from the previous threshold used as the weight:\n",
    "\n",
    "$$AP = \\sum_n (R_n - R_{n-1})\\ P_n$$\n",
    "\n",
    "where $P_n$ and $R_n$ are the precision and recall at the nth threshold.\n",
    "\n",
    "More resources:\n",
    "- [Breaking Down Mean Average Precision (mAP)](https://towardsdatascience.com/breaking-down-mean-average-precision-map-ae462f623a52#1a59)\n",
    "- [mAP (mean Average Precision) for Object Detection](https://medium.com/@jonathan_hui/map-mean-average-precision-for-object-detection-45c121a31173)"
   ]
  },
  {
   "cell_type": "markdown",
   "metadata": {},
   "source": [
    "### Micro\n",
    "Calculate metrics globally by counting the total true positives, false negatives and false positives.\n",
    "\n",
    "Same as just considering all predictions as flattened."
   ]
  },
  {
   "cell_type": "code",
   "execution_count": 11,
   "metadata": {},
   "outputs": [
    {
     "name": "stdout",
     "output_type": "stream",
     "text": [
      "mAP micro: 0.6008320948047872\n",
      "mAP micro: 0.6008320948047872\n"
     ]
    }
   ],
   "source": [
    "print('mAP micro:', sklearn.metrics.average_precision_score(\n",
    "    y_true=target,\n",
    "    y_score=predictions,\n",
    "    average='micro'\n",
    "))\n",
    "\n",
    "print('mAP micro:', sklearn.metrics.average_precision_score(\n",
    "    y_true=target.ravel(),\n",
    "    y_score=predictions.ravel(),\n",
    "))"
   ]
  },
  {
   "cell_type": "markdown",
   "metadata": {},
   "source": [
    "### Macro\n",
    "Calculate metrics for each label, and find their unweighted mean. This does not take label imbalance into account.\n",
    "\n",
    "It could be useful to pass `average=None` to get the AP per class. \n",
    "Maybe because we are interested in the per-class AP, or maybe because we want to avoid a `NaN` score if one of the classes is never annotated in the minibatch."
   ]
  },
  {
   "cell_type": "code",
   "execution_count": 12,
   "metadata": {},
   "outputs": [
    {
     "name": "stdout",
     "output_type": "stream",
     "text": [
      "mAP macro: 0.6810873015873016\n"
     ]
    }
   ],
   "source": [
    "print('mAP macro:', sklearn.metrics.average_precision_score(\n",
    "    y_true=target,\n",
    "    y_score=predictions,\n",
    "    average='macro'\n",
    "))"
   ]
  },
  {
   "cell_type": "code",
   "execution_count": 13,
   "metadata": {},
   "outputs": [
    {
     "name": "stdout",
     "output_type": "stream",
     "text": [
      "mAP per-class (with one faulty column): [0.82 0.3  0.79 0.76  nan]\n"
     ]
    }
   ],
   "source": [
    "print('mAP per-class (with one faulty column):', sklearn.metrics.average_precision_score(\n",
    "    y_true=np.concatenate((target[:, :-1], np.zeros_like(target[:, -1:])), axis=1),\n",
    "    y_score=predictions,\n",
    "    average=None\n",
    "))"
   ]
  },
  {
   "cell_type": "markdown",
   "metadata": {},
   "source": [
    "### Sample\n",
    "Calculate metrics for each instance, and find their average (only meaningful for multilabel classification where this differs from accuracy_score).\n",
    "\n",
    "Sample 5 is annotated with all 0s and gives 0 recall for all thresholds, so the result for that row is `NaN`."
   ]
  },
  {
   "cell_type": "code",
   "execution_count": 14,
   "metadata": {},
   "outputs": [
    {
     "name": "stdout",
     "output_type": "stream",
     "text": [
      "mAP samples: nan\n",
      "mAP samples (except row 5): 0.7445987654320987\n"
     ]
    }
   ],
   "source": [
    "print('mAP samples:', sklearn.metrics.average_precision_score(\n",
    "    y_true=target,\n",
    "    y_score=predictions,\n",
    "    average='samples'\n",
    "))\n",
    "\n",
    "print('mAP samples (except row 5):', sklearn.metrics.average_precision_score(\n",
    "    y_true=target[np.arange(len(target)) != 5],\n",
    "    y_score=predictions[np.arange(len(target)) != 5],\n",
    "    average='samples'\n",
    "))"
   ]
  },
  {
   "cell_type": "code",
   "execution_count": 15,
   "metadata": {},
   "outputs": [
    {
     "data": {
      "text/plain": [
       "array([0.82, 0.3 , 0.79, 0.76, 0.75])"
      ]
     },
     "execution_count": 15,
     "metadata": {},
     "output_type": "execute_result"
    }
   ],
   "source": [
    "sklearn.metrics.average_precision_score(\n",
    "    y_true=target,\n",
    "    y_score=predictions,\n",
    "    average=None\n",
    ")"
   ]
  },
  {
   "cell_type": "code",
   "execution_count": 16,
   "metadata": {},
   "outputs": [
    {
     "data": {
      "text/plain": [
       "0.8115740740740741"
      ]
     },
     "execution_count": 16,
     "metadata": {},
     "output_type": "execute_result"
    }
   ],
   "source": [
    "sklearn.metrics.average_precision_score(\n",
    "    y_true=target[:3],\n",
    "    y_score=predictions[:3],\n",
    "    average='samples'\n",
    ")"
   ]
  },
  {
   "cell_type": "markdown",
   "metadata": {},
   "source": [
    "## Classification Report\n",
    "A summary of precision, recall, and f1 score according to the various averaging options."
   ]
  },
  {
   "cell_type": "code",
   "execution_count": 17,
   "metadata": {},
   "outputs": [
    {
     "name": "stdout",
     "output_type": "stream",
     "text": [
      "              precision    recall  f1-score   support\n",
      "\n",
      "     class 0       0.80      0.67      0.73         6\n",
      "     class 1       0.20      0.25      0.22         4\n",
      "     class 2       0.80      0.80      0.80         5\n",
      "     class 3       0.60      1.00      0.75         3\n",
      "     class 4       0.60      0.60      0.60         5\n",
      "\n",
      "   micro avg       0.60      0.65      0.63        23\n",
      "   macro avg       0.60      0.66      0.62        23\n",
      "weighted avg       0.63      0.65      0.63        23\n",
      " samples avg       0.52      0.55      0.51        23\n",
      "\n"
     ]
    }
   ],
   "source": [
    "print(sklearn.metrics.classification_report(\n",
    "    y_true=target,\n",
    "    y_pred=predictions > .5,\n",
    "    target_names=[f'class {c}' for c in range(n_classes)],\n",
    "    zero_division=0\n",
    "))"
   ]
  },
  {
   "cell_type": "markdown",
   "metadata": {},
   "source": [
    "## Precision-Recall Curves\n",
    "Mock dataset with more samples and more classes:\n",
    "- 4 common classes appear in 90% of the samples\n",
    "- 4 balanced classes appear in 50% of the samples\n",
    "- 4 rare classes appear in 10% of the samples\n",
    "\n",
    "The mock classifier has learned one of the following behaviors:\n",
    "- ok: predict according to the true value with reasonable confidence\n",
    "- bias: predict 1 at random following the class percentage\n",
    "- zero: always predict 0\n",
    "- one: always predict 1"
   ]
  },
  {
   "cell_type": "code",
   "execution_count": 18,
   "metadata": {},
   "outputs": [
    {
     "data": {
      "text/html": [
       "<style  type=\"text/css\" >\n",
       "</style><table id=\"T_9bf90344_48cb_11ea_8f2b_2985bacae9f3\" ><thead>    <tr>        <th class=\"index_name level0\" >/</th>        <th class=\"col_heading level0 col0\" >Target</th>        <th class=\"col_heading level0 col1\" >Predictions</th>    </tr>    <tr>        <th class=\"index_name level0\" >Class - Result</th>        <th class=\"blank\" ></th>        <th class=\"blank\" ></th>    </tr></thead><tbody>\n",
       "                <tr>\n",
       "                        <th id=\"T_9bf90344_48cb_11ea_8f2b_2985bacae9f3level0_row0\" class=\"row_heading level0 row0\" >  common - ok  </th>\n",
       "                        <td id=\"T_9bf90344_48cb_11ea_8f2b_2985bacae9f3row0_col0\" class=\"data row0 col0\" >90.0%</td>\n",
       "                        <td id=\"T_9bf90344_48cb_11ea_8f2b_2985bacae9f3row0_col1\" class=\"data row0 col1\" >64.6%</td>\n",
       "            </tr>\n",
       "            <tr>\n",
       "                        <th id=\"T_9bf90344_48cb_11ea_8f2b_2985bacae9f3level0_row1\" class=\"row_heading level0 row1\" >  common - bias</th>\n",
       "                        <td id=\"T_9bf90344_48cb_11ea_8f2b_2985bacae9f3row1_col0\" class=\"data row1 col0\" >90.0%</td>\n",
       "                        <td id=\"T_9bf90344_48cb_11ea_8f2b_2985bacae9f3row1_col1\" class=\"data row1 col1\" >90.0%</td>\n",
       "            </tr>\n",
       "            <tr>\n",
       "                        <th id=\"T_9bf90344_48cb_11ea_8f2b_2985bacae9f3level0_row2\" class=\"row_heading level0 row2\" >  common - zero</th>\n",
       "                        <td id=\"T_9bf90344_48cb_11ea_8f2b_2985bacae9f3row2_col0\" class=\"data row2 col0\" >90.0%</td>\n",
       "                        <td id=\"T_9bf90344_48cb_11ea_8f2b_2985bacae9f3row2_col1\" class=\"data row2 col1\" >0.0%</td>\n",
       "            </tr>\n",
       "            <tr>\n",
       "                        <th id=\"T_9bf90344_48cb_11ea_8f2b_2985bacae9f3level0_row3\" class=\"row_heading level0 row3\" >  common - one </th>\n",
       "                        <td id=\"T_9bf90344_48cb_11ea_8f2b_2985bacae9f3row3_col0\" class=\"data row3 col0\" >90.0%</td>\n",
       "                        <td id=\"T_9bf90344_48cb_11ea_8f2b_2985bacae9f3row3_col1\" class=\"data row3 col1\" >100.0%</td>\n",
       "            </tr>\n",
       "            <tr>\n",
       "                        <th id=\"T_9bf90344_48cb_11ea_8f2b_2985bacae9f3level0_row4\" class=\"row_heading level0 row4\" >balanced - ok  </th>\n",
       "                        <td id=\"T_9bf90344_48cb_11ea_8f2b_2985bacae9f3row4_col0\" class=\"data row4 col0\" >49.2%</td>\n",
       "                        <td id=\"T_9bf90344_48cb_11ea_8f2b_2985bacae9f3row4_col1\" class=\"data row4 col1\" >50.6%</td>\n",
       "            </tr>\n",
       "            <tr>\n",
       "                        <th id=\"T_9bf90344_48cb_11ea_8f2b_2985bacae9f3level0_row5\" class=\"row_heading level0 row5\" >balanced - bias</th>\n",
       "                        <td id=\"T_9bf90344_48cb_11ea_8f2b_2985bacae9f3row5_col0\" class=\"data row5 col0\" >51.5%</td>\n",
       "                        <td id=\"T_9bf90344_48cb_11ea_8f2b_2985bacae9f3row5_col1\" class=\"data row5 col1\" >49.6%</td>\n",
       "            </tr>\n",
       "            <tr>\n",
       "                        <th id=\"T_9bf90344_48cb_11ea_8f2b_2985bacae9f3level0_row6\" class=\"row_heading level0 row6\" >balanced - zero</th>\n",
       "                        <td id=\"T_9bf90344_48cb_11ea_8f2b_2985bacae9f3row6_col0\" class=\"data row6 col0\" >51.6%</td>\n",
       "                        <td id=\"T_9bf90344_48cb_11ea_8f2b_2985bacae9f3row6_col1\" class=\"data row6 col1\" >0.0%</td>\n",
       "            </tr>\n",
       "            <tr>\n",
       "                        <th id=\"T_9bf90344_48cb_11ea_8f2b_2985bacae9f3level0_row7\" class=\"row_heading level0 row7\" >balanced - one </th>\n",
       "                        <td id=\"T_9bf90344_48cb_11ea_8f2b_2985bacae9f3row7_col0\" class=\"data row7 col0\" >50.5%</td>\n",
       "                        <td id=\"T_9bf90344_48cb_11ea_8f2b_2985bacae9f3row7_col1\" class=\"data row7 col1\" >100.0%</td>\n",
       "            </tr>\n",
       "            <tr>\n",
       "                        <th id=\"T_9bf90344_48cb_11ea_8f2b_2985bacae9f3level0_row8\" class=\"row_heading level0 row8\" >    rare - ok  </th>\n",
       "                        <td id=\"T_9bf90344_48cb_11ea_8f2b_2985bacae9f3row8_col0\" class=\"data row8 col0\" >10.0%</td>\n",
       "                        <td id=\"T_9bf90344_48cb_11ea_8f2b_2985bacae9f3row8_col1\" class=\"data row8 col1\" >33.6%</td>\n",
       "            </tr>\n",
       "            <tr>\n",
       "                        <th id=\"T_9bf90344_48cb_11ea_8f2b_2985bacae9f3level0_row9\" class=\"row_heading level0 row9\" >    rare - bias</th>\n",
       "                        <td id=\"T_9bf90344_48cb_11ea_8f2b_2985bacae9f3row9_col0\" class=\"data row9 col0\" >10.0%</td>\n",
       "                        <td id=\"T_9bf90344_48cb_11ea_8f2b_2985bacae9f3row9_col1\" class=\"data row9 col1\" >8.4%</td>\n",
       "            </tr>\n",
       "            <tr>\n",
       "                        <th id=\"T_9bf90344_48cb_11ea_8f2b_2985bacae9f3level0_row10\" class=\"row_heading level0 row10\" >    rare - zero</th>\n",
       "                        <td id=\"T_9bf90344_48cb_11ea_8f2b_2985bacae9f3row10_col0\" class=\"data row10 col0\" >10.0%</td>\n",
       "                        <td id=\"T_9bf90344_48cb_11ea_8f2b_2985bacae9f3row10_col1\" class=\"data row10 col1\" >0.0%</td>\n",
       "            </tr>\n",
       "            <tr>\n",
       "                        <th id=\"T_9bf90344_48cb_11ea_8f2b_2985bacae9f3level0_row11\" class=\"row_heading level0 row11\" >    rare - one </th>\n",
       "                        <td id=\"T_9bf90344_48cb_11ea_8f2b_2985bacae9f3row11_col0\" class=\"data row11 col0\" >10.0%</td>\n",
       "                        <td id=\"T_9bf90344_48cb_11ea_8f2b_2985bacae9f3row11_col1\" class=\"data row11 col1\" >100.0%</td>\n",
       "            </tr>\n",
       "    </tbody></table>"
      ],
      "text/plain": [
       "<pandas.io.formats.style.Styler at 0x7fd35a815190>"
      ]
     },
     "metadata": {},
     "output_type": "display_data"
    },
    {
     "name": "stdout",
     "output_type": "stream",
     "text": [
      "                 precision    recall  f1-score   support\n",
      "\n",
      "  common - ok         0.99      0.83      0.90       900\n",
      "  common - bias       0.90      0.90      0.90       900\n",
      "  common - zero       0.00      0.00      0.00       900\n",
      "  common - one        0.90      1.00      0.95       900\n",
      "balanced - ok         0.81      0.84      0.82       492\n",
      "balanced - bias       0.51      0.49      0.50       515\n",
      "balanced - zero       0.00      0.00      0.00       516\n",
      "balanced - one        0.51      1.00      0.67       505\n",
      "    rare - ok         0.40      0.88      0.55       100\n",
      "    rare - bias       0.11      0.09      0.10       100\n",
      "    rare - zero       0.00      0.00      0.00       100\n",
      "    rare - one        0.10      1.00      0.18       100\n",
      "\n",
      "      micro avg       0.64      0.63      0.64      6028\n",
      "      macro avg       0.43      0.59      0.46      6028\n",
      "   weighted avg       0.58      0.63      0.59      6028\n",
      "    samples avg       0.64      0.63      0.63      6028\n",
      "\n"
     ]
    }
   ],
   "source": [
    "n_samples = 1000\n",
    "\n",
    "classes = {\n",
    "    c: (class_type, classifier_result, f'{class_type:>8} - {classifier_result:<4}')\n",
    "    for c, (class_type, classifier_result) in \n",
    "    enumerate(product(\n",
    "        ['common', 'balanced', 'rare'],\n",
    "        ['ok', 'bias', 'zero', 'one']\n",
    "    ))\n",
    "}\n",
    "\n",
    "target = np.zeros((n_samples, len(classes)), dtype=np.int)\n",
    "predictions = np.zeros_like(target, dtype=np.float)\n",
    "\n",
    "for c, (class_type, classifier_result, _) in classes.items():\n",
    "    if class_type == 'common':\n",
    "        target[rg.permutation(n_samples)[:int(.90 * n_samples)], c] = 1\n",
    "    elif class_type == 'balanced':\n",
    "        target[:, c] = rg.uniform(size=n_samples) > .5\n",
    "    elif class_type == 'rare':\n",
    "        target[rg.permutation(n_samples)[:int(.10 * n_samples)], c] = 1\n",
    "        \n",
    "    if classifier_result == 'ok':\n",
    "        predictions[:, c] = np.where(target[:, c], .7, .3) + rg.normal(loc=0., scale=.2, size=n_samples)\n",
    "    elif classifier_result == 'bias':\n",
    "        predictions[:, c] = rg.uniform(size=n_samples) < (target[:, c].sum() / n_samples)\n",
    "    elif classifier_result == 'zero':\n",
    "        predictions[:, c] = 0.\n",
    "    elif classifier_result == 'one':\n",
    "        predictions[:, c] = 1.\n",
    "        \n",
    "predictions = predictions.clip(0, 1)\n",
    "        \n",
    "display(pd.DataFrame(\n",
    "    np.stack([target, predictions], axis=0).mean(axis=1), \n",
    "    index=pd.Index(['Target', 'Predictions'], name='/'), \n",
    "    columns=pd.Index([name for (*_, name) in classes.values()], name='Class - Result')\n",
    ").transpose().style.format('{:.1%}'))\n",
    "\n",
    "print(sklearn.metrics.classification_report(\n",
    "    y_true=target,\n",
    "    y_pred=predictions > .5,\n",
    "    target_names=[name for (*_, name) in classes.values()],\n",
    "    zero_division=0\n",
    "))"
   ]
  },
  {
   "cell_type": "markdown",
   "metadata": {},
   "source": [
    "Precision-Recall curves using _micro_ averaging, i.e. all predictions together."
   ]
  },
  {
   "cell_type": "code",
   "execution_count": 19,
   "metadata": {},
   "outputs": [
    {
     "data": {
      "image/png": "[encoded data removed]",
      "text/plain": [
       "<Figure size 1440x432 with 3 Axes>"
      ]
     },
     "metadata": {
      "needs_background": "light"
     },
     "output_type": "display_data"
    }
   ],
   "source": [
    "prec, rec, thres = sklearn.metrics.precision_recall_curve(\n",
    "    y_true=target.ravel(),\n",
    "    probas_pred=predictions.ravel(),\n",
    ")\n",
    "\n",
    "fig, axes = plt.subplots(1, 3, figsize=(20, 6))\n",
    "ax0, ax1, ax2 = axes.ravel()\n",
    "\n",
    "ax0.plot(thres, prec[:-1])\n",
    "ax0.set_xlabel('Thresholds')\n",
    "ax0.set_ylabel('Precision')\n",
    "ax0.set_title('Precision (micro)')\n",
    "\n",
    "ax1.plot(thres, rec[:-1])\n",
    "ax1.set_xlabel('Thresholds')\n",
    "ax1.set_ylabel('Recall')\n",
    "ax1.set_title('Recall (micro)')\n",
    "\n",
    "ax2.step(rec, prec, where='post')\n",
    "ax2.set_xlabel('Recall')\n",
    "ax2.set_ylabel('Precision')\n",
    "ax2.set_title('Precision - Recall (micro)');"
   ]
  },
  {
   "cell_type": "markdown",
   "metadata": {},
   "source": [
    "Per class plots:\n",
    "- Predictions that collapsed to all `1`s or all `0`s are not visible.\n",
    "- Thresholding has no effect on the precision of biased predictions, but they will have a declining recall.\n",
    "- Ok predictions have nice PR plots."
   ]
  },
  {
   "cell_type": "code",
   "execution_count": 20,
   "metadata": {},
   "outputs": [
    {
     "data": {
      "image/png": "[encoded data removed]",
      "text/plain": [
       "<Figure size 1440x432 with 3 Axes>"
      ]
     },
     "metadata": {
      "needs_background": "light"
     },
     "output_type": "display_data"
    }
   ],
   "source": [
    "fig, axes = plt.subplots(1, 3, figsize=(20, 6))\n",
    "ax0, ax1, ax2 = axes.ravel()\n",
    "\n",
    "linestyles = {'common': '-', 'balanced': '--', 'rare': '-.'}\n",
    "colors = {'ok': 'C0', 'zero': 'k', 'one': 'C1', 'bias': 'C2'}\n",
    "\n",
    "average_precisions = sklearn.metrics.average_precision_score(\n",
    "    y_true=target,\n",
    "    y_score=predictions,\n",
    "    average=None\n",
    ")\n",
    "\n",
    "for c, (class_type, classifier_result, name) in classes.items():\n",
    "    prec, rec, thres = sklearn.metrics.precision_recall_curve(\n",
    "        y_true=target[:, c],\n",
    "        probas_pred=predictions[:, c],\n",
    "    )\n",
    "    linestyle = linestyles[class_type]\n",
    "    col = colors[classifier_result]\n",
    "    lab = f'{name} ({average_precisions[c]:.2%})'\n",
    "    ax0.plot(thres, prec[:-1], c=col, linestyle=linestyle)\n",
    "    ax1.plot(thres, rec[:-1], c=col, linestyle=linestyle, label=lab)\n",
    "    ax2.step(rec, prec, where='post', c=col, linestyle=linestyle)\n",
    "\n",
    "ax0.set_xlabel('Thresholds')\n",
    "ax0.set_ylabel('Precision')\n",
    "ax0.set_title('Precision (per class)')\n",
    "\n",
    "ax1.set_xlabel('Thresholds')\n",
    "ax1.set_ylabel('Recall')\n",
    "ax1.set_title('Recall (per class)')\n",
    "ax1.legend(loc='lower center', ncol=3, bbox_to_anchor=(0, -.35, 1, 1))\n",
    "\n",
    "ax2.set_xlabel('Recall')\n",
    "ax2.set_ylabel('Precision')\n",
    "ax2.set_title('Precision - Recall (per class)');"
   ]
  }
 ],
 "metadata": {
  "kernelspec": {
   "display_name": "Python [conda env:eccv]",
   "language": "python",
   "name": "conda-env-eccv-py"
  },
  "language_info": {
   "codemirror_mode": {
    "name": "ipython",
    "version": 3
   },
   "file_extension": ".py",
   "mimetype": "text/x-python",
   "name": "python",
   "nbconvert_exporter": "python",
   "pygments_lexer": "ipython3",
   "version": "3.7.6"
  }
 },
 "nbformat": 4,
 "nbformat_minor": 2
}
