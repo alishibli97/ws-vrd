{
 "cells": [
  {
   "cell_type": "markdown",
   "metadata": {},
   "source": [
    "# UnRel\n",
    "\n",
    "[Website](https://www.di.ens.fr/willow/research/unrel/)"
   ]
  },
  {
   "cell_type": "code",
   "execution_count": 7,
   "metadata": {},
   "outputs": [],
   "source": [
    "%matplotlib inline\n",
    "import io\n",
    "import random\n",
    "from pathlib import Path\n",
    "from itertools import zip_longest\n",
    "from operator import itemgetter\n",
    "from collections import defaultdict\n",
    "\n",
    "import cv2\n",
    "import torch\n",
    "import scipy.io\n",
    "import numpy as np\n",
    "import pandas as pd\n",
    "import matplotlib.pyplot as plt\n",
    "\n",
    "from PIL import Image, UnidentifiedImageError\n",
    "from loguru import logger\n",
    "from IPython.display import display, Markdown, HTML\n",
    "from torchvision.ops.boxes import box_iou, nms, batched_nms\n",
    "from detectron2.structures import BoxMode\n",
    "\n",
    "from xib.datasets.vrd.metadata import OBJECTS, PREDICATES\n",
    "from xib.datasets.common import get_exif_orientation\n",
    "\n",
    "unrel_dir = Path('../../data/unrel/raw')"
   ]
  },
  {
   "cell_type": "code",
   "execution_count": 8,
   "metadata": {},
   "outputs": [
    {
     "name": "stdout",
     "output_type": "stream",
     "text": [
      "76\n",
      "('bike', 'above', 'person')\n",
      "('building', 'has', 'wheel')\n",
      "('car', 'above', 'road')\n",
      "('car', 'in', 'building')\n",
      "('car', 'in', 'tree')\n"
     ]
    }
   ],
   "source": [
    "triplets = [\n",
    "    tuple(s.replace(' ', '_') for s in t.item().item().split('-'))\n",
    "    for t in \n",
    "    scipy.io.loadmat(unrel_dir.joinpath('annotated_triplets.mat').as_posix())['triplets']\n",
    "]\n",
    "print(len(triplets))\n",
    "print(*triplets[:5], sep='\\n')"
   ]
  },
  {
   "cell_type": "code",
   "execution_count": 13,
   "metadata": {},
   "outputs": [],
   "source": [
    "samples = []\n",
    "\n",
    "for d in scipy.io.loadmat(unrel_dir.joinpath('annotations.mat').as_posix())['annotations']:\n",
    "    d = d.squeeze(0).item()\n",
    "    filename = d['filename'].item().item()\n",
    "    image_id = d['im_id'].item().item()\n",
    "    \n",
    "    img_path = unrel_dir / \"images\" / filename\n",
    "    try:\n",
    "        with Image.open(img_path.as_posix()) as img:\n",
    "            width, height = img.size\n",
    "            exif_orientation = get_exif_orientation(img)\n",
    "    except (FileNotFoundError, UnidentifiedImageError):\n",
    "        logger.warning(f\"Image not found/invalid {img_path}\")\n",
    "        continue\n",
    "\n",
    "    if exif_orientation is not None:\n",
    "        logger.warning(\n",
    "            f\"Image {img_path}\"\n",
    "            f\"has an EXIF orientation tag, \"\n",
    "            f\"check the corresponding boxes!\"\n",
    "        )\n",
    "        continue\n",
    "    \n",
    "    objects = {}\n",
    "    for o in d['objects'].item():\n",
    "        o = o.squeeze(0).item()\n",
    "        class_str = o['category'].item().item()\n",
    "        class_id = OBJECTS.get_id(class_str.replace(' ', '_'))\n",
    "        # xmin,ymin,xmax,ymax\n",
    "        box = tuple(o['box'].squeeze(0).item().squeeze(0))\n",
    "        \n",
    "        objects[(class_str, box)] = {\n",
    "            \"category_id\": class_id,\n",
    "            \"bbox\": box,\n",
    "            \"bbox_mode\": BoxMode.XYXY_ABS,\n",
    "            \"box_idx\": len(objects),\n",
    "        }\n",
    "        \n",
    "    relations = []\n",
    "    for r in d['relationships'].item():\n",
    "        r = r.squeeze(0).item()\n",
    "        subj_class_str = r['sub'].item().item()\n",
    "        subj_box = tuple(r['sub_box'].squeeze(0).item().squeeze(0))\n",
    "        subj_idx = objects[(subj_class_str, subj_box)]['box_idx']\n",
    "        \n",
    "        obj_class_str = r['obj'].item().item()\n",
    "        obj_box = tuple(r['obj_box'].squeeze(0).item().squeeze(0))\n",
    "        obj_idx = objects[(obj_class_str, obj_box)]['box_idx']\n",
    "        \n",
    "        for c in r['rels'].item():\n",
    "            c = c.item().item().replace(' ', '_')\n",
    "            relations.append({\n",
    "                \"category_id\": PREDICATES.get_id(c),\n",
    "                \"subject_idx\": subj_idx,\n",
    "                \"object_idx\": obj_idx,\n",
    "            })\n",
    "            \n",
    "    if len(relations) == 0:\n",
    "        logger.warning(\n",
    "            f\"Image {img_path}\" f\"has 0 annotated relations!\"\n",
    "        )\n",
    "    \n",
    "    samples.append({\n",
    "        'file_name': filename,\n",
    "        'image_id': image_id,\n",
    "        'width': width,\n",
    "        'height': height,\n",
    "        'annotations': sorted(objects.values(), key=itemgetter('box_idx')),\n",
    "        'relations': relations\n",
    "    })"
   ]
  },
  {
   "cell_type": "code",
   "execution_count": 16,
   "metadata": {},
   "outputs": [
    {
     "name": "stdout",
     "output_type": "stream",
     "text": [
      "#1122 1122.jpg  (H 584, W 876)\n",
      "Objects:\n",
      "- 0 person       (237, 74, 502, 583)\n",
      "- 1 plane        (247, 8, 381, 137)\n",
      "- 2 plane        (618, 55, 745, 115)\n",
      "Relations:\n",
      "- 0 person     hold           1 plane\n"
     ]
    },
    {
     "data": {
      "text/markdown": [
       "![1122.jpg](../../data/unrel/raw/images/1122.jpg)"
      ],
      "text/plain": [
       "<IPython.core.display.Markdown object>"
      ]
     },
     "metadata": {},
     "output_type": "display_data"
    },
    {
     "data": {
      "text/markdown": [
       "---"
      ],
      "text/plain": [
       "<IPython.core.display.Markdown object>"
      ]
     },
     "metadata": {},
     "output_type": "display_data"
    },
    {
     "name": "stdout",
     "output_type": "stream",
     "text": [
      "#269 269.jpg  (H 267, W 400)\n",
      "Objects:\n",
      "- 0 person       (61, 16, 317, 267)\n",
      "- 1 shoes        (27, 104, 95, 267)\n",
      "- 2 shoes        (282, 34, 365, 175)\n",
      "Relations:\n",
      "- 0 person     hold           1 shoes\n",
      "- 0 person     hold           2 shoes\n"
     ]
    },
    {
     "data": {
      "text/markdown": [
       "![269.jpg](../../data/unrel/raw/images/269.jpg)"
      ],
      "text/plain": [
       "<IPython.core.display.Markdown object>"
      ]
     },
     "metadata": {},
     "output_type": "display_data"
    },
    {
     "data": {
      "text/markdown": [
       "---"
      ],
      "text/plain": [
       "<IPython.core.display.Markdown object>"
      ]
     },
     "metadata": {},
     "output_type": "display_data"
    },
    {
     "name": "stdout",
     "output_type": "stream",
     "text": [
      "#910 910.jpg  (H 783, W 634)\n",
      "Objects:\n",
      "- 0 person       (134, 65, 517, 761)\n",
      "- 1 chair        (297, 23, 609, 499)\n",
      "Relations:\n",
      "- 0 person     carry          1 chair\n"
     ]
    },
    {
     "data": {
      "text/markdown": [
       "![910.jpg](../../data/unrel/raw/images/910.jpg)"
      ],
      "text/plain": [
       "<IPython.core.display.Markdown object>"
      ]
     },
     "metadata": {},
     "output_type": "display_data"
    },
    {
     "data": {
      "text/markdown": [
       "---"
      ],
      "text/plain": [
       "<IPython.core.display.Markdown object>"
      ]
     },
     "metadata": {},
     "output_type": "display_data"
    },
    {
     "name": "stdout",
     "output_type": "stream",
     "text": [
      "#965 965.jpg  (H 2580, W 2500)\n",
      "Objects:\n",
      "- 0 person       (136, 212, 2452, 2580)\n",
      "- 1 shoes        (44, 1108, 2476, 1500)\n",
      "Relations:\n",
      "- 0 person     hold           1 shoes\n"
     ]
    },
    {
     "data": {
      "text/markdown": [
       "![965.jpg](../../data/unrel/raw/images/965.jpg)"
      ],
      "text/plain": [
       "<IPython.core.display.Markdown object>"
      ]
     },
     "metadata": {},
     "output_type": "display_data"
    },
    {
     "data": {
      "text/markdown": [
       "---"
      ],
      "text/plain": [
       "<IPython.core.display.Markdown object>"
      ]
     },
     "metadata": {},
     "output_type": "display_data"
    },
    {
     "name": "stdout",
     "output_type": "stream",
     "text": [
      "#663 663.jpg  (H 445, W 633)\n",
      "Objects:\n",
      "- 0 person       (10, 75, 219, 443)\n",
      "- 1 person       (334, 69, 590, 445)\n",
      "- 2 car          (119, 271, 172, 297)\n",
      "- 3 car          (299, 251, 372, 283)\n",
      "Relations:\n",
      "- 0 person     hold           2 car\n",
      "- 1 person     hold           3 car\n"
     ]
    },
    {
     "data": {
      "text/markdown": [
       "![663.jpg](../../data/unrel/raw/images/663.jpg)"
      ],
      "text/plain": [
       "<IPython.core.display.Markdown object>"
      ]
     },
     "metadata": {},
     "output_type": "display_data"
    },
    {
     "data": {
      "text/markdown": [
       "---"
      ],
      "text/plain": [
       "<IPython.core.display.Markdown object>"
      ]
     },
     "metadata": {},
     "output_type": "display_data"
    },
    {
     "name": "stdout",
     "output_type": "stream",
     "text": [
      "#202 202.jpg  (H 630, W 964)\n",
      "Objects:\n",
      "- 0 shirt        (442, 246, 693, 470)\n",
      "- 1 dog          (429, 25, 745, 609)\n",
      "- 2 tie          (534, 252, 620, 434)\n",
      "- 3 shoes        (93, 299, 379, 520)\n",
      "Relations:\n",
      "- 1 dog        wear           0 shirt\n",
      "- 1 dog        wear           2 tie\n"
     ]
    },
    {
     "data": {
      "text/markdown": [
       "![202.jpg](../../data/unrel/raw/images/202.jpg)"
      ],
      "text/plain": [
       "<IPython.core.display.Markdown object>"
      ]
     },
     "metadata": {},
     "output_type": "display_data"
    },
    {
     "data": {
      "text/markdown": [
       "---"
      ],
      "text/plain": [
       "<IPython.core.display.Markdown object>"
      ]
     },
     "metadata": {},
     "output_type": "display_data"
    },
    {
     "name": "stdout",
     "output_type": "stream",
     "text": [
      "#25 25.jpg  (H 467, W 634)\n",
      "Objects:\n",
      "- 0 building     (134, 90, 605, 403)\n",
      "- 1 wheel        (230, 329, 272, 383)\n",
      "- 2 wheel        (270, 334, 317, 393)\n",
      "- 3 wheel        (107, 313, 132, 350)\n",
      "- 4 wheel        (49, 311, 70, 341)\n",
      "- 5 car          (49, 266, 150, 351)\n",
      "Relations:\n",
      "- 0 building   has            1 wheel\n",
      "- 0 building   has            2 wheel\n"
     ]
    },
    {
     "data": {
      "text/markdown": [
       "![25.jpg](../../data/unrel/raw/images/25.jpg)"
      ],
      "text/plain": [
       "<IPython.core.display.Markdown object>"
      ]
     },
     "metadata": {},
     "output_type": "display_data"
    },
    {
     "data": {
      "text/markdown": [
       "---"
      ],
      "text/plain": [
       "<IPython.core.display.Markdown object>"
      ]
     },
     "metadata": {},
     "output_type": "display_data"
    },
    {
     "name": "stdout",
     "output_type": "stream",
     "text": [
      "#46 46.jpg  (H 804, W 604)\n",
      "Objects:\n",
      "- 0 car          (187, 86, 458, 210)\n",
      "- 1 tree         (23, 1, 511, 332)\n",
      "- 2 person       (176, 330, 410, 797)\n",
      "Relations:\n",
      "- 0 car        in             1 tree\n"
     ]
    },
    {
     "data": {
      "text/markdown": [
       "![46.jpg](../../data/unrel/raw/images/46.jpg)"
      ],
      "text/plain": [
       "<IPython.core.display.Markdown object>"
      ]
     },
     "metadata": {},
     "output_type": "display_data"
    },
    {
     "data": {
      "text/markdown": [
       "---"
      ],
      "text/plain": [
       "<IPython.core.display.Markdown object>"
      ]
     },
     "metadata": {},
     "output_type": "display_data"
    },
    {
     "name": "stdout",
     "output_type": "stream",
     "text": [
      "#292 292.jpg  (H 438, W 274)\n",
      "Objects:\n",
      "- 0 person       (50, 195, 198, 382)\n",
      "- 1 refrigerator (3, 1, 274, 419)\n",
      "Relations:\n",
      "- 0 person     in             1 refrigerator\n"
     ]
    },
    {
     "data": {
      "text/markdown": [
       "![292.jpg](../../data/unrel/raw/images/292.jpg)"
      ],
      "text/plain": [
       "<IPython.core.display.Markdown object>"
      ]
     },
     "metadata": {},
     "output_type": "display_data"
    },
    {
     "data": {
      "text/markdown": [
       "---"
      ],
      "text/plain": [
       "<IPython.core.display.Markdown object>"
      ]
     },
     "metadata": {},
     "output_type": "display_data"
    },
    {
     "name": "stdout",
     "output_type": "stream",
     "text": [
      "#916 916.jpg  (H 311, W 460)\n",
      "Objects:\n",
      "- 0 person       (288, 36, 380, 284)\n",
      "- 1 chair        (280, 109, 447, 261)\n",
      "Relations:\n",
      "- 0 person     carry          1 chair\n"
     ]
    },
    {
     "data": {
      "text/markdown": [
       "![916.jpg](../../data/unrel/raw/images/916.jpg)"
      ],
      "text/plain": [
       "<IPython.core.display.Markdown object>"
      ]
     },
     "metadata": {},
     "output_type": "display_data"
    },
    {
     "data": {
      "text/markdown": [
       "---"
      ],
      "text/plain": [
       "<IPython.core.display.Markdown object>"
      ]
     },
     "metadata": {},
     "output_type": "display_data"
    }
   ],
   "source": [
    "def data_dict_to_str(d):\n",
    "    res = []\n",
    "    res.append(f\"#{d['image_id']} {d['file_name']}  (H {d['height']}, W {d['width']})\")\n",
    "    \n",
    "    res.append('Objects:')\n",
    "    for o in d['annotations']:\n",
    "        res.append(f\"- {o['box_idx']} {OBJECTS.get_str(o['category_id']):<12} {o['bbox']}\")\n",
    "    \n",
    "    res.append('Relations:')\n",
    "    for r in d['relations']:\n",
    "        res.append(\n",
    "            f\"- {r['subject_idx']} {OBJECTS.get_str(d['annotations'][r['subject_idx']]['category_id']):<10} \"\n",
    "            f\"{PREDICATES.get_str(r['category_id']):<15}\"\n",
    "            f\"{r['object_idx']} {OBJECTS.get_str(d['annotations'][r['object_idx']]['category_id'])}\"\n",
    "        )\n",
    "    return '\\n'.join(res)\n",
    "    \n",
    "for s in random.sample(samples, 10):\n",
    "    print(data_dict_to_str(s))\n",
    "    display(Markdown(f\"![{s['file_name']}]({unrel_dir / 'images' /s['file_name']})\"))\n",
    "    display(Markdown('---'))"
   ]
  }
 ],
 "metadata": {
  "kernelspec": {
   "display_name": "Python [conda env:eccv]",
   "language": "python",
   "name": "conda-env-eccv-py"
  },
  "language_info": {
   "codemirror_mode": {
    "name": "ipython",
    "version": 3
   },
   "file_extension": ".py",
   "mimetype": "text/x-python",
   "name": "python",
   "nbconvert_exporter": "python",
   "pygments_lexer": "ipython3",
   "version": "3.7.6"
  }
 },
 "nbformat": 4,
 "nbformat_minor": 2
}
